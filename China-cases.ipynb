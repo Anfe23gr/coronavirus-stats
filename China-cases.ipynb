{
 "cells": [
  {
   "cell_type": "code",
   "execution_count": 1,
   "metadata": {},
   "outputs": [],
   "source": [
    "import pandas as pd\n",
    "import requests\n",
    "from bs4 import BeautifulSoup\n",
    "import re\n",
    "from datetime import datetime\n",
    "from selenium import webdriver\n",
    "from selenium.webdriver.chrome.options import Options  \n"
   ]
  },
  {
   "cell_type": "code",
   "execution_count": 2,
   "metadata": {},
   "outputs": [
    {
     "data": {
      "text/plain": [
       "datetime.datetime(2020, 2, 24, 7, 8, 52, 132740)"
      ]
     },
     "execution_count": 2,
     "metadata": {},
     "output_type": "execute_result"
    }
   ],
   "source": [
    "datetime.now()"
   ]
  },
  {
   "cell_type": "code",
   "execution_count": 3,
   "metadata": {},
   "outputs": [],
   "source": [
    "chrome_options = Options()  \n",
    "chrome_options.add_argument(\"--headless\")  \n",
    "chrome_options.add_argument(\"--no-sandbox\")\n",
    "\n",
    "driver = webdriver.Chrome('chromedriver', options=chrome_options)"
   ]
  },
  {
   "cell_type": "code",
   "execution_count": 4,
   "metadata": {},
   "outputs": [],
   "source": [
    "url = 'https://ncov.dxy.cn/ncovh5/view/pneumonia'\n",
    "driver.get(url)"
   ]
  },
  {
   "cell_type": "markdown",
   "metadata": {},
   "source": [
    "### Extract date"
   ]
  },
  {
   "cell_type": "code",
   "execution_count": 5,
   "metadata": {},
   "outputs": [],
   "source": [
    "content = driver.page_source\n",
    "soup =BeautifulSoup(content, 'lxml')\n"
   ]
  },
  {
   "cell_type": "code",
   "execution_count": 6,
   "metadata": {},
   "outputs": [
    {
     "data": {
      "text/plain": [
       "['try { window.getIndexRumorList = [{\"id\":173,\"title\":\"十年前就有人预测疫情？\",\"mainSummary\":\"上海图书馆查证：没有找到传闻里提到的这本书，同名文章也没有相关内容\",\"summary\":\"\",\"body\":\"网传「陈国生写的一本叫《实证化中医基础理论及运用》的书在十年前预言了这次肺炎疫情」。上海图书馆进行了查证，没有检索到这本书。\\\\n在万方数据库里，可以查得陈国生所写《实证化中医基础理论依据及应用》这篇文章，发表在《2011 年全国天灾预测研讨学术会议论文集》中，题名和网传有一字之差，但能够对上年份和会议名称。但并未发现涉及任何与疫情预测相关的内容。\",\"sourceUrl\":\"\",\"score\":183,\"rumorType\":0},{\"id\":172,\"title\":\"美 1.4 万流感死者或部分死于新冠？\",\"mainSummary\":\"美国疾控中心独家回应：目前无证据支持\",\"summary\":\"\",\"body\":\"针对日本朝日电视台此前惊人猜测「美国 1.4 万名因流感致死的人中部分可能死于新冠肺炎」，美国疾控中心（CDC）22 日回应环球时报-环球网记者表示，到目前为止，CDC 没有证据支持日本朝日电视台的相关猜测。\\\\nCDC 同时确认，截至 22 日晚，美国一共有 35 例新冠肺炎确诊病例。\",\"sourceUrl\":\"\",\"score\":182,\"rumorType\":2},{\"id\":171,\"title\":\"体温枪伤眼，造成永久伤害？\",\"mainSummary\":\"浙江省眼科医院眼底病中心医生毛剑波：别多虑，如果觉得不舒服，闭眼即可\",\"summary\":\"\",\"body\":\"杭州日报就此问题采访了浙江省眼科医院杭州院区眼底病中心医生毛剑波，他表示，红外线测温的原理是接收物体发射的红外线，温度高的物体发射的红外线量大，温度低的物体发射的红外线量小。红外线测温枪不会主动照射被测物体，所以不用太担心。该测体温的，还是需要配合，如果觉得不舒服，闭眼即可。\",\"sourceUrl\":\"\",\"score\":181,\"rumorType\":0},{\"id\":22,\"title\":\"燃放烟花可以预防新冠病毒?\",\"mainSummary\":\"丁香医生团队辟谣：不仅不能「杀毒」，还对健康有害\",\"summary\":\"\",\"body\":\"燃放烟花爆竹产生的气体并不能杀死新型冠状病毒，除此之外，燃放烟花爆竹产生的二氧化硫还对人体健康有害，如对呼吸系统产生刺激，还有消防隐患，危机生命财产安全。\",\"sourceUrl\":\"\",\"score\":180,\"rumorType\":0},{\"id\":168,\"title\":\"磷酸氯喹就是原来的土霉素？\",\"mainSummary\":\"丁香医生团队辟谣：土霉素和磷酸氯喹的分子式不同，化学结构不同，所属药物类别也不同\",\"summary\":\"\",\"body\":\"土霉素属于四环素类的抗生素，通常用作治疗流行性伤寒，羌虫病，支原体和衣原体感染等等。因使用后易发生「四环素牙」、二重感染等不良反应，已经逐步被不良反应风险更小，药效更好的抗生素所取代。磷酸氯喹通常用做治疗疟疾，土霉素和磷酸氯喹的分子式不同，化学结构不同，所属药物类别也不同。是完全风马牛不相及的两种药物。有研究显示磷酸氯喹对新型冠状病毒肺炎可能有效。\",\"sourceUrl\":\"\",\"score\":179,\"rumorType\":0},{\"id\":170,\"title\":\"俄罗斯证实新冠病毒系人工合成？\",\"mainSummary\":\"俄卫生部回应：从未指出病毒是人工合成\",\"summary\":\"\",\"body\":\"有传言称：「新冠病毒经过俄罗斯科学家验证证明系人工合成病毒，相关文件也已公布在俄卫生部官网」。环球网记者 21 日登录俄卫生部官网进行查询，并未发现与「新冠病毒系人工合成」有关的信息。21 日稍晚时候，俄罗斯卫星社发文称，其联系到了俄联邦卫生部，就上述传言给出回应：「俄罗斯联邦卫生部《新冠状病毒感染预防、诊断和治疗临时方法建议》中，从未指出病毒是人工的。」\",\"sourceUrl\":\"\",\"score\":178,\"rumorType\":0},{\"id\":167,\"title\":\"每次外出回家都需要洗头？\",\"mainSummary\":\"中国疾控中心研究员冯录召：一般情况下，公众外出回家后不需要专门洗头或消毒\",\"summary\":\"\",\"body\":\"人感染病毒需要一定的条件，比如飞沫中的病毒量、病毒活性等。目前研究显示病毒对紫外线和热敏感，正常情况下，外出到室外或一般公共场所头发沾到高浓度且含有活病毒的飞沫可能性极低，保持头发的日常清洁即可。\",\"sourceUrl\":\"\",\"score\":177,\"rumorType\":0},{\"id\":169,\"title\":\"新冠病毒会通过皮肤侵入人体？\",\"mainSummary\":\"中科院院士周琪：新冠病毒不能通过皮肤侵入人体\",\"summary\":\"\",\"body\":\"21 日，国务院应对新型冠状病毒感染肺炎疫情联防联控机制举行新闻发布会。针对病毒是怎么侵入人体的问题，周琪解释：病毒主要是从人体黏膜侵入，如口腔、鼻腔和眼部，因此必须做好对这些部位的重点防护。周琪指出，科学试验证明，新冠病毒是不会通过皮肤传播的。即使如大家担心的粪口传播，只要保持正确的洗手方法和养成勤洗手的习惯，也可避免病毒通过这些途径传播。\",\"sourceUrl\":\"\",\"score\":176,\"rumorType\":0},{\"id\":162,\"title\":\"新冠病毒可能会长期存在？\",\"mainSummary\":\"中国工程院副院长王辰：可能性是完全存在的，我们要做好准备\",\"summary\":\"\",\"body\":\"2 月 19 日央视新闻频道《新闻 1 + 1》，主持人白岩松连线中国工程院副院长、呼吸与危重症医学专家王辰。对于是否有可能要做好与新冠病毒长期共存的准备，王辰表示「像这个病（新冠病毒）我们就是说有可能转成慢性的，像流感一样长期在人间存在的病。这种可能性是完全存在的，对此我们要做好准备。」\",\"sourceUrl\":\"\",\"score\":174,\"rumorType\":1},{\"id\":166,\"title\":\"牛蛙被列入禁食名单？\",\"mainSummary\":\"相关部门：未发布相关名单\",\"summary\":\"\",\"body\":\"国家市场监管总局、农业农村部、国家林草局三部委日前发布关于禁止野生动物交易的公告，要求全国疫情解除期间，禁止野生动物交易活动。近日，网传一份名单显示，牛蛙也被禁止经营销售。中新社记者向相关部门了解获悉，三部委尚未发布相关禁食名单，也没有见过这一名单。\",\"sourceUrl\":\"\",\"score\":173,\"rumorType\":0}]}catch(e){}',\n",
       " '截至 2020-02-24 06:52 全国数据统计',\n",
       " '针对日本朝日电视台此前惊人猜测「美国 1.4 万名因流感致死的人中部分可能死于新冠肺炎」，美国疾控中心（CDC）22 日回应环球时报-环球网记者表示，到目前为止，CDC 没有证据支持日本朝日电视台的相关猜测。\\nCDC 同时确认，截至 22 日晚，美国一共有 35 例新冠肺炎确诊病例。',\n",
       " '针对日本朝日电视台此前惊人猜测「美国 1.4 万名因流感致死的人中部分可能死于新冠肺炎」，美国疾控中心（CDC）22 日回应环球时报-环球网记者表示，到目前为止，CDC 没有证据支持日本朝日电视台的相关猜测。\\nCDC 同时确认，截至 22 日晚，美国一共有 35 例新冠肺炎确诊病例。']"
      ]
     },
     "execution_count": 6,
     "metadata": {},
     "output_type": "execute_result"
    }
   ],
   "source": [
    "data = soup.findAll(text=re.compile(\"截至 .+\"))\n",
    "data"
   ]
  },
  {
   "cell_type": "code",
   "execution_count": 7,
   "metadata": {},
   "outputs": [
    {
     "data": {
      "text/plain": [
       "'2020-02-24 06:52'"
      ]
     },
     "execution_count": 7,
     "metadata": {},
     "output_type": "execute_result"
    }
   ],
   "source": [
    "for s in data:\n",
    "    m = re.search(\"截至 (202\\d-\\d+-\\d+ \\d+:\\d+)\", s)\n",
    "    if m is not None:\n",
    "        data_date_time = m.group(1)\n",
    "data_date_time"
   ]
  },
  {
   "cell_type": "markdown",
   "metadata": {},
   "source": [
    "### Extract data (summary)"
   ]
  },
  {
   "cell_type": "code",
   "execution_count": 8,
   "metadata": {},
   "outputs": [
    {
     "data": {
      "text/plain": [
       "['try { window.getStatisticsService = {\"id\":1,\"createTime\":1579537899000,\"modifyTime\":1582527149000,\"infectSource\":\"该字段已替换为说明2\",\"passWay\":\"该字段已替换为说明3\",\"imgUrl\":\"https://img1.dxycdn.com/2020/0201/450/3394153392393266839-135.png\",\"dailyPic\":\"https://img1.dxycdn.com/2020/0211/763/3395998884005602079-135.png,https://img1.dxycdn.com/2020/0211/362/3395998896890788910-135.png,https://img1.dxycdn.com/2020/0211/365/3395998905480724211-135.png,https://img1.dxycdn.com/2020/0211/364/3395998916217859778-135.png,https://img1.dxycdn.com/2020/0211/922/3395998929103046444-135.png,https://img1.dxycdn.com/2020/0211/089/3395998939840182072-135.png\",\"dailyPics\":[\"https://img1.dxycdn.com/2020/0211/763/3395998884005602079-135.png\",\"https://img1.dxycdn.com/2020/0211/362/3395998896890788910-135.png\",\"https://img1.dxycdn.com/2020/0211/365/3395998905480724211-135.png\",\"https://img1.dxycdn.com/2020/0211/364/3395998916217859778-135.png\",\"https://img1.dxycdn.com/2020/0211/922/3395998929103046444-135.png\",\"https://img1.dxycdn.com/2020/0211/089/3395998939840182072-135.png\"],\"summary\":\"\",\"deleted\":false,\"countRemark\":\"\",\"currentConfirmedCount\":49828,\"confirmedCount\":77262,\"suspectedCount\":3434,\"curedCount\":24839,\"deadCount\":2595,\"seriousCount\":9915,\"suspectedIncr\":620,\"currentConfirmedIncr\":-1666,\"confirmedIncr\":416,\"curedIncr\":1932,\"deadIncr\":150,\"seriousIncr\":-1053,\"virus\":\"该字段已替换为说明1\",\"remark1\":\"易感人群：人群普遍易感。老年人及有基础疾病者感染后病情较重，儿童及婴幼儿也有发病\",\"remark2\":\"潜伏期：一般为 3～7 天，最长不超过 14 天，潜伏期内可能存在传染性，其中无症状病例传染性非常罕见\",\"remark3\":\"宿主：野生动物，可能为中华菊头蝠\",\"remark4\":\"\",\"remark5\":\"\",\"note1\":\"病毒：SARS-CoV-2，其导致疾病命名 COVID-19\",\"note2\":\"传染源：新冠肺炎的患者。无症状感染者也可能成为传染源。\",\"note3\":\"传播途径：经呼吸道飞沫、接触传播是主要的传播途径。气溶胶传播和消化道等传播途径尚待明确。\",\"generalRemark\":\"疑似病例数来自国家卫健委数据，目前为全国数据，未分省市自治区等\",\"abroadRemark\":\"\",\"marquee\":[{\"id\":684,\"marqueeLabel\":\"资讯\",\"marqueeContent\":\"黄文军医生因新冠肺炎去世\",\"marqueeLink\":\"https://dxy.me/KZmZh4\"},{\"id\":685,\"marqueeLabel\":\"资讯\",\"marqueeContent\":\"韩国将疫情预警上调至最高级别\",\"marqueeLink\":\"https://dxy.me/87GEWi\"}],\"quanguoTrendChart\":[{\"imgUrl\":\"https://img1.dxycdn.com/2020/0224/011/3398428461105856729-135.png\",\"title\":\"新增疑似/新增确诊\"},{\"imgUrl\":\"https://img1.dxycdn.com/2020/0224/603/3398428471842926107-135.png\",\"title\":\"现存确诊/现存疑似\"},{\"imgUrl\":\"https://img1.dxycdn.com/2020/0224/976/3398429107498117664-135.png\",\"title\":\"死亡/治愈\"},{\"imgUrl\":\"https://img1.dxycdn.com/2020/0224/773/3398428493318113171-135.png\",\"title\":\"病死率\"},{\"imgUrl\":\"https://img1.dxycdn.com/2020/0224/787/3398428504055531879-135.png\",\"title\":\"治愈率\"}],\"hbFeiHbTrendChart\":[{\"imgUrl\":\"https://img1.dxycdn.com/2020/0224/287/3398428523382536269-135.png\",\"title\":\"湖北新增确诊\"},{\"imgUrl\":\"https://img1.dxycdn.com/2020/0224/823/3398428531972471442-135.png\",\"title\":\"非湖北新增确诊\"},{\"imgUrl\":\"https://img1.dxycdn.com/2020/0224/292/3398428544857723260-135.png\",\"title\":\"湖北现存确诊\"},{\"imgUrl\":\"https://img1.dxycdn.com/2020/0224/955/3398428559890109423-135.png\",\"title\":\"非湖北现存确诊\"},{\"imgUrl\":\"https://img1.dxycdn.com/2020/0224/650/3398428574922495743-135.png\",\"title\":\"治愈/死亡\"}]}}catch(e){}']"
      ]
     },
     "execution_count": 8,
     "metadata": {},
     "output_type": "execute_result"
    }
   ],
   "source": [
    "data = soup.findAll(text=re.compile('\\\"summary.+\\\"confirmedCount\\\":\\d'))\n",
    "\n",
    "data\n"
   ]
  },
  {
   "cell_type": "code",
   "execution_count": 9,
   "metadata": {},
   "outputs": [],
   "source": [
    "m = re.search('\\\"confirmedCount\\\":(\\d+)', data[0])\n",
    "summary_confirmed_count = int(m.group(1))\n",
    "\n",
    "\n",
    "m = re.search('\\\"curedCount\\\":(\\d+)', data[0])\n",
    "summary_cured_count = int(m.group(1))\n",
    "\n",
    "m = re.search('\\\"deadCount\\\":(\\d+)', data[0])\n",
    "summary_dead_count = int(m.group(1))\n"
   ]
  },
  {
   "cell_type": "code",
   "execution_count": 10,
   "metadata": {},
   "outputs": [
    {
     "data": {
      "text/html": [
       "<div>\n",
       "<style scoped>\n",
       "    .dataframe tbody tr th:only-of-type {\n",
       "        vertical-align: middle;\n",
       "    }\n",
       "\n",
       "    .dataframe tbody tr th {\n",
       "        vertical-align: top;\n",
       "    }\n",
       "\n",
       "    .dataframe thead th {\n",
       "        text-align: right;\n",
       "    }\n",
       "</style>\n",
       "<table border=\"1\" class=\"dataframe\">\n",
       "  <thead>\n",
       "    <tr style=\"text-align: right;\">\n",
       "      <th></th>\n",
       "      <th>datetime</th>\n",
       "      <th>confirmed</th>\n",
       "      <th>cured</th>\n",
       "      <th>dead</th>\n",
       "    </tr>\n",
       "  </thead>\n",
       "  <tbody>\n",
       "    <tr>\n",
       "      <th>0</th>\n",
       "      <td>2020-02-24 06:52</td>\n",
       "      <td>77262</td>\n",
       "      <td>24839</td>\n",
       "      <td>2595</td>\n",
       "    </tr>\n",
       "  </tbody>\n",
       "</table>\n",
       "</div>"
      ],
      "text/plain": [
       "           datetime  confirmed  cured  dead\n",
       "0  2020-02-24 06:52      77262  24839  2595"
      ]
     },
     "execution_count": 10,
     "metadata": {},
     "output_type": "execute_result"
    }
   ],
   "source": [
    "# make a dataframe\n",
    "df = pd.DataFrame({\n",
    "    'datetime': data_date_time,\n",
    "    'confirmed': summary_confirmed_count,\n",
    "    'cured': summary_cured_count,\n",
    "    'dead': summary_dead_count\n",
    "}, index=[0])\n",
    "df"
   ]
  },
  {
   "cell_type": "markdown",
   "metadata": {},
   "source": [
    "### Save to file"
   ]
  },
  {
   "cell_type": "code",
   "execution_count": 11,
   "metadata": {},
   "outputs": [],
   "source": [
    "from pathlib import Path\n",
    "csv_file = 'data/china-summary-cases.csv'\n",
    "\n",
    "if Path(csv_file).exists():\n",
    "    # read out the old data - then merge with new data and remove duplicates based on datetime\n",
    "    old_df = pd.read_csv(csv_file)\n",
    "    df = df.append(old_df)\n",
    "df.drop_duplicates(subset=['datetime'], inplace=True)"
   ]
  },
  {
   "cell_type": "code",
   "execution_count": 12,
   "metadata": {},
   "outputs": [],
   "source": [
    "df.sort_values(by=['datetime'], inplace=True)\n",
    "\n",
    "df.to_csv(csv_file, index=False)\n"
   ]
  },
  {
   "cell_type": "markdown",
   "metadata": {},
   "source": [
    "### Plot graph"
   ]
  },
  {
   "cell_type": "code",
   "execution_count": 13,
   "metadata": {},
   "outputs": [],
   "source": [
    "import seaborn as sns\n",
    "import matplotlib.pyplot as plt\n",
    "from pandas.plotting import register_matplotlib_converters\n",
    "register_matplotlib_converters()\n",
    "\n",
    "png_file = 'images/china-summary-cases.png'\n",
    "# convert to pd.datetime\n",
    "df['datetime_idx'] = pd.to_datetime(df['datetime'], format=\"%Y-%m-%d %H:%M\")\n",
    "\n",
    "df.set_index('datetime_idx', inplace=True)\n",
    "df.drop(['datetime'], axis=1, inplace=True)\n"
   ]
  },
  {
   "cell_type": "code",
   "execution_count": 14,
   "metadata": {},
   "outputs": [
    {
     "data": {
      "text/html": [
       "<div>\n",
       "<style scoped>\n",
       "    .dataframe tbody tr th:only-of-type {\n",
       "        vertical-align: middle;\n",
       "    }\n",
       "\n",
       "    .dataframe tbody tr th {\n",
       "        vertical-align: top;\n",
       "    }\n",
       "\n",
       "    .dataframe thead th {\n",
       "        text-align: right;\n",
       "    }\n",
       "</style>\n",
       "<table border=\"1\" class=\"dataframe\">\n",
       "  <thead>\n",
       "    <tr style=\"text-align: right;\">\n",
       "      <th></th>\n",
       "      <th>confirmed</th>\n",
       "      <th>cured</th>\n",
       "      <th>dead</th>\n",
       "    </tr>\n",
       "    <tr>\n",
       "      <th>datetime_idx</th>\n",
       "      <th></th>\n",
       "      <th></th>\n",
       "      <th></th>\n",
       "    </tr>\n",
       "  </thead>\n",
       "  <tbody>\n",
       "    <tr>\n",
       "      <th>2020-02-02 10:22:00</th>\n",
       "      <td>14483</td>\n",
       "      <td>379</td>\n",
       "      <td>304</td>\n",
       "    </tr>\n",
       "    <tr>\n",
       "      <th>2020-02-02 10:28:00</th>\n",
       "      <td>14483</td>\n",
       "      <td>380</td>\n",
       "      <td>304</td>\n",
       "    </tr>\n",
       "    <tr>\n",
       "      <th>2020-02-02 11:19:00</th>\n",
       "      <td>14489</td>\n",
       "      <td>385</td>\n",
       "      <td>304</td>\n",
       "    </tr>\n",
       "    <tr>\n",
       "      <th>2020-02-02 11:54:00</th>\n",
       "      <td>14489</td>\n",
       "      <td>397</td>\n",
       "      <td>304</td>\n",
       "    </tr>\n",
       "    <tr>\n",
       "      <th>2020-02-02 15:01:00</th>\n",
       "      <td>14490</td>\n",
       "      <td>430</td>\n",
       "      <td>304</td>\n",
       "    </tr>\n",
       "    <tr>\n",
       "      <th>...</th>\n",
       "      <td>...</td>\n",
       "      <td>...</td>\n",
       "      <td>...</td>\n",
       "    </tr>\n",
       "    <tr>\n",
       "      <th>2020-02-24 01:59:00</th>\n",
       "      <td>77059</td>\n",
       "      <td>23359</td>\n",
       "      <td>2446</td>\n",
       "    </tr>\n",
       "    <tr>\n",
       "      <th>2020-02-24 03:08:00</th>\n",
       "      <td>77262</td>\n",
       "      <td>24758</td>\n",
       "      <td>2595</td>\n",
       "    </tr>\n",
       "    <tr>\n",
       "      <th>2020-02-24 03:36:00</th>\n",
       "      <td>77262</td>\n",
       "      <td>24758</td>\n",
       "      <td>2595</td>\n",
       "    </tr>\n",
       "    <tr>\n",
       "      <th>2020-02-24 04:39:00</th>\n",
       "      <td>77262</td>\n",
       "      <td>24758</td>\n",
       "      <td>2595</td>\n",
       "    </tr>\n",
       "    <tr>\n",
       "      <th>2020-02-24 06:52:00</th>\n",
       "      <td>77262</td>\n",
       "      <td>24839</td>\n",
       "      <td>2595</td>\n",
       "    </tr>\n",
       "  </tbody>\n",
       "</table>\n",
       "<p>330 rows × 3 columns</p>\n",
       "</div>"
      ],
      "text/plain": [
       "                     confirmed  cured  dead\n",
       "datetime_idx                               \n",
       "2020-02-02 10:22:00      14483    379   304\n",
       "2020-02-02 10:28:00      14483    380   304\n",
       "2020-02-02 11:19:00      14489    385   304\n",
       "2020-02-02 11:54:00      14489    397   304\n",
       "2020-02-02 15:01:00      14490    430   304\n",
       "...                        ...    ...   ...\n",
       "2020-02-24 01:59:00      77059  23359  2446\n",
       "2020-02-24 03:08:00      77262  24758  2595\n",
       "2020-02-24 03:36:00      77262  24758  2595\n",
       "2020-02-24 04:39:00      77262  24758  2595\n",
       "2020-02-24 06:52:00      77262  24839  2595\n",
       "\n",
       "[330 rows x 3 columns]"
      ]
     },
     "execution_count": 14,
     "metadata": {},
     "output_type": "execute_result"
    }
   ],
   "source": [
    "df"
   ]
  },
  {
   "cell_type": "code",
   "execution_count": 15,
   "metadata": {},
   "outputs": [
    {
     "data": {
      "image/png": "[encoded data removed]",
      "text/plain": [
       "<Figure size 1008x1008 with 3 Axes>"
      ]
     },
     "metadata": {},
     "output_type": "display_data"
    }
   ],
   "source": [
    "if df.shape[0]>1:\n",
    "    # line chart when having at least a few points\n",
    "    sns.set(rc={'figure.figsize':(14,14)})\n",
    "\n",
    "    fig, axs = plt.subplots(nrows=3)\n",
    "\n",
    "    sns.lineplot(x=df.index, y = 'confirmed', data=df, ax= axs[0], estimator=None, color='orange')\n",
    "    sns.lineplot(x=df.index, y = 'cured', data=df, ax= axs[1], estimator=None, color='green')\n",
    "    sns.lineplot(x=df.index, y = 'dead', data=df, ax= axs[2], estimator=None, color='darkred')\n",
    "\n",
    "    for ax in axs:\n",
    "        ax.set_xlabel('')\n",
    "        ax.tick_params(axis='x', labelrotation=30)\n",
    "else:\n",
    "\n",
    "    ax = df.plot(kind='bar', stacked=True, figsize=(9,6))\n",
    "    fig = ax.get_figure()\n",
    "    ax.set_xlabel('')\n",
    "    for label in ax.get_xticklabels():\n",
    "        label.set_rotation(0) \n"
   ]
  },
  {
   "cell_type": "code",
   "execution_count": 16,
   "metadata": {},
   "outputs": [],
   "source": [
    "fig.savefig(png_file)"
   ]
  },
  {
   "cell_type": "code",
   "execution_count": null,
   "metadata": {},
   "outputs": [],
   "source": []
  }
 ],
 "metadata": {
  "kernelspec": {
   "display_name": "Python 3",
   "language": "python",
   "name": "python3"
  },
  "language_info": {
   "codemirror_mode": {
    "name": "ipython",
    "version": 3
   },
   "file_extension": ".py",
   "mimetype": "text/x-python",
   "name": "python",
   "nbconvert_exporter": "python",
   "pygments_lexer": "ipython3",
   "version": "3.7.6"
  }
 },
 "nbformat": 4,
 "nbformat_minor": 2
}
