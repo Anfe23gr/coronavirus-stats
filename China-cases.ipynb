{
 "cells": [
  {
   "cell_type": "code",
   "execution_count": 1,
   "metadata": {},
   "outputs": [],
   "source": [
    "import pandas as pd\n",
    "import requests\n",
    "from bs4 import BeautifulSoup\n",
    "import re\n",
    "from datetime import datetime\n",
    "from selenium import webdriver\n",
    "from selenium.webdriver.chrome.options import Options  \n"
   ]
  },
  {
   "cell_type": "code",
   "execution_count": 2,
   "metadata": {},
   "outputs": [
    {
     "data": {
      "text/plain": [
       "datetime.datetime(2020, 2, 15, 9, 9, 13, 866174)"
      ]
     },
     "execution_count": 2,
     "metadata": {},
     "output_type": "execute_result"
    }
   ],
   "source": [
    "datetime.now()"
   ]
  },
  {
   "cell_type": "code",
   "execution_count": 3,
   "metadata": {},
   "outputs": [],
   "source": [
    "chrome_options = Options()  \n",
    "chrome_options.add_argument(\"--headless\")  \n",
    "chrome_options.add_argument(\"--no-sandbox\")\n",
    "\n",
    "driver = webdriver.Chrome('chromedriver', options=chrome_options)"
   ]
  },
  {
   "cell_type": "code",
   "execution_count": 4,
   "metadata": {},
   "outputs": [],
   "source": [
    "url = 'https://ncov.dxy.cn/ncovh5/view/pneumonia'\n",
    "driver.get(url)"
   ]
  },
  {
   "cell_type": "markdown",
   "metadata": {},
   "source": [
    "### Extract date"
   ]
  },
  {
   "cell_type": "code",
   "execution_count": 5,
   "metadata": {},
   "outputs": [],
   "source": [
    "content = driver.page_source\n",
    "soup =BeautifulSoup(content, 'lxml')\n"
   ]
  },
  {
   "cell_type": "code",
   "execution_count": 6,
   "metadata": {},
   "outputs": [
    {
     "data": {
      "text/plain": [
       "['截至 2020-02-15 09:03 全国数据统计']"
      ]
     },
     "execution_count": 6,
     "metadata": {},
     "output_type": "execute_result"
    }
   ],
   "source": [
    "data = soup.findAll(text=re.compile(\"截至 .+\"))\n",
    "data"
   ]
  },
  {
   "cell_type": "code",
   "execution_count": 7,
   "metadata": {},
   "outputs": [
    {
     "data": {
      "text/plain": [
       "'2020-02-15 09:03'"
      ]
     },
     "execution_count": 7,
     "metadata": {},
     "output_type": "execute_result"
    }
   ],
   "source": [
    "for s in data:\n",
    "    m = re.search(\"截至 (202\\d-\\d+-\\d+ \\d+:\\d+)\", s)\n",
    "    if m is not None:\n",
    "        data_date_time = m.group(1)\n",
    "data_date_time"
   ]
  },
  {
   "cell_type": "markdown",
   "metadata": {},
   "source": [
    "### Extract data (summary)"
   ]
  },
  {
   "cell_type": "code",
   "execution_count": 8,
   "metadata": {},
   "outputs": [
    {
     "data": {
      "text/plain": [
       "['try { window.getStatisticsService = {\"id\":1,\"createTime\":1579537899000,\"modifyTime\":1581757404000,\"infectSource\":\"该字段已替换为说明2\",\"passWay\":\"该字段已替换为说明3\",\"imgUrl\":\"https://img1.dxycdn.com/2020/0201/450/3394153392393266839-135.png\",\"dailyPic\":\"https://img1.dxycdn.com/2020/0211/763/3395998884005602079-135.png,https://img1.dxycdn.com/2020/0211/362/3395998896890788910-135.png,https://img1.dxycdn.com/2020/0211/365/3395998905480724211-135.png,https://img1.dxycdn.com/2020/0211/364/3395998916217859778-135.png,https://img1.dxycdn.com/2020/0211/922/3395998929103046444-135.png,https://img1.dxycdn.com/2020/0211/089/3395998939840182072-135.png\",\"dailyPics\":[\"https://img1.dxycdn.com/2020/0211/763/3395998884005602079-135.png\",\"https://img1.dxycdn.com/2020/0211/362/3395998896890788910-135.png\",\"https://img1.dxycdn.com/2020/0211/365/3395998905480724211-135.png\",\"https://img1.dxycdn.com/2020/0211/364/3395998916217859778-135.png\",\"https://img1.dxycdn.com/2020/0211/922/3395998929103046444-135.png\",\"https://img1.dxycdn.com/2020/0211/089/3395998939840182072-135.png\"],\"summary\":\"\",\"deleted\":false,\"countRemark\":\"\",\"currentConfirmedCount\":56741,\"confirmedCount\":66580,\"suspectedCount\":8969,\"curedCount\":8315,\"deadCount\":1524,\"seriousCount\":11053,\"suspectedIncr\":2277,\"currentConfirmedIncr\":918,\"confirmedIncr\":2648,\"curedIncr\":1587,\"deadIncr\":143,\"seriousIncr\":849,\"virus\":\"该字段已替换为说明1\",\"remark1\":\"易感人群：人群普遍易感。老年人及有基础疾病者感染后病情较重，儿童及婴幼儿也有发病\",\"remark2\":\"潜伏期：一般为 3～7 天，最长不超过 14 天，潜伏期内可能存在传染性，其中无症状病例传染性非常罕见\",\"remark3\":\"宿主：野生动物，可能为中华菊头蝠\",\"remark4\":\"\",\"remark5\":\"\",\"note1\":\"病毒：SARS-CoV-2，其导致疾病命名 COVID-19\",\"note2\":\"传染源：新冠肺炎的患者。无症状感染者也可能成为传染源。\",\"note3\":\"传播途径：经呼吸道飞沫、接触传播是主要的传播途径。气溶胶传播和消化道等传播途径尚待明确。\",\"generalRemark\":\"疑似病例数来自国家卫健委数据，目前为全国数据，未分省市自治区等\",\"abroadRemark\":\"\",\"marquee\":[{\"id\":422,\"marqueeLabel\":\"公告\",\"marqueeContent\":\"加入孕妇答疑社群（疫情期免费）\",\"marqueeLink\":\"https://mama.dxy.com/dispatch-jian-qun-bao?source=2\"},{\"id\":423,\"marqueeLabel\":\"物资\",\"marqueeContent\":\"75% 酒精消毒喷雾，限量供应\",\"marqueeLink\":\"https://dxy.me/dhKYG8\"}],\"quanguoTrendChart\":[{\"imgUrl\":\"https://img1.dxycdn.com/2020/0215/135/3396732709232753581-135.png\",\"title\":\"新增疑似/新增确诊\"},{\"imgUrl\":\"https://img1.dxycdn.com/2020/0215/144/3396732724265139785-135.png\",\"title\":\"确诊/疑似\"},{\"imgUrl\":\"https://img1.dxycdn.com/2020/0215/889/3396732737150344863-135.png\",\"title\":\"死亡/治愈\"},{\"imgUrl\":\"https://img1.dxycdn.com/2020/0215/726/3396732747887763706-135.png\",\"title\":\"病死率/治愈率\"}],\"hbFeiHbTrendChart\":[{\"imgUrl\":\"https://img1.dxycdn.com/2020/0215/358/3396732769362601146-135.png\",\"title\":\"新增确诊\"},{\"imgUrl\":\"https://img1.dxycdn.com/2020/0215/245/3396732782247201099-135.png\",\"title\":\"确诊\"},{\"imgUrl\":\"https://img1.dxycdn.com/2020/0215/931/3396732797279587289-135.png\",\"title\":\"死亡/治愈\"},{\"imgUrl\":\"https://img1.dxycdn.com/2020/0215/878/3396732812311973646-135.png\",\"title\":\"病死率\"},{\"imgUrl\":\"https://img1.dxycdn.com/2020/0215/027/3396732825197178652-135.png\",\"title\":\"治愈率\"}]}}catch(e){}']"
      ]
     },
     "execution_count": 8,
     "metadata": {},
     "output_type": "execute_result"
    }
   ],
   "source": [
    "data = soup.findAll(text=re.compile('\\\"summary.+\\\"confirmedCount\\\":\\d'))\n",
    "\n",
    "data\n"
   ]
  },
  {
   "cell_type": "code",
   "execution_count": 9,
   "metadata": {},
   "outputs": [],
   "source": [
    "m = re.search('\\\"confirmedCount\\\":(\\d+)', data[0])\n",
    "summary_confirmed_count = int(m.group(1))\n",
    "\n",
    "\n",
    "m = re.search('\\\"curedCount\\\":(\\d+)', data[0])\n",
    "summary_cured_count = int(m.group(1))\n",
    "\n",
    "m = re.search('\\\"deadCount\\\":(\\d+)', data[0])\n",
    "summary_dead_count = int(m.group(1))\n"
   ]
  },
  {
   "cell_type": "code",
   "execution_count": 10,
   "metadata": {},
   "outputs": [
    {
     "data": {
      "text/html": [
       "<div>\n",
       "<style scoped>\n",
       "    .dataframe tbody tr th:only-of-type {\n",
       "        vertical-align: middle;\n",
       "    }\n",
       "\n",
       "    .dataframe tbody tr th {\n",
       "        vertical-align: top;\n",
       "    }\n",
       "\n",
       "    .dataframe thead th {\n",
       "        text-align: right;\n",
       "    }\n",
       "</style>\n",
       "<table border=\"1\" class=\"dataframe\">\n",
       "  <thead>\n",
       "    <tr style=\"text-align: right;\">\n",
       "      <th></th>\n",
       "      <th>datetime</th>\n",
       "      <th>confirmed</th>\n",
       "      <th>cured</th>\n",
       "      <th>dead</th>\n",
       "    </tr>\n",
       "  </thead>\n",
       "  <tbody>\n",
       "    <tr>\n",
       "      <th>0</th>\n",
       "      <td>2020-02-15 09:03</td>\n",
       "      <td>66580</td>\n",
       "      <td>8315</td>\n",
       "      <td>1524</td>\n",
       "    </tr>\n",
       "  </tbody>\n",
       "</table>\n",
       "</div>"
      ],
      "text/plain": [
       "           datetime  confirmed  cured  dead\n",
       "0  2020-02-15 09:03      66580   8315  1524"
      ]
     },
     "execution_count": 10,
     "metadata": {},
     "output_type": "execute_result"
    }
   ],
   "source": [
    "# make a dataframe\n",
    "df = pd.DataFrame({\n",
    "    'datetime': data_date_time,\n",
    "    'confirmed': summary_confirmed_count,\n",
    "    'cured': summary_cured_count,\n",
    "    'dead': summary_dead_count\n",
    "}, index=[0])\n",
    "df"
   ]
  },
  {
   "cell_type": "markdown",
   "metadata": {},
   "source": [
    "### Save to file"
   ]
  },
  {
   "cell_type": "code",
   "execution_count": 11,
   "metadata": {},
   "outputs": [],
   "source": [
    "from pathlib import Path\n",
    "csv_file = 'data/china-summary-cases.csv'\n",
    "\n",
    "if Path(csv_file).exists():\n",
    "    # read out the old data - then merge with new data and remove duplicates based on datetime\n",
    "    old_df = pd.read_csv(csv_file)\n",
    "    df = df.append(old_df)\n",
    "df.drop_duplicates(subset=['datetime'], inplace=True)"
   ]
  },
  {
   "cell_type": "code",
   "execution_count": 12,
   "metadata": {},
   "outputs": [],
   "source": [
    "df.sort_values(by=['datetime'], inplace=True)\n",
    "\n",
    "df.to_csv(csv_file, index=False)\n"
   ]
  },
  {
   "cell_type": "markdown",
   "metadata": {},
   "source": [
    "### Plot graph"
   ]
  },
  {
   "cell_type": "code",
   "execution_count": 13,
   "metadata": {},
   "outputs": [],
   "source": [
    "import seaborn as sns\n",
    "import matplotlib.pyplot as plt\n",
    "from pandas.plotting import register_matplotlib_converters\n",
    "register_matplotlib_converters()\n",
    "\n",
    "png_file = 'images/china-summary-cases.png'\n",
    "# convert to pd.datetime\n",
    "df['datetime_idx'] = pd.to_datetime(df['datetime'], format=\"%Y-%m-%d %H:%M\")\n",
    "\n",
    "df.set_index('datetime_idx', inplace=True)\n",
    "df.drop(['datetime'], axis=1, inplace=True)\n"
   ]
  },
  {
   "cell_type": "code",
   "execution_count": 14,
   "metadata": {},
   "outputs": [
    {
     "data": {
      "text/html": [
       "<div>\n",
       "<style scoped>\n",
       "    .dataframe tbody tr th:only-of-type {\n",
       "        vertical-align: middle;\n",
       "    }\n",
       "\n",
       "    .dataframe tbody tr th {\n",
       "        vertical-align: top;\n",
       "    }\n",
       "\n",
       "    .dataframe thead th {\n",
       "        text-align: right;\n",
       "    }\n",
       "</style>\n",
       "<table border=\"1\" class=\"dataframe\">\n",
       "  <thead>\n",
       "    <tr style=\"text-align: right;\">\n",
       "      <th></th>\n",
       "      <th>confirmed</th>\n",
       "      <th>cured</th>\n",
       "      <th>dead</th>\n",
       "    </tr>\n",
       "    <tr>\n",
       "      <th>datetime_idx</th>\n",
       "      <th></th>\n",
       "      <th></th>\n",
       "      <th></th>\n",
       "    </tr>\n",
       "  </thead>\n",
       "  <tbody>\n",
       "    <tr>\n",
       "      <th>2020-02-02 10:22:00</th>\n",
       "      <td>14483</td>\n",
       "      <td>379</td>\n",
       "      <td>304</td>\n",
       "    </tr>\n",
       "    <tr>\n",
       "      <th>2020-02-02 10:28:00</th>\n",
       "      <td>14483</td>\n",
       "      <td>380</td>\n",
       "      <td>304</td>\n",
       "    </tr>\n",
       "    <tr>\n",
       "      <th>2020-02-02 11:19:00</th>\n",
       "      <td>14489</td>\n",
       "      <td>385</td>\n",
       "      <td>304</td>\n",
       "    </tr>\n",
       "    <tr>\n",
       "      <th>2020-02-02 11:54:00</th>\n",
       "      <td>14489</td>\n",
       "      <td>397</td>\n",
       "      <td>304</td>\n",
       "    </tr>\n",
       "    <tr>\n",
       "      <th>2020-02-02 15:01:00</th>\n",
       "      <td>14490</td>\n",
       "      <td>430</td>\n",
       "      <td>304</td>\n",
       "    </tr>\n",
       "    <tr>\n",
       "      <th>...</th>\n",
       "      <td>...</td>\n",
       "      <td>...</td>\n",
       "      <td>...</td>\n",
       "    </tr>\n",
       "    <tr>\n",
       "      <th>2020-02-15 04:55:00</th>\n",
       "      <td>66577</td>\n",
       "      <td>8200</td>\n",
       "      <td>1524</td>\n",
       "    </tr>\n",
       "    <tr>\n",
       "      <th>2020-02-15 06:01:00</th>\n",
       "      <td>66577</td>\n",
       "      <td>8208</td>\n",
       "      <td>1524</td>\n",
       "    </tr>\n",
       "    <tr>\n",
       "      <th>2020-02-15 06:58:00</th>\n",
       "      <td>66577</td>\n",
       "      <td>8270</td>\n",
       "      <td>1524</td>\n",
       "    </tr>\n",
       "    <tr>\n",
       "      <th>2020-02-15 07:37:00</th>\n",
       "      <td>66579</td>\n",
       "      <td>8270</td>\n",
       "      <td>1524</td>\n",
       "    </tr>\n",
       "    <tr>\n",
       "      <th>2020-02-15 09:03:00</th>\n",
       "      <td>66580</td>\n",
       "      <td>8315</td>\n",
       "      <td>1524</td>\n",
       "    </tr>\n",
       "  </tbody>\n",
       "</table>\n",
       "<p>194 rows × 3 columns</p>\n",
       "</div>"
      ],
      "text/plain": [
       "                     confirmed  cured  dead\n",
       "datetime_idx                               \n",
       "2020-02-02 10:22:00      14483    379   304\n",
       "2020-02-02 10:28:00      14483    380   304\n",
       "2020-02-02 11:19:00      14489    385   304\n",
       "2020-02-02 11:54:00      14489    397   304\n",
       "2020-02-02 15:01:00      14490    430   304\n",
       "...                        ...    ...   ...\n",
       "2020-02-15 04:55:00      66577   8200  1524\n",
       "2020-02-15 06:01:00      66577   8208  1524\n",
       "2020-02-15 06:58:00      66577   8270  1524\n",
       "2020-02-15 07:37:00      66579   8270  1524\n",
       "2020-02-15 09:03:00      66580   8315  1524\n",
       "\n",
       "[194 rows x 3 columns]"
      ]
     },
     "execution_count": 14,
     "metadata": {},
     "output_type": "execute_result"
    }
   ],
   "source": [
    "df"
   ]
  },
  {
   "cell_type": "code",
   "execution_count": 15,
   "metadata": {},
   "outputs": [
    {
     "data": {
      "image/png": "[encoded data removed]",
      "text/plain": [
       "<Figure size 1008x1008 with 3 Axes>"
      ]
     },
     "metadata": {},
     "output_type": "display_data"
    }
   ],
   "source": [
    "if df.shape[0]>1:\n",
    "    # line chart when having at least a few points\n",
    "    sns.set(rc={'figure.figsize':(14,14)})\n",
    "\n",
    "    fig, axs = plt.subplots(nrows=3)\n",
    "\n",
    "    sns.lineplot(x=df.index, y = 'confirmed', data=df, ax= axs[0], estimator=None, color='orange')\n",
    "    sns.lineplot(x=df.index, y = 'cured', data=df, ax= axs[1], estimator=None, color='green')\n",
    "    sns.lineplot(x=df.index, y = 'dead', data=df, ax= axs[2], estimator=None, color='darkred')\n",
    "\n",
    "    for ax in axs:\n",
    "        ax.set_xlabel('')\n",
    "        ax.tick_params(axis='x', labelrotation=30)\n",
    "else:\n",
    "\n",
    "    ax = df.plot(kind='bar', stacked=True, figsize=(9,6))\n",
    "    fig = ax.get_figure()\n",
    "    ax.set_xlabel('')\n",
    "    for label in ax.get_xticklabels():\n",
    "        label.set_rotation(0) \n"
   ]
  },
  {
   "cell_type": "code",
   "execution_count": 16,
   "metadata": {},
   "outputs": [],
   "source": [
    "fig.savefig(png_file)"
   ]
  },
  {
   "cell_type": "code",
   "execution_count": null,
   "metadata": {},
   "outputs": [],
   "source": []
  }
 ],
 "metadata": {
  "kernelspec": {
   "display_name": "Python 3",
   "language": "python",
   "name": "python3"
  },
  "language_info": {
   "codemirror_mode": {
    "name": "ipython",
    "version": 3
   },
   "file_extension": ".py",
   "mimetype": "text/x-python",
   "name": "python",
   "nbconvert_exporter": "python",
   "pygments_lexer": "ipython3",
   "version": "3.7.6"
  }
 },
 "nbformat": 4,
 "nbformat_minor": 2
}
