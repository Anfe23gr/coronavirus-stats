{
 "cells": [
  {
   "cell_type": "code",
   "execution_count": 1,
   "metadata": {},
   "outputs": [],
   "source": [
    "import pandas as pd\n",
    "import requests\n",
    "from bs4 import BeautifulSoup\n",
    "import re\n",
    "from datetime import datetime\n",
    "from selenium import webdriver\n",
    "from selenium.webdriver.chrome.options import Options  \n"
   ]
  },
  {
   "cell_type": "code",
   "execution_count": 2,
   "metadata": {},
   "outputs": [
    {
     "data": {
      "text/plain": [
       "datetime.datetime(2020, 2, 12, 6, 9, 26, 568578)"
      ]
     },
     "execution_count": 2,
     "metadata": {},
     "output_type": "execute_result"
    }
   ],
   "source": [
    "datetime.now()"
   ]
  },
  {
   "cell_type": "code",
   "execution_count": 3,
   "metadata": {},
   "outputs": [],
   "source": [
    "chrome_options = Options()  \n",
    "chrome_options.add_argument(\"--headless\")  \n",
    "chrome_options.add_argument(\"--no-sandbox\")\n",
    "\n",
    "driver = webdriver.Chrome('chromedriver', options=chrome_options)"
   ]
  },
  {
   "cell_type": "code",
   "execution_count": 4,
   "metadata": {},
   "outputs": [],
   "source": [
    "url = 'https://ncov.dxy.cn/ncovh5/view/pneumonia'\n",
    "driver.get(url)"
   ]
  },
  {
   "cell_type": "markdown",
   "metadata": {},
   "source": [
    "### Extract date"
   ]
  },
  {
   "cell_type": "code",
   "execution_count": 5,
   "metadata": {},
   "outputs": [],
   "source": [
    "content = driver.page_source\n",
    "soup =BeautifulSoup(content, 'lxml')\n"
   ]
  },
  {
   "cell_type": "code",
   "execution_count": 6,
   "metadata": {},
   "outputs": [
    {
     "data": {
      "text/plain": [
       "['try { window.getIndexRumorList = [{\"id\":141,\"title\":\"深呼吸再憋十秒可测是否有肺炎？\",\"mainSummary\":\"丁香医生团队辟谣：真没必要用这样的方式去检查有没有肺炎\",\"summary\":\"\",\"body\":\"有肺炎的话，你会咳嗽、呼吸急促，甚至喘不过气，很容易就能认得出，必要时还有 CT 识别手段。就算毫无肺炎表现，只要有发热以及相关密切接触史，也得尽快就医，并不是没有肺炎就安全。假如你一切良好，看到这则谣言不由自主做几次深吸气检查也没关系，会稍稍刺激迷走神经，还可能让气道高敏的人忍不住咳几声，这并不会有明显危害，记得别连续深吸气「复查」就行了。\",\"sourceUrl\":\"\",\"score\":1000,\"rumorType\":0},{\"id\":142,\"title\":\"保持喉咙湿润可以预防病毒？\",\"mainSummary\":\"剑桥大学病毒学助理研究员韩越：没有研究显示频繁喝水能预防新冠病毒感染\",\"summary\":\"\",\"body\":\"有传言称「即便吸入了病毒，如果喉咙湿润的话，病毒大多会沿食道进入胃部，而不是沿呼吸道进入肺部。胃里有胃酸，能有效杀死病毒，所以要多喝水」其实新冠病毒通过侵染呼吸道黏膜上皮细胞，并在细胞中大量增殖完成侵染，多喝水并不能阻止细胞进入呼吸道。胃酸虽可杀死病毒，但不是全部病毒，新冠病毒存在侵染胃部细胞的可能性。水喝太多可能使体内电解质失衡，对肾脏等器官造成额外负担！\",\"sourceUrl\":\"\",\"score\":141,\"rumorType\":0},{\"id\":139,\"title\":\"钟南山：新冠肺炎治愈后会有后遗症？\",\"mainSummary\":\"丁香医生团队查证：钟南山院士没有说过此话\",\"summary\":\"\",\"body\":\"经查证，钟南山院士并没有说过此话。相反，1 月 31 日，钟南山院士在接受北京卫视《养生堂》采访时提到：到现在我没有发现有很明显的后遗症，治愈的可能以后会大量增加。\",\"sourceUrl\":\"\",\"score\":139,\"rumorType\":0},{\"id\":136,\"title\":\"新冠病毒属于SARS病毒？\",\"mainSummary\":\"华中农业大学教授陈焕春解释：完全属于口误\",\"summary\":\"\",\"body\":\"9 日，湖北省召开第 19 场疫情防控工作新闻发布会，华中农业大学教授陈焕春介绍，「分析发现，新型冠状病毒属于 SARS 冠状病毒。」新京报记者刚刚向陈焕春核实到，该说法属于口误。他表示，应为「新型冠状病毒属于 SARS 相关冠状病毒」。这意味着「新冠」病毒与 SARS 冠状病毒相似。该结论是基于中科院武汉病毒所石正丽研究员的工作得出的。\",\"sourceUrl\":\"\",\"score\":138,\"rumorType\":0},{\"id\":84,\"title\":\"别吃鱼，某地有121个鱼塘感染？\",\"mainSummary\":\"丁香医生团队查证：青海、南宁、丽江等各城市版本的均为编造。正规渠道售卖的仍可放心吃\",\"summary\":\"\",\"body\":\"青海、南宁、丽江等各城市版本的均为编造。另外，此次新型冠状病毒来源是非法销售的野生动物，正规渠道售卖的各类肉制品仍可彻底煮熟后食用。\",\"sourceUrl\":\"\",\"score\":137,\"rumorType\":0},{\"id\":140,\"title\":\"洋葱可以预防新冠肺炎？\",\"mainSummary\":\"丁香医生团队辟谣：无论是吃还是闻都不能预防新冠肺炎\",\"summary\":\"\",\"body\":\"目前没有证据证明洋葱有预防新冠肺炎的功效。不过，炒菜吃还是很美味的，闻就算了吧，不嫌辣眼睛和鼻子吗。\",\"sourceUrl\":\"\",\"score\":137,\"rumorType\":0},{\"id\":138,\"title\":\"新冠肺炎潜伏期最长24天？\",\"mainSummary\":\"钟南山领衔新论文：新冠肺炎的中位潜伏期为 3.0 天，最长可达 24 天\",\"summary\":\"\",\"body\":\"由国家卫健委高级别专家组组长钟南山领衔的「中国 2019 年新型冠状病毒感染的临床特征」研究，在预印本网站 medRxiv 上发表。钟南山等人对 1099 例（截至 1 月 29 日）新冠肺炎确诊患者的临床特征进行了回顾性研究。研究发现，新冠肺炎的中位潜伏期为 3.0 天，最长可达 24 天。丁香医生在此提醒，潜伏期长是个案，要重视，但无需恐慌。\",\"sourceUrl\":\"\",\"score\":135,\"rumorType\":1},{\"id\":137,\"title\":\"吃果蔬和肉蛋会感染新冠病毒？\",\"mainSummary\":\"中国疾病预防控制中心研究员冯录召：病毒通过飞沫、直接接触等方式污染到蔬菜、肉和水果的几率很低\",\"summary\":\"\",\"body\":\"蔬菜、肉、水果买回家后先用流水冲洗。蔬菜、肉类应烧熟吃，水果尽量削皮，处理生食和熟食的切菜板及刀具要分开。病毒在 56℃、30 分钟就能被杀死，炒菜经常能达到 100℃ 以上的高温，炒熟炒透后不用担心病毒。处理过后注意及时洗手。目前新型冠状病毒是否经粪-口途径（消化道）传播，虽尚待进一步明确，但通过将食物洗净煮熟，饭前便后洗手等方法可预防病毒经消化道传播。\",\"sourceUrl\":\"\",\"score\":134,\"rumorType\":0},{\"id\":131,\"title\":\"口罩里垫一张纸巾，就能反复使用？\",\"mainSummary\":\"丁香医生团队辟谣：在口罩里垫纸巾不能延长口罩寿命，反而影响使用效果\",\"summary\":\"\",\"body\":\"在口罩内部垫纸巾不能起到延长口罩寿命的效果，反而会让气体从纸巾旁边通过，影响气密性，导致口罩失效。一般来讲，一次性口罩不建议重复使用，N95 口罩在保存得当的情况下，可以考虑多次使用，但最好不要超过 5 次。\",\"sourceUrl\":\"\",\"score\":133,\"rumorType\":0},{\"id\":135,\"title\":\"新冠病毒可通过气溶胶传播？\",\"mainSummary\":\"丁香医生团队：暂不明确。要重视，但不必恐慌\",\"summary\":\"\",\"body\":\"气溶胶颗粒通常>10微米，一般医用口罩就能阻挡。半径<0.1微米的气溶胶微粒，重量轻，主要在高空，会随风飘走，呼吸到的概率不大。气溶胶质点比表面能很大，又有电荷，病毒很容易被破坏，存活度不高。非医务人员在日常只有达到极高数量级的阈值，部分病毒才能由黏膜进入人体。由气溶胶形式悬停在衣物、皮肤的病毒，只有极微小的比例能通过接触传播。这样的病毒量不太会引发疾病。\",\"sourceUrl\":\"\",\"score\":132,\"rumorType\":2}]}catch(e){}',\n",
       " '截至 2020-02-12 05:35 全国数据统计']"
      ]
     },
     "execution_count": 6,
     "metadata": {},
     "output_type": "execute_result"
    }
   ],
   "source": [
    "data = soup.findAll(text=re.compile(\"截至 .+\"))\n",
    "data"
   ]
  },
  {
   "cell_type": "code",
   "execution_count": 7,
   "metadata": {},
   "outputs": [
    {
     "data": {
      "text/plain": [
       "'2020-02-12 05:35'"
      ]
     },
     "execution_count": 7,
     "metadata": {},
     "output_type": "execute_result"
    }
   ],
   "source": [
    "for s in data:\n",
    "    m = re.search(\"截至 (202\\d-\\d+-\\d+ \\d+:\\d+)\", s)\n",
    "    if m is not None:\n",
    "        data_date_time = m.group(1)\n",
    "data_date_time"
   ]
  },
  {
   "cell_type": "markdown",
   "metadata": {},
   "source": [
    "### Extract data (summary)"
   ]
  },
  {
   "cell_type": "code",
   "execution_count": 8,
   "metadata": {},
   "outputs": [
    {
     "data": {
      "text/plain": [
       "['try { window.getStatisticsService = {\"id\":1,\"createTime\":1579537899000,\"modifyTime\":1581485716000,\"infectSource\":\"该字段已替换为说明2\",\"passWay\":\"该字段已替换为说明3\",\"imgUrl\":\"https://img1.dxycdn.com/2020/0201/450/3394153392393266839-135.png\",\"dailyPic\":\"https://img1.dxycdn.com/2020/0211/763/3395998884005602079-135.png,https://img1.dxycdn.com/2020/0211/362/3395998896890788910-135.png,https://img1.dxycdn.com/2020/0211/365/3395998905480724211-135.png,https://img1.dxycdn.com/2020/0211/364/3395998916217859778-135.png,https://img1.dxycdn.com/2020/0211/922/3395998929103046444-135.png,https://img1.dxycdn.com/2020/0211/089/3395998939840182072-135.png\",\"dailyPics\":[\"https://img1.dxycdn.com/2020/0211/763/3395998884005602079-135.png\",\"https://img1.dxycdn.com/2020/0211/362/3395998896890788910-135.png\",\"https://img1.dxycdn.com/2020/0211/365/3395998905480724211-135.png\",\"https://img1.dxycdn.com/2020/0211/364/3395998916217859778-135.png\",\"https://img1.dxycdn.com/2020/0211/922/3395998929103046444-135.png\",\"https://img1.dxycdn.com/2020/0211/089/3395998939840182072-135.png\"],\"summary\":\"\",\"deleted\":false,\"countRemark\":\"\",\"confirmedCount\":44742,\"suspectedCount\":16067,\"curedCount\":4800,\"deadCount\":1114,\"seriousCount\":8204,\"suspectedIncr\":3342,\"confirmedIncr\":2034,\"curedIncr\":802,\"deadIncr\":97,\"seriousIncr\":871,\"virus\":\"该字段已替换为说明1\",\"remark1\":\"易感人群：人群普遍易感。老年人及有基础疾病者感染后病情较重，儿童及婴幼儿也有发病\",\"remark2\":\"潜伏期：一般为 3～7 天，最长不超过 14 天，潜伏期内可能存在传染性，其中无症状病例传染性非常罕见\",\"remark3\":\"宿主：野生动物，可能为中华菊头蝠\",\"remark4\":\"\",\"remark5\":\"\",\"note1\":\"病毒：SARS-CoV-2，其导致疾病命名 COVID-19\",\"note2\":\"传染源：新冠肺炎的患者。无症状感染者也可能成为传染源。\",\"note3\":\"传播途径：经呼吸道飞沫、接触传播是主要的传播途径。气溶胶传播和消化道等传播途径尚待明确。\",\"generalRemark\":\"疑似病例数来自国家卫健委数据，目前为全国数据，未分省市自治区等\",\"abroadRemark\":\"\",\"marquee\":[{\"id\":213,\"marqueeLabel\":\"资讯\",\"marqueeContent\":\"钟南山：李文亮是英雄，我为他骄傲\",\"marqueeLink\":\"https://ask.dxy.com/ama/index#/activity-share?activity_id=129\"}],\"quanguoTrendChart\":[{\"imgUrl\":\"https://img1.dxycdn.com/2020/0212/060/3396191695825127796-135.png\",\"title\":\"新增疑似/新增确诊\"},{\"imgUrl\":\"https://img1.dxycdn.com/2020/0212/030/3396191721594733248-135.png\",\"title\":\"确诊/疑似\"},{\"imgUrl\":\"https://img1.dxycdn.com/2020/0212/106/3396191747364539128-135.png\",\"title\":\"新增死亡/新增治愈\"},{\"imgUrl\":\"https://img1.dxycdn.com/2020/0212/104/3396191762397126635-135.png\",\"title\":\"死亡/治愈\"},{\"imgUrl\":\"https://img1.dxycdn.com/2020/0212/548/3396191775282029632-135.png\",\"title\":\"病死率/治愈率\"}],\"hbFeiHbTrendChart\":[{\"imgUrl\":\"https://img1.dxycdn.com/2020/0212/196/3396191826821441309-135.png\",\"title\":\"新增确诊\"},{\"imgUrl\":\"https://img1.dxycdn.com/2020/0212/396/3396191841853828180-135.png\",\"title\":\"确诊\"},{\"imgUrl\":\"https://img1.dxycdn.com/2020/0212/422/3396191854738731406-135.png\",\"title\":\"死亡/治愈\"},{\"imgUrl\":\"https://img1.dxycdn.com/2020/0212/150/3396191869771318584-135.png\",\"title\":\"病死率\"},{\"imgUrl\":\"https://img1.dxycdn.com/2020/0212/071/3396191899836092581-135.png\",\"title\":\"治愈率\"}]}}catch(e){}']"
      ]
     },
     "execution_count": 8,
     "metadata": {},
     "output_type": "execute_result"
    }
   ],
   "source": [
    "data = soup.findAll(text=re.compile('\\\"summary.+\\\"confirmedCount\\\":\\d'))\n",
    "\n",
    "data\n"
   ]
  },
  {
   "cell_type": "code",
   "execution_count": 9,
   "metadata": {},
   "outputs": [],
   "source": [
    "m = re.search('\\\"confirmedCount\\\":(\\d+)', data[0])\n",
    "summary_confirmed_count = int(m.group(1))\n",
    "\n",
    "\n",
    "m = re.search('\\\"curedCount\\\":(\\d+)', data[0])\n",
    "summary_cured_count = int(m.group(1))\n",
    "\n",
    "m = re.search('\\\"deadCount\\\":(\\d+)', data[0])\n",
    "summary_dead_count = int(m.group(1))\n"
   ]
  },
  {
   "cell_type": "code",
   "execution_count": 10,
   "metadata": {},
   "outputs": [
    {
     "data": {
      "text/html": [
       "<div>\n",
       "<style scoped>\n",
       "    .dataframe tbody tr th:only-of-type {\n",
       "        vertical-align: middle;\n",
       "    }\n",
       "\n",
       "    .dataframe tbody tr th {\n",
       "        vertical-align: top;\n",
       "    }\n",
       "\n",
       "    .dataframe thead th {\n",
       "        text-align: right;\n",
       "    }\n",
       "</style>\n",
       "<table border=\"1\" class=\"dataframe\">\n",
       "  <thead>\n",
       "    <tr style=\"text-align: right;\">\n",
       "      <th></th>\n",
       "      <th>datetime</th>\n",
       "      <th>confirmed</th>\n",
       "      <th>cured</th>\n",
       "      <th>dead</th>\n",
       "    </tr>\n",
       "  </thead>\n",
       "  <tbody>\n",
       "    <tr>\n",
       "      <th>0</th>\n",
       "      <td>2020-02-12 05:35</td>\n",
       "      <td>44742</td>\n",
       "      <td>4800</td>\n",
       "      <td>1114</td>\n",
       "    </tr>\n",
       "  </tbody>\n",
       "</table>\n",
       "</div>"
      ],
      "text/plain": [
       "           datetime  confirmed  cured  dead\n",
       "0  2020-02-12 05:35      44742   4800  1114"
      ]
     },
     "execution_count": 10,
     "metadata": {},
     "output_type": "execute_result"
    }
   ],
   "source": [
    "# make a dataframe\n",
    "df = pd.DataFrame({\n",
    "    'datetime': data_date_time,\n",
    "    'confirmed': summary_confirmed_count,\n",
    "    'cured': summary_cured_count,\n",
    "    'dead': summary_dead_count\n",
    "}, index=[0])\n",
    "df"
   ]
  },
  {
   "cell_type": "markdown",
   "metadata": {},
   "source": [
    "### Save to file"
   ]
  },
  {
   "cell_type": "code",
   "execution_count": 11,
   "metadata": {},
   "outputs": [],
   "source": [
    "from pathlib import Path\n",
    "csv_file = 'data/china-summary-cases.csv'\n",
    "\n",
    "if Path(csv_file).exists():\n",
    "    # read out the old data - then merge with new data and remove duplicates based on datetime\n",
    "    old_df = pd.read_csv(csv_file)\n",
    "    df = df.append(old_df)\n",
    "df.drop_duplicates(subset=['datetime'], inplace=True)"
   ]
  },
  {
   "cell_type": "code",
   "execution_count": 12,
   "metadata": {},
   "outputs": [],
   "source": [
    "df.sort_values(by=['datetime'], inplace=True)\n",
    "\n",
    "df.to_csv(csv_file, index=False)\n"
   ]
  },
  {
   "cell_type": "markdown",
   "metadata": {},
   "source": [
    "### Plot graph"
   ]
  },
  {
   "cell_type": "code",
   "execution_count": 13,
   "metadata": {},
   "outputs": [],
   "source": [
    "import seaborn as sns\n",
    "import matplotlib.pyplot as plt\n",
    "from pandas.plotting import register_matplotlib_converters\n",
    "register_matplotlib_converters()\n",
    "\n",
    "png_file = 'images/china-summary-cases.png'\n",
    "# convert to pd.datetime\n",
    "df['datetime_idx'] = pd.to_datetime(df['datetime'], format=\"%Y-%m-%d %H:%M\")\n",
    "\n",
    "df.set_index('datetime_idx', inplace=True)\n",
    "df.drop(['datetime'], axis=1, inplace=True)\n"
   ]
  },
  {
   "cell_type": "code",
   "execution_count": 14,
   "metadata": {},
   "outputs": [
    {
     "data": {
      "text/html": [
       "<div>\n",
       "<style scoped>\n",
       "    .dataframe tbody tr th:only-of-type {\n",
       "        vertical-align: middle;\n",
       "    }\n",
       "\n",
       "    .dataframe tbody tr th {\n",
       "        vertical-align: top;\n",
       "    }\n",
       "\n",
       "    .dataframe thead th {\n",
       "        text-align: right;\n",
       "    }\n",
       "</style>\n",
       "<table border=\"1\" class=\"dataframe\">\n",
       "  <thead>\n",
       "    <tr style=\"text-align: right;\">\n",
       "      <th></th>\n",
       "      <th>confirmed</th>\n",
       "      <th>cured</th>\n",
       "      <th>dead</th>\n",
       "    </tr>\n",
       "    <tr>\n",
       "      <th>datetime_idx</th>\n",
       "      <th></th>\n",
       "      <th></th>\n",
       "      <th></th>\n",
       "    </tr>\n",
       "  </thead>\n",
       "  <tbody>\n",
       "    <tr>\n",
       "      <th>2020-02-02 10:22:00</th>\n",
       "      <td>14483</td>\n",
       "      <td>379</td>\n",
       "      <td>304</td>\n",
       "    </tr>\n",
       "    <tr>\n",
       "      <th>2020-02-02 10:28:00</th>\n",
       "      <td>14483</td>\n",
       "      <td>380</td>\n",
       "      <td>304</td>\n",
       "    </tr>\n",
       "    <tr>\n",
       "      <th>2020-02-02 11:19:00</th>\n",
       "      <td>14489</td>\n",
       "      <td>385</td>\n",
       "      <td>304</td>\n",
       "    </tr>\n",
       "    <tr>\n",
       "      <th>2020-02-02 11:54:00</th>\n",
       "      <td>14489</td>\n",
       "      <td>397</td>\n",
       "      <td>304</td>\n",
       "    </tr>\n",
       "    <tr>\n",
       "      <th>2020-02-02 15:01:00</th>\n",
       "      <td>14490</td>\n",
       "      <td>430</td>\n",
       "      <td>304</td>\n",
       "    </tr>\n",
       "    <tr>\n",
       "      <th>...</th>\n",
       "      <td>...</td>\n",
       "      <td>...</td>\n",
       "      <td>...</td>\n",
       "    </tr>\n",
       "    <tr>\n",
       "      <th>2020-02-12 02:06:00</th>\n",
       "      <td>44726</td>\n",
       "      <td>4732</td>\n",
       "      <td>1114</td>\n",
       "    </tr>\n",
       "    <tr>\n",
       "      <th>2020-02-12 02:34:00</th>\n",
       "      <td>44742</td>\n",
       "      <td>4744</td>\n",
       "      <td>1114</td>\n",
       "    </tr>\n",
       "    <tr>\n",
       "      <th>2020-02-12 04:03:00</th>\n",
       "      <td>44742</td>\n",
       "      <td>4771</td>\n",
       "      <td>1114</td>\n",
       "    </tr>\n",
       "    <tr>\n",
       "      <th>2020-02-12 04:53:00</th>\n",
       "      <td>44742</td>\n",
       "      <td>4797</td>\n",
       "      <td>1114</td>\n",
       "    </tr>\n",
       "    <tr>\n",
       "      <th>2020-02-12 05:35:00</th>\n",
       "      <td>44742</td>\n",
       "      <td>4800</td>\n",
       "      <td>1114</td>\n",
       "    </tr>\n",
       "  </tbody>\n",
       "</table>\n",
       "<p>140 rows × 3 columns</p>\n",
       "</div>"
      ],
      "text/plain": [
       "                     confirmed  cured  dead\n",
       "datetime_idx                               \n",
       "2020-02-02 10:22:00      14483    379   304\n",
       "2020-02-02 10:28:00      14483    380   304\n",
       "2020-02-02 11:19:00      14489    385   304\n",
       "2020-02-02 11:54:00      14489    397   304\n",
       "2020-02-02 15:01:00      14490    430   304\n",
       "...                        ...    ...   ...\n",
       "2020-02-12 02:06:00      44726   4732  1114\n",
       "2020-02-12 02:34:00      44742   4744  1114\n",
       "2020-02-12 04:03:00      44742   4771  1114\n",
       "2020-02-12 04:53:00      44742   4797  1114\n",
       "2020-02-12 05:35:00      44742   4800  1114\n",
       "\n",
       "[140 rows x 3 columns]"
      ]
     },
     "execution_count": 14,
     "metadata": {},
     "output_type": "execute_result"
    }
   ],
   "source": [
    "df"
   ]
  },
  {
   "cell_type": "code",
   "execution_count": 15,
   "metadata": {},
   "outputs": [
    {
     "data": {
      "image/png": "[encoded data removed]",
      "text/plain": [
       "<Figure size 1008x1008 with 3 Axes>"
      ]
     },
     "metadata": {},
     "output_type": "display_data"
    }
   ],
   "source": [
    "if df.shape[0]>1:\n",
    "    # line chart when having at least a few points\n",
    "    sns.set(rc={'figure.figsize':(14,14)})\n",
    "\n",
    "    fig, axs = plt.subplots(nrows=3)\n",
    "\n",
    "    sns.lineplot(x=df.index, y = 'confirmed', data=df, ax= axs[0], estimator=None, color='orange')\n",
    "    sns.lineplot(x=df.index, y = 'cured', data=df, ax= axs[1], estimator=None, color='green')\n",
    "    sns.lineplot(x=df.index, y = 'dead', data=df, ax= axs[2], estimator=None, color='darkred')\n",
    "\n",
    "    for ax in axs:\n",
    "        ax.set_xlabel('')\n",
    "        ax.tick_params(axis='x', labelrotation=30)\n",
    "else:\n",
    "\n",
    "    ax = df.plot(kind='bar', stacked=True, figsize=(9,6))\n",
    "    fig = ax.get_figure()\n",
    "    ax.set_xlabel('')\n",
    "    for label in ax.get_xticklabels():\n",
    "        label.set_rotation(0) \n"
   ]
  },
  {
   "cell_type": "code",
   "execution_count": 16,
   "metadata": {},
   "outputs": [],
   "source": [
    "fig.savefig(png_file)"
   ]
  },
  {
   "cell_type": "code",
   "execution_count": null,
   "metadata": {},
   "outputs": [],
   "source": []
  }
 ],
 "metadata": {
  "kernelspec": {
   "display_name": "Python 3",
   "language": "python",
   "name": "python3"
  },
  "language_info": {
   "codemirror_mode": {
    "name": "ipython",
    "version": 3
   },
   "file_extension": ".py",
   "mimetype": "text/x-python",
   "name": "python",
   "nbconvert_exporter": "python",
   "pygments_lexer": "ipython3",
   "version": "3.7.6"
  }
 },
 "nbformat": 4,
 "nbformat_minor": 2
}
