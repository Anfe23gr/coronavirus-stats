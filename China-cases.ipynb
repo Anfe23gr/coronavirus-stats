{
 "cells": [
  {
   "cell_type": "code",
   "execution_count": 1,
   "metadata": {},
   "outputs": [],
   "source": [
    "import pandas as pd\n",
    "import requests\n",
    "from bs4 import BeautifulSoup\n",
    "import re\n",
    "from datetime import datetime\n",
    "from selenium import webdriver\n",
    "from selenium.webdriver.chrome.options import Options  \n"
   ]
  },
  {
   "cell_type": "code",
   "execution_count": 2,
   "metadata": {},
   "outputs": [
    {
     "data": {
      "text/plain": [
       "datetime.datetime(2020, 2, 28, 5, 8, 36, 683359)"
      ]
     },
     "execution_count": 2,
     "metadata": {},
     "output_type": "execute_result"
    }
   ],
   "source": [
    "datetime.now()"
   ]
  },
  {
   "cell_type": "code",
   "execution_count": 3,
   "metadata": {},
   "outputs": [],
   "source": [
    "chrome_options = Options()  \n",
    "chrome_options.add_argument(\"--headless\")  \n",
    "chrome_options.add_argument(\"--no-sandbox\")\n",
    "\n",
    "driver = webdriver.Chrome('chromedriver', options=chrome_options)"
   ]
  },
  {
   "cell_type": "code",
   "execution_count": 4,
   "metadata": {},
   "outputs": [],
   "source": [
    "url = 'https://ncov.dxy.cn/ncovh5/view/pneumonia'\n",
    "driver.get(url)"
   ]
  },
  {
   "cell_type": "markdown",
   "metadata": {},
   "source": [
    "### Extract date"
   ]
  },
  {
   "cell_type": "code",
   "execution_count": 5,
   "metadata": {},
   "outputs": [],
   "source": [
    "content = driver.page_source\n",
    "soup =BeautifulSoup(content, 'lxml')\n"
   ]
  },
  {
   "cell_type": "code",
   "execution_count": 6,
   "metadata": {},
   "outputs": [
    {
     "data": {
      "text/plain": [
       "['try { window.getIndexRumorList = [{\"id\":4,\"title\":\"家畜家禽海鲜都不能吃了？\",\"mainSummary\":\"丁香医生团队辟谣：正规家畜家禽海鲜都能吃\",\"summary\":\"\",\"body\":\"此次新型冠状病毒来源是非法销售的野生动物，目前未明确中间宿主。但正规渠道售卖的各类肉制品仍可食用。\",\"sourceUrl\":\"\",\"score\":1000,\"rumorType\":0},{\"id\":93,\"title\":\"喝茶可以预防新冠病毒？\",\"mainSummary\":\"丁香医生团队辟谣：补水挺好，预防病毒没用\",\"summary\":\"\",\"body\":\"目前尚无证据证明喝茶可以预防新冠病毒。尽量保持室内空气流通，注意卫生，勤洗手，吃熟食，远离人群就是最好的预防手段了。\",\"sourceUrl\":\"\",\"score\":1000,\"rumorType\":0},{\"id\":14,\"title\":\"戴多层口罩才能防住病毒?\",\"mainSummary\":\"丁香医生团队辟谣：佩戴多层口罩可能造成呼吸不畅\",\"summary\":\"\",\"body\":\"不需要佩戴多层口罩。建议选择 N95/KN95 或普通外科口罩，并且一层就够，其他口罩防护效果不如这三种。佩戴多层口罩还可能造成呼吸不畅。\\\\n\",\"sourceUrl\":\"\",\"score\":190,\"rumorType\":0},{\"id\":53,\"title\":\"多喝单枞茶多吃草莓可防肺炎？\",\"mainSummary\":\"经查证：系编造\",\"summary\":\"\",\"body\":\"网络上流传 2 张截图，配文分别称「钟南山发布多喝单枞茶对防止肺炎有重大效果」「国家卫生局发布多吃草莓对防止肺炎有重大效果」。这 2 张截图都是假的。钟南山院士曾就肺炎疫情接受过媒体采访，并没有提到过前述的信息。目前我国并没有「国家卫生局」这个机构，只有国家卫健委。国家卫健委也并没发布过前述的信息。\",\"sourceUrl\":\"\",\"score\":188,\"rumorType\":0},{\"id\":110,\"title\":\"新冠病毒可以通过蚊虫叮咬传播？\",\"mainSummary\":\"丁香医生团队辟谣：目前没有证据\",\"summary\":\"\",\"body\":\"《新型冠状病毒感染的肺炎诊疗方案（试行第五版）》指出「经呼吸道飞沫和接触传播是主要的传播途径。气溶胶和消化道等传播途径尚待明确」并没有提到虫媒传播（蚊虫叮咬传播）。\",\"sourceUrl\":\"\",\"score\":187,\"rumorType\":0},{\"id\":175,\"title\":\"新冠肺炎疫苗已研制成功？\",\"mainSummary\":\"天津大学：疫苗初步成型，但距离上市尚早\",\"summary\":\"\",\"body\":\"2 月 25 日有媒体报道，天津大学生命科学学院黄金海教授团队「取得重大突破，新冠疫苗已经研制成功」。实际上，目前天津大学的研究还是一个初步结果，目前的阶段是完成了疫苗设计，但没有动物实验及其它的必要数据，安全性、有效性都没有验证过，远远谈不上是「研制成功」。\",\"sourceUrl\":\"\",\"score\":186,\"rumorType\":0},{\"id\":176,\"title\":\"新冠病毒尚未发生明显变异？\",\"mainSummary\":\"中国-世界卫生组织新冠肺炎联合专家考察组：病毒尚未发生明显变异\",\"summary\":\"\",\"body\":\"中国-世界卫生组织新冠肺炎联合专家考察组 24 日在北京举行发布会。考察组中方组长梁万年：通过对不同地点分离出的 104 株新冠病毒株进行全基因组测序，证实同源性达 99.9%，提示病毒尚未发生明显变异。\",\"sourceUrl\":\"\",\"score\":185,\"rumorType\":1},{\"id\":174,\"title\":\"中间层烧不着的口罩才是真的？\",\"mainSummary\":\"解放日报辟谣：口罩是否可以被点燃，不是鉴别口罩真伪的标准\",\"summary\":\"\",\"body\":\"记者查阅到，口罩的主要材料有聚丙烯等。资料显示，聚丙烯是由丙烯聚合而制得的一种热塑性树脂，材料本身是可燃的。相关国家标准也仅对口罩的「易燃性」作了规定，如医用防护口罩国家标准《医用防护口罩技术要求GB 19083-2010》中规定「所用材料不应具有易燃性。续燃时间应不超过 5 秒」，没有「不可燃」这一要求。口罩是否可以被点燃，不是鉴别口罩真伪的标准。\",\"sourceUrl\":\"\",\"score\":184,\"rumorType\":0},{\"id\":173,\"title\":\"十年前就有人预测疫情？\",\"mainSummary\":\"上海图书馆查证：没有找到传闻里提到的这本书，同名文章也没有相关内容\",\"summary\":\"\",\"body\":\"网传「陈国生写的一本叫《实证化中医基础理论及运用》的书在十年前预言了这次肺炎疫情」。上海图书馆进行了查证，没有检索到这本书。\\\\n在万方数据库里，可以查得陈国生所写《实证化中医基础理论依据及应用》这篇文章，发表在《2011 年全国天灾预测研讨学术会议论文集》中，题名和网传有一字之差，但能够对上年份和会议名称。但并未发现涉及任何与疫情预测相关的内容。\",\"sourceUrl\":\"\",\"score\":183,\"rumorType\":0},{\"id\":172,\"title\":\"美 1.4 万流感死者或部分死于新冠？\",\"mainSummary\":\"美国疾控中心独家回应：目前无证据支持\",\"summary\":\"\",\"body\":\"针对日本朝日电视台此前惊人猜测「美国 1.4 万名因流感致死的人中部分可能死于新冠肺炎」，美国疾控中心（CDC）22 日回应环球时报-环球网记者表示，到目前为止，CDC 没有证据支持日本朝日电视台的相关猜测。\\\\nCDC 同时确认，截至 22 日晚，美国一共有 35 例新冠肺炎确诊病例。\",\"sourceUrl\":\"\",\"score\":182,\"rumorType\":2}]}catch(e){}',\n",
       " '截至 2020-02-28 05:00 全国数据统计']"
      ]
     },
     "execution_count": 6,
     "metadata": {},
     "output_type": "execute_result"
    }
   ],
   "source": [
    "data = soup.findAll(text=re.compile(\"截至 .+\"))\n",
    "data"
   ]
  },
  {
   "cell_type": "code",
   "execution_count": 7,
   "metadata": {},
   "outputs": [
    {
     "data": {
      "text/plain": [
       "'2020-02-28 05:00'"
      ]
     },
     "execution_count": 7,
     "metadata": {},
     "output_type": "execute_result"
    }
   ],
   "source": [
    "for s in data:\n",
    "    m = re.search(\"截至 (202\\d-\\d+-\\d+ \\d+:\\d+)\", s)\n",
    "    if m is not None:\n",
    "        data_date_time = m.group(1)\n",
    "data_date_time"
   ]
  },
  {
   "cell_type": "markdown",
   "metadata": {},
   "source": [
    "### Extract data (summary)"
   ]
  },
  {
   "cell_type": "code",
   "execution_count": 8,
   "metadata": {},
   "outputs": [
    {
     "data": {
      "text/plain": [
       "['try { window.getStatisticsService = {\"id\":1,\"createTime\":1579537899000,\"modifyTime\":1582866009000,\"infectSource\":\"该字段已替换为说明2\",\"passWay\":\"该字段已替换为说明3\",\"imgUrl\":\"https://img1.dxycdn.com/2020/0201/450/3394153392393266839-135.png\",\"dailyPic\":\"https://img1.dxycdn.com/2020/0211/763/3395998884005602079-135.png,https://img1.dxycdn.com/2020/0211/362/3395998896890788910-135.png,https://img1.dxycdn.com/2020/0211/365/3395998905480724211-135.png,https://img1.dxycdn.com/2020/0211/364/3395998916217859778-135.png,https://img1.dxycdn.com/2020/0211/922/3395998929103046444-135.png,https://img1.dxycdn.com/2020/0211/089/3395998939840182072-135.png\",\"dailyPics\":[\"https://img1.dxycdn.com/2020/0211/763/3395998884005602079-135.png\",\"https://img1.dxycdn.com/2020/0211/362/3395998896890788910-135.png\",\"https://img1.dxycdn.com/2020/0211/365/3395998905480724211-135.png\",\"https://img1.dxycdn.com/2020/0211/364/3395998916217859778-135.png\",\"https://img1.dxycdn.com/2020/0211/922/3395998929103046444-135.png\",\"https://img1.dxycdn.com/2020/0211/089/3395998939840182072-135.png\"],\"summary\":\"\",\"deleted\":false,\"countRemark\":\"\",\"currentConfirmedCount\":39955,\"confirmedCount\":78959,\"suspectedCount\":2308,\"curedCount\":36213,\"deadCount\":2791,\"seriousCount\":7952,\"suspectedIncr\":452,\"currentConfirmedIncr\":-3397,\"confirmedIncr\":329,\"curedIncr\":3682,\"deadIncr\":44,\"seriousIncr\":-394,\"virus\":\"该字段已替换为说明1\",\"remark1\":\"易感人群：人群普遍易感。老年人及有基础疾病者感染后病情较重，儿童及婴幼儿也有发病\",\"remark2\":\"潜伏期：一般为 3～7 天，最长不超过 14 天，潜伏期内可能存在传染性，其中无症状病例传染性非常罕见\",\"remark3\":\"宿主：野生动物，可能为中华菊头蝠\",\"remark4\":\"\",\"remark5\":\"\",\"note1\":\"病毒：SARS-CoV-2，其导致疾病命名 COVID-19\",\"note2\":\"传染源：新冠肺炎的患者。无症状感染者也可能成为传染源。\",\"note3\":\"传播途径：经呼吸道飞沫、接触传播是主要的传播途径。气溶胶传播和消化道等传播途径尚待明确。\",\"generalRemark\":\"疑似病例数来自国家卫健委数据，目前为全国数据，未分省市自治区等\",\"abroadRemark\":\"\",\"marquee\":[{\"id\":813,\"marqueeLabel\":\"钟南山\",\"marqueeContent\":\"疫情新闻通气会上披露 8 条重要信息\",\"marqueeLink\":\"https://dxy.me/tevEAM\"},{\"id\":814,\"marqueeLabel\":\"伊朗\",\"marqueeContent\":\"多名高官感染，前大使染病身亡\",\"marqueeLink\":\"https://dxy.me/8gVmZQ\"},{\"id\":815,\"marqueeLabel\":\"资讯\",\"marqueeContent\":\"中央强调：开学时间原则上继续推迟\",\"marqueeLink\":\"https://dxy.me/kB7wpF\"}],\"quanguoTrendChart\":[{\"imgUrl\":\"https://img1.dxycdn.com/2020/0228/560/3399147082148841407-135.png\",\"title\":\"新增疑似/新增确诊\"},{\"imgUrl\":\"https://img1.dxycdn.com/2020/0228/643/3399147133688451254-135.png\",\"title\":\"现存确诊/现存疑似\"},{\"imgUrl\":\"https://img1.dxycdn.com/2020/0228/830/3399147178785501858-135.png\",\"title\":\"死亡/治愈\"},{\"imgUrl\":\"https://img1.dxycdn.com/2020/0228/591/3399147195965371772-135.png\",\"title\":\"病死率\"},{\"imgUrl\":\"https://img1.dxycdn.com/2020/0228/847/3399147223882768417-135.png\",\"title\":\"治愈率\"}],\"hbFeiHbTrendChart\":[{\"imgUrl\":\"https://img1.dxycdn.com/2020/0228/947/3399147303339296588-135.png\",\"title\":\"湖北新增确诊\"},{\"imgUrl\":\"https://img1.dxycdn.com/2020/0228/714/3399147322666650277-135.png\",\"title\":\"非湖北新增确诊\"},{\"imgUrl\":\"https://img1.dxycdn.com/2020/0228/374/3399147339846520077-135.png\",\"title\":\"湖北现存确诊\"},{\"imgUrl\":\"https://img1.dxycdn.com/2020/0228/671/3399147352731792628-135.png\",\"title\":\"非湖北现存确诊\"},{\"imgUrl\":\"https://img1.dxycdn.com/2020/0228/955/3399147376354113751-135.png\",\"title\":\"治愈/死亡\"}]}}catch(e){}']"
      ]
     },
     "execution_count": 8,
     "metadata": {},
     "output_type": "execute_result"
    }
   ],
   "source": [
    "data = soup.findAll(text=re.compile('\\\"summary.+\\\"confirmedCount\\\":\\d'))\n",
    "\n",
    "data\n"
   ]
  },
  {
   "cell_type": "code",
   "execution_count": 9,
   "metadata": {},
   "outputs": [],
   "source": [
    "m = re.search('\\\"confirmedCount\\\":(\\d+)', data[0])\n",
    "summary_confirmed_count = int(m.group(1))\n",
    "\n",
    "\n",
    "m = re.search('\\\"curedCount\\\":(\\d+)', data[0])\n",
    "summary_cured_count = int(m.group(1))\n",
    "\n",
    "m = re.search('\\\"deadCount\\\":(\\d+)', data[0])\n",
    "summary_dead_count = int(m.group(1))\n"
   ]
  },
  {
   "cell_type": "code",
   "execution_count": 10,
   "metadata": {},
   "outputs": [
    {
     "data": {
      "text/html": [
       "<div>\n",
       "<style scoped>\n",
       "    .dataframe tbody tr th:only-of-type {\n",
       "        vertical-align: middle;\n",
       "    }\n",
       "\n",
       "    .dataframe tbody tr th {\n",
       "        vertical-align: top;\n",
       "    }\n",
       "\n",
       "    .dataframe thead th {\n",
       "        text-align: right;\n",
       "    }\n",
       "</style>\n",
       "<table border=\"1\" class=\"dataframe\">\n",
       "  <thead>\n",
       "    <tr style=\"text-align: right;\">\n",
       "      <th></th>\n",
       "      <th>datetime</th>\n",
       "      <th>confirmed</th>\n",
       "      <th>cured</th>\n",
       "      <th>dead</th>\n",
       "    </tr>\n",
       "  </thead>\n",
       "  <tbody>\n",
       "    <tr>\n",
       "      <th>0</th>\n",
       "      <td>2020-02-28 05:00</td>\n",
       "      <td>78959</td>\n",
       "      <td>36213</td>\n",
       "      <td>2791</td>\n",
       "    </tr>\n",
       "  </tbody>\n",
       "</table>\n",
       "</div>"
      ],
      "text/plain": [
       "           datetime  confirmed  cured  dead\n",
       "0  2020-02-28 05:00      78959  36213  2791"
      ]
     },
     "execution_count": 10,
     "metadata": {},
     "output_type": "execute_result"
    }
   ],
   "source": [
    "# make a dataframe\n",
    "df = pd.DataFrame({\n",
    "    'datetime': data_date_time,\n",
    "    'confirmed': summary_confirmed_count,\n",
    "    'cured': summary_cured_count,\n",
    "    'dead': summary_dead_count\n",
    "}, index=[0])\n",
    "df"
   ]
  },
  {
   "cell_type": "markdown",
   "metadata": {},
   "source": [
    "### Save to file"
   ]
  },
  {
   "cell_type": "code",
   "execution_count": 11,
   "metadata": {},
   "outputs": [],
   "source": [
    "from pathlib import Path\n",
    "csv_file = 'data/china-summary-cases.csv'\n",
    "\n",
    "if Path(csv_file).exists():\n",
    "    # read out the old data - then merge with new data and remove duplicates based on datetime\n",
    "    old_df = pd.read_csv(csv_file)\n",
    "    df = df.append(old_df)\n",
    "df.drop_duplicates(subset=['datetime'], inplace=True)"
   ]
  },
  {
   "cell_type": "code",
   "execution_count": 12,
   "metadata": {},
   "outputs": [],
   "source": [
    "df.sort_values(by=['datetime'], inplace=True)\n",
    "\n",
    "df.to_csv(csv_file, index=False)\n"
   ]
  },
  {
   "cell_type": "markdown",
   "metadata": {},
   "source": [
    "### Plot graph"
   ]
  },
  {
   "cell_type": "code",
   "execution_count": 13,
   "metadata": {},
   "outputs": [],
   "source": [
    "import seaborn as sns\n",
    "import matplotlib.pyplot as plt\n",
    "from pandas.plotting import register_matplotlib_converters\n",
    "register_matplotlib_converters()\n",
    "\n",
    "png_file = 'images/china-summary-cases.png'\n",
    "# convert to pd.datetime\n",
    "df['datetime_idx'] = pd.to_datetime(df['datetime'], format=\"%Y-%m-%d %H:%M\")\n",
    "\n",
    "df.set_index('datetime_idx', inplace=True)\n",
    "df.drop(['datetime'], axis=1, inplace=True)\n"
   ]
  },
  {
   "cell_type": "code",
   "execution_count": 14,
   "metadata": {},
   "outputs": [
    {
     "data": {
      "text/html": [
       "<div>\n",
       "<style scoped>\n",
       "    .dataframe tbody tr th:only-of-type {\n",
       "        vertical-align: middle;\n",
       "    }\n",
       "\n",
       "    .dataframe tbody tr th {\n",
       "        vertical-align: top;\n",
       "    }\n",
       "\n",
       "    .dataframe thead th {\n",
       "        text-align: right;\n",
       "    }\n",
       "</style>\n",
       "<table border=\"1\" class=\"dataframe\">\n",
       "  <thead>\n",
       "    <tr style=\"text-align: right;\">\n",
       "      <th></th>\n",
       "      <th>confirmed</th>\n",
       "      <th>cured</th>\n",
       "      <th>dead</th>\n",
       "    </tr>\n",
       "    <tr>\n",
       "      <th>datetime_idx</th>\n",
       "      <th></th>\n",
       "      <th></th>\n",
       "      <th></th>\n",
       "    </tr>\n",
       "  </thead>\n",
       "  <tbody>\n",
       "    <tr>\n",
       "      <th>2020-02-02 10:22:00</th>\n",
       "      <td>14483</td>\n",
       "      <td>379</td>\n",
       "      <td>304</td>\n",
       "    </tr>\n",
       "    <tr>\n",
       "      <th>2020-02-02 10:28:00</th>\n",
       "      <td>14483</td>\n",
       "      <td>380</td>\n",
       "      <td>304</td>\n",
       "    </tr>\n",
       "    <tr>\n",
       "      <th>2020-02-02 11:19:00</th>\n",
       "      <td>14489</td>\n",
       "      <td>385</td>\n",
       "      <td>304</td>\n",
       "    </tr>\n",
       "    <tr>\n",
       "      <th>2020-02-02 11:54:00</th>\n",
       "      <td>14489</td>\n",
       "      <td>397</td>\n",
       "      <td>304</td>\n",
       "    </tr>\n",
       "    <tr>\n",
       "      <th>2020-02-02 15:01:00</th>\n",
       "      <td>14490</td>\n",
       "      <td>430</td>\n",
       "      <td>304</td>\n",
       "    </tr>\n",
       "    <tr>\n",
       "      <th>...</th>\n",
       "      <td>...</td>\n",
       "      <td>...</td>\n",
       "      <td>...</td>\n",
       "    </tr>\n",
       "    <tr>\n",
       "      <th>2020-02-28 01:03:00</th>\n",
       "      <td>78959</td>\n",
       "      <td>36157</td>\n",
       "      <td>2791</td>\n",
       "    </tr>\n",
       "    <tr>\n",
       "      <th>2020-02-28 02:20:00</th>\n",
       "      <td>78959</td>\n",
       "      <td>36157</td>\n",
       "      <td>2791</td>\n",
       "    </tr>\n",
       "    <tr>\n",
       "      <th>2020-02-28 02:25:00</th>\n",
       "      <td>78959</td>\n",
       "      <td>36157</td>\n",
       "      <td>2791</td>\n",
       "    </tr>\n",
       "    <tr>\n",
       "      <th>2020-02-28 04:03:00</th>\n",
       "      <td>78959</td>\n",
       "      <td>36159</td>\n",
       "      <td>2791</td>\n",
       "    </tr>\n",
       "    <tr>\n",
       "      <th>2020-02-28 05:00:00</th>\n",
       "      <td>78959</td>\n",
       "      <td>36213</td>\n",
       "      <td>2791</td>\n",
       "    </tr>\n",
       "  </tbody>\n",
       "</table>\n",
       "<p>381 rows × 3 columns</p>\n",
       "</div>"
      ],
      "text/plain": [
       "                     confirmed  cured  dead\n",
       "datetime_idx                               \n",
       "2020-02-02 10:22:00      14483    379   304\n",
       "2020-02-02 10:28:00      14483    380   304\n",
       "2020-02-02 11:19:00      14489    385   304\n",
       "2020-02-02 11:54:00      14489    397   304\n",
       "2020-02-02 15:01:00      14490    430   304\n",
       "...                        ...    ...   ...\n",
       "2020-02-28 01:03:00      78959  36157  2791\n",
       "2020-02-28 02:20:00      78959  36157  2791\n",
       "2020-02-28 02:25:00      78959  36157  2791\n",
       "2020-02-28 04:03:00      78959  36159  2791\n",
       "2020-02-28 05:00:00      78959  36213  2791\n",
       "\n",
       "[381 rows x 3 columns]"
      ]
     },
     "execution_count": 14,
     "metadata": {},
     "output_type": "execute_result"
    }
   ],
   "source": [
    "df"
   ]
  },
  {
   "cell_type": "code",
   "execution_count": 15,
   "metadata": {},
   "outputs": [
    {
     "data": {
      "image/png": "[encoded data removed]",
      "text/plain": [
       "<Figure size 1008x1008 with 3 Axes>"
      ]
     },
     "metadata": {},
     "output_type": "display_data"
    }
   ],
   "source": [
    "if df.shape[0]>1:\n",
    "    # line chart when having at least a few points\n",
    "    sns.set(rc={'figure.figsize':(14,14)})\n",
    "\n",
    "    fig, axs = plt.subplots(nrows=3)\n",
    "\n",
    "    sns.lineplot(x=df.index, y = 'confirmed', data=df, ax= axs[0], estimator=None, color='orange')\n",
    "    sns.lineplot(x=df.index, y = 'cured', data=df, ax= axs[1], estimator=None, color='green')\n",
    "    sns.lineplot(x=df.index, y = 'dead', data=df, ax= axs[2], estimator=None, color='darkred')\n",
    "\n",
    "    for ax in axs:\n",
    "        ax.set_xlabel('')\n",
    "        ax.tick_params(axis='x', labelrotation=30)\n",
    "else:\n",
    "\n",
    "    ax = df.plot(kind='bar', stacked=True, figsize=(9,6))\n",
    "    fig = ax.get_figure()\n",
    "    ax.set_xlabel('')\n",
    "    for label in ax.get_xticklabels():\n",
    "        label.set_rotation(0) \n"
   ]
  },
  {
   "cell_type": "code",
   "execution_count": 16,
   "metadata": {},
   "outputs": [],
   "source": [
    "fig.savefig(png_file)"
   ]
  },
  {
   "cell_type": "code",
   "execution_count": null,
   "metadata": {},
   "outputs": [],
   "source": []
  }
 ],
 "metadata": {
  "kernelspec": {
   "display_name": "Python 3",
   "language": "python",
   "name": "python3"
  },
  "language_info": {
   "codemirror_mode": {
    "name": "ipython",
    "version": 3
   },
   "file_extension": ".py",
   "mimetype": "text/x-python",
   "name": "python",
   "nbconvert_exporter": "python",
   "pygments_lexer": "ipython3",
   "version": "3.7.6"
  }
 },
 "nbformat": 4,
 "nbformat_minor": 2
}
