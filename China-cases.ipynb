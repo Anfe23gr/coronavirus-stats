{
 "cells": [
  {
   "cell_type": "code",
   "execution_count": 1,
   "metadata": {},
   "outputs": [],
   "source": [
    "import pandas as pd\n",
    "import requests\n",
    "from bs4 import BeautifulSoup\n",
    "import re\n",
    "from datetime import datetime\n",
    "from selenium import webdriver\n",
    "from selenium.webdriver.chrome.options import Options  \n"
   ]
  },
  {
   "cell_type": "code",
   "execution_count": 2,
   "metadata": {},
   "outputs": [
    {
     "data": {
      "text/plain": [
       "datetime.datetime(2020, 2, 5, 10, 7, 22, 714061)"
      ]
     },
     "execution_count": 2,
     "metadata": {},
     "output_type": "execute_result"
    }
   ],
   "source": [
    "datetime.now()"
   ]
  },
  {
   "cell_type": "code",
   "execution_count": 3,
   "metadata": {},
   "outputs": [],
   "source": [
    "chrome_options = Options()  \n",
    "chrome_options.add_argument(\"--headless\")  \n",
    "chrome_options.add_argument(\"--no-sandbox\")\n",
    "\n",
    "driver = webdriver.Chrome('chromedriver', options=chrome_options)"
   ]
  },
  {
   "cell_type": "code",
   "execution_count": 4,
   "metadata": {},
   "outputs": [],
   "source": [
    "url = 'https://ncov.dxy.cn/ncovh5/view/pneumonia'\n",
    "driver.get(url)"
   ]
  },
  {
   "cell_type": "markdown",
   "metadata": {},
   "source": [
    "### Extract date"
   ]
  },
  {
   "cell_type": "code",
   "execution_count": 5,
   "metadata": {},
   "outputs": [],
   "source": [
    "content = driver.page_source\n",
    "soup =BeautifulSoup(content, 'lxml')\n"
   ]
  },
  {
   "cell_type": "code",
   "execution_count": 6,
   "metadata": {},
   "outputs": [
    {
     "data": {
      "text/plain": [
       "['截至 2020-02-05 10:02 全国数据统计']"
      ]
     },
     "execution_count": 6,
     "metadata": {},
     "output_type": "execute_result"
    }
   ],
   "source": [
    "data = soup.findAll(text=re.compile(\"截至 .+\"))\n",
    "data"
   ]
  },
  {
   "cell_type": "code",
   "execution_count": 7,
   "metadata": {},
   "outputs": [
    {
     "data": {
      "text/plain": [
       "'2020-02-05 10:02'"
      ]
     },
     "execution_count": 7,
     "metadata": {},
     "output_type": "execute_result"
    }
   ],
   "source": [
    "m = re.search(\"截至 (202\\d-\\d+-\\d+ \\d+:\\d+)\", data[0])\n",
    "data_date_time = m.group(1)\n",
    "data_date_time"
   ]
  },
  {
   "cell_type": "markdown",
   "metadata": {},
   "source": [
    "### Extract data (summary)"
   ]
  },
  {
   "cell_type": "code",
   "execution_count": 8,
   "metadata": {},
   "outputs": [
    {
     "data": {
      "text/plain": [
       "['try { window.getStatisticsService = {\"id\":1,\"createTime\":1579537899000,\"modifyTime\":1580896949000,\"infectSource\":\"该字段已替换为说明2\",\"passWay\":\"该字段已替换为说明3\",\"imgUrl\":\"https://img1.dxycdn.com/2020/0201/450/3394153392393266839-135.png\",\"dailyPic\":\"https://img1.dxycdn.com/2020/0205/300/3394878936923352083-135.png,https://img1.dxycdn.com/2020/0205/253/3394879100132420050-135.png,https://img1.dxycdn.com/2020/0205/312/3394879301995899763-135.png,https://img1.dxycdn.com/2020/0205/356/3394879357830479001-135.png,https://img1.dxycdn.com/2020/0205/122/3394879495269001393-135.png,https://img1.dxycdn.com/2020/0205/210/3394879553251507095-135.png\",\"dailyPics\":[\"https://img1.dxycdn.com/2020/0205/300/3394878936923352083-135.png\",\"https://img1.dxycdn.com/2020/0205/253/3394879100132420050-135.png\",\"https://img1.dxycdn.com/2020/0205/312/3394879301995899763-135.png\",\"https://img1.dxycdn.com/2020/0205/356/3394879357830479001-135.png\",\"https://img1.dxycdn.com/2020/0205/122/3394879495269001393-135.png\",\"https://img1.dxycdn.com/2020/0205/210/3394879553251507095-135.png\"],\"summary\":\"\",\"deleted\":false,\"countRemark\":\"\",\"confirmedCount\":24423,\"suspectedCount\":23260,\"curedCount\":941,\"deadCount\":492,\"seriousCount\":3219,\"suspectedIncr\":3971,\"confirmedIncr\":3949,\"curedIncr\":311,\"deadIncr\":67,\"seriousIncr\":431,\"virus\":\"该字段已替换为说明1\",\"remark1\":\"易感人群：人群普遍易感。老年人及有基础疾病者感染后病情较重，儿童及婴幼儿也有发病\",\"remark2\":\"潜伏期：一般为 3～7 天，最长不超过 14 天，潜伏期内可能存在传染性，但无症状病例传染性较弱\",\"remark3\":\"宿主：野生动物，可能为中华菊头蝠\",\"remark4\":\"\",\"remark5\":\"\",\"note1\":\"病毒：新型冠状病毒 2019-nCoV\",\"note2\":\"传染源：新型冠状病毒感染的患者。无症状感染者也可能成为传染源。\",\"note3\":\"传播途径：经呼吸道飞沫和接触传播是主要的传播途径。气溶胶和消化道等传播途径尚待明确。\",\"generalRemark\":\"疑似病例数来自国家卫健委数据，目前为全国数据，未分省市自治区等\",\"abroadRemark\":\"\",\"marquee\":[]}}catch(e){}']"
      ]
     },
     "execution_count": 8,
     "metadata": {},
     "output_type": "execute_result"
    }
   ],
   "source": [
    "data = soup.findAll(text=re.compile('\\\"summary.+\\\"confirmedCount\\\":\\d'))\n",
    "\n",
    "data\n"
   ]
  },
  {
   "cell_type": "code",
   "execution_count": 9,
   "metadata": {},
   "outputs": [],
   "source": [
    "m = re.search('\\\"confirmedCount\\\":(\\d+)', data[0])\n",
    "summary_confirmed_count = int(m.group(1))\n",
    "\n",
    "\n",
    "m = re.search('\\\"curedCount\\\":(\\d+)', data[0])\n",
    "summary_cured_count = int(m.group(1))\n",
    "\n",
    "m = re.search('\\\"deadCount\\\":(\\d+)', data[0])\n",
    "summary_dead_count = int(m.group(1))\n"
   ]
  },
  {
   "cell_type": "code",
   "execution_count": 10,
   "metadata": {},
   "outputs": [
    {
     "data": {
      "text/html": [
       "<div>\n",
       "<style scoped>\n",
       "    .dataframe tbody tr th:only-of-type {\n",
       "        vertical-align: middle;\n",
       "    }\n",
       "\n",
       "    .dataframe tbody tr th {\n",
       "        vertical-align: top;\n",
       "    }\n",
       "\n",
       "    .dataframe thead th {\n",
       "        text-align: right;\n",
       "    }\n",
       "</style>\n",
       "<table border=\"1\" class=\"dataframe\">\n",
       "  <thead>\n",
       "    <tr style=\"text-align: right;\">\n",
       "      <th></th>\n",
       "      <th>datetime</th>\n",
       "      <th>confirmed</th>\n",
       "      <th>cured</th>\n",
       "      <th>dead</th>\n",
       "    </tr>\n",
       "  </thead>\n",
       "  <tbody>\n",
       "    <tr>\n",
       "      <th>0</th>\n",
       "      <td>2020-02-05 10:02</td>\n",
       "      <td>24423</td>\n",
       "      <td>941</td>\n",
       "      <td>492</td>\n",
       "    </tr>\n",
       "  </tbody>\n",
       "</table>\n",
       "</div>"
      ],
      "text/plain": [
       "           datetime  confirmed  cured  dead\n",
       "0  2020-02-05 10:02      24423    941   492"
      ]
     },
     "execution_count": 10,
     "metadata": {},
     "output_type": "execute_result"
    }
   ],
   "source": [
    "# make a dataframe\n",
    "df = pd.DataFrame({\n",
    "    'datetime': data_date_time,\n",
    "    'confirmed': summary_confirmed_count,\n",
    "    'cured': summary_cured_count,\n",
    "    'dead': summary_dead_count\n",
    "}, index=[0])\n",
    "df"
   ]
  },
  {
   "cell_type": "markdown",
   "metadata": {},
   "source": [
    "### Save to file"
   ]
  },
  {
   "cell_type": "code",
   "execution_count": 11,
   "metadata": {},
   "outputs": [],
   "source": [
    "from pathlib import Path\n",
    "csv_file = 'data/china-summary-cases.csv'\n",
    "\n",
    "if Path(csv_file).exists():\n",
    "    # read out the old data - then merge with new data and remove duplicates based on datetime\n",
    "    old_df = pd.read_csv(csv_file)\n",
    "    df = df.append(old_df)\n",
    "df.drop_duplicates(subset=['datetime'], inplace=True)"
   ]
  },
  {
   "cell_type": "code",
   "execution_count": 12,
   "metadata": {},
   "outputs": [],
   "source": [
    "df.sort_values(by=['datetime'], inplace=True)\n",
    "\n",
    "df.to_csv(csv_file, index=False)\n"
   ]
  },
  {
   "cell_type": "markdown",
   "metadata": {},
   "source": [
    "### Plot graph"
   ]
  },
  {
   "cell_type": "code",
   "execution_count": 13,
   "metadata": {},
   "outputs": [],
   "source": [
    "import seaborn as sns\n",
    "import matplotlib.pyplot as plt\n",
    "from pandas.plotting import register_matplotlib_converters\n",
    "register_matplotlib_converters()\n",
    "\n",
    "png_file = 'images/china-summary-cases.png'\n",
    "# convert to pd.datetime\n",
    "df['datetime_idx'] = pd.to_datetime(df['datetime'], format=\"%Y-%m-%d %H:%M\")\n",
    "\n",
    "df.set_index('datetime_idx', inplace=True)\n",
    "df.drop(['datetime'], axis=1, inplace=True)\n"
   ]
  },
  {
   "cell_type": "code",
   "execution_count": 14,
   "metadata": {},
   "outputs": [
    {
     "data": {
      "text/html": [
       "<div>\n",
       "<style scoped>\n",
       "    .dataframe tbody tr th:only-of-type {\n",
       "        vertical-align: middle;\n",
       "    }\n",
       "\n",
       "    .dataframe tbody tr th {\n",
       "        vertical-align: top;\n",
       "    }\n",
       "\n",
       "    .dataframe thead th {\n",
       "        text-align: right;\n",
       "    }\n",
       "</style>\n",
       "<table border=\"1\" class=\"dataframe\">\n",
       "  <thead>\n",
       "    <tr style=\"text-align: right;\">\n",
       "      <th></th>\n",
       "      <th>confirmed</th>\n",
       "      <th>cured</th>\n",
       "      <th>dead</th>\n",
       "    </tr>\n",
       "    <tr>\n",
       "      <th>datetime_idx</th>\n",
       "      <th></th>\n",
       "      <th></th>\n",
       "      <th></th>\n",
       "    </tr>\n",
       "  </thead>\n",
       "  <tbody>\n",
       "    <tr>\n",
       "      <th>2020-02-02 10:22:00</th>\n",
       "      <td>14483</td>\n",
       "      <td>379</td>\n",
       "      <td>304</td>\n",
       "    </tr>\n",
       "    <tr>\n",
       "      <th>2020-02-02 10:28:00</th>\n",
       "      <td>14483</td>\n",
       "      <td>380</td>\n",
       "      <td>304</td>\n",
       "    </tr>\n",
       "    <tr>\n",
       "      <th>2020-02-02 11:19:00</th>\n",
       "      <td>14489</td>\n",
       "      <td>385</td>\n",
       "      <td>304</td>\n",
       "    </tr>\n",
       "    <tr>\n",
       "      <th>2020-02-02 11:54:00</th>\n",
       "      <td>14489</td>\n",
       "      <td>397</td>\n",
       "      <td>304</td>\n",
       "    </tr>\n",
       "    <tr>\n",
       "      <th>2020-02-02 15:01:00</th>\n",
       "      <td>14490</td>\n",
       "      <td>430</td>\n",
       "      <td>304</td>\n",
       "    </tr>\n",
       "    <tr>\n",
       "      <th>2020-02-02 15:46:00</th>\n",
       "      <td>14490</td>\n",
       "      <td>434</td>\n",
       "      <td>304</td>\n",
       "    </tr>\n",
       "    <tr>\n",
       "      <th>2020-02-03 00:05:00</th>\n",
       "      <td>17205</td>\n",
       "      <td>475</td>\n",
       "      <td>361</td>\n",
       "    </tr>\n",
       "    <tr>\n",
       "      <th>2020-02-03 01:17:00</th>\n",
       "      <td>17238</td>\n",
       "      <td>475</td>\n",
       "      <td>361</td>\n",
       "    </tr>\n",
       "    <tr>\n",
       "      <th>2020-02-03 03:55:00</th>\n",
       "      <td>17238</td>\n",
       "      <td>478</td>\n",
       "      <td>361</td>\n",
       "    </tr>\n",
       "    <tr>\n",
       "      <th>2020-02-03 04:21:00</th>\n",
       "      <td>17238</td>\n",
       "      <td>479</td>\n",
       "      <td>361</td>\n",
       "    </tr>\n",
       "    <tr>\n",
       "      <th>2020-02-03 06:03:00</th>\n",
       "      <td>17238</td>\n",
       "      <td>479</td>\n",
       "      <td>361</td>\n",
       "    </tr>\n",
       "    <tr>\n",
       "      <th>2020-02-03 06:28:00</th>\n",
       "      <td>17239</td>\n",
       "      <td>479</td>\n",
       "      <td>361</td>\n",
       "    </tr>\n",
       "    <tr>\n",
       "      <th>2020-02-03 07:26:00</th>\n",
       "      <td>17255</td>\n",
       "      <td>479</td>\n",
       "      <td>361</td>\n",
       "    </tr>\n",
       "    <tr>\n",
       "      <th>2020-02-03 08:46:00</th>\n",
       "      <td>17309</td>\n",
       "      <td>480</td>\n",
       "      <td>361</td>\n",
       "    </tr>\n",
       "    <tr>\n",
       "      <th>2020-02-03 09:34:00</th>\n",
       "      <td>17335</td>\n",
       "      <td>484</td>\n",
       "      <td>361</td>\n",
       "    </tr>\n",
       "    <tr>\n",
       "      <th>2020-02-03 10:58:00</th>\n",
       "      <td>17335</td>\n",
       "      <td>494</td>\n",
       "      <td>361</td>\n",
       "    </tr>\n",
       "    <tr>\n",
       "      <th>2020-02-03 11:28:00</th>\n",
       "      <td>17335</td>\n",
       "      <td>497</td>\n",
       "      <td>361</td>\n",
       "    </tr>\n",
       "    <tr>\n",
       "      <th>2020-02-03 12:58:00</th>\n",
       "      <td>17335</td>\n",
       "      <td>513</td>\n",
       "      <td>361</td>\n",
       "    </tr>\n",
       "    <tr>\n",
       "      <th>2020-02-03 13:50:00</th>\n",
       "      <td>17339</td>\n",
       "      <td>521</td>\n",
       "      <td>361</td>\n",
       "    </tr>\n",
       "    <tr>\n",
       "      <th>2020-02-03 14:55:00</th>\n",
       "      <td>17341</td>\n",
       "      <td>527</td>\n",
       "      <td>361</td>\n",
       "    </tr>\n",
       "    <tr>\n",
       "      <th>2020-02-03 23:03:00</th>\n",
       "      <td>19690</td>\n",
       "      <td>623</td>\n",
       "      <td>425</td>\n",
       "    </tr>\n",
       "    <tr>\n",
       "      <th>2020-02-03 23:56:00</th>\n",
       "      <td>20471</td>\n",
       "      <td>632</td>\n",
       "      <td>425</td>\n",
       "    </tr>\n",
       "    <tr>\n",
       "      <th>2020-02-04 00:37:00</th>\n",
       "      <td>20471</td>\n",
       "      <td>632</td>\n",
       "      <td>425</td>\n",
       "    </tr>\n",
       "    <tr>\n",
       "      <th>2020-02-04 01:39:00</th>\n",
       "      <td>20471</td>\n",
       "      <td>635</td>\n",
       "      <td>425</td>\n",
       "    </tr>\n",
       "    <tr>\n",
       "      <th>2020-02-04 02:58:00</th>\n",
       "      <td>20471</td>\n",
       "      <td>635</td>\n",
       "      <td>425</td>\n",
       "    </tr>\n",
       "    <tr>\n",
       "      <th>2020-02-04 03:51:00</th>\n",
       "      <td>20471</td>\n",
       "      <td>637</td>\n",
       "      <td>426</td>\n",
       "    </tr>\n",
       "    <tr>\n",
       "      <th>2020-02-04 04:27:00</th>\n",
       "      <td>20471</td>\n",
       "      <td>648</td>\n",
       "      <td>426</td>\n",
       "    </tr>\n",
       "    <tr>\n",
       "      <th>2020-02-04 05:44:00</th>\n",
       "      <td>20471</td>\n",
       "      <td>657</td>\n",
       "      <td>426</td>\n",
       "    </tr>\n",
       "    <tr>\n",
       "      <th>2020-02-04 06:30:00</th>\n",
       "      <td>20471</td>\n",
       "      <td>658</td>\n",
       "      <td>426</td>\n",
       "    </tr>\n",
       "    <tr>\n",
       "      <th>2020-02-04 07:54:00</th>\n",
       "      <td>20479</td>\n",
       "      <td>660</td>\n",
       "      <td>426</td>\n",
       "    </tr>\n",
       "    <tr>\n",
       "      <th>2020-02-04 09:02:00</th>\n",
       "      <td>20504</td>\n",
       "      <td>669</td>\n",
       "      <td>426</td>\n",
       "    </tr>\n",
       "    <tr>\n",
       "      <th>2020-02-04 09:33:00</th>\n",
       "      <td>20520</td>\n",
       "      <td>688</td>\n",
       "      <td>426</td>\n",
       "    </tr>\n",
       "    <tr>\n",
       "      <th>2020-02-04 11:36:00</th>\n",
       "      <td>20522</td>\n",
       "      <td>693</td>\n",
       "      <td>426</td>\n",
       "    </tr>\n",
       "    <tr>\n",
       "      <th>2020-02-04 11:56:00</th>\n",
       "      <td>20522</td>\n",
       "      <td>704</td>\n",
       "      <td>426</td>\n",
       "    </tr>\n",
       "    <tr>\n",
       "      <th>2020-02-04 12:47:00</th>\n",
       "      <td>20523</td>\n",
       "      <td>711</td>\n",
       "      <td>426</td>\n",
       "    </tr>\n",
       "    <tr>\n",
       "      <th>2020-02-04 12:53:00</th>\n",
       "      <td>20523</td>\n",
       "      <td>714</td>\n",
       "      <td>426</td>\n",
       "    </tr>\n",
       "    <tr>\n",
       "      <th>2020-02-04 14:06:00</th>\n",
       "      <td>20527</td>\n",
       "      <td>716</td>\n",
       "      <td>426</td>\n",
       "    </tr>\n",
       "    <tr>\n",
       "      <th>2020-02-04 14:48:00</th>\n",
       "      <td>20528</td>\n",
       "      <td>717</td>\n",
       "      <td>426</td>\n",
       "    </tr>\n",
       "    <tr>\n",
       "      <th>2020-02-04 15:36:00</th>\n",
       "      <td>20530</td>\n",
       "      <td>718</td>\n",
       "      <td>426</td>\n",
       "    </tr>\n",
       "    <tr>\n",
       "      <th>2020-02-05 00:06:00</th>\n",
       "      <td>24363</td>\n",
       "      <td>892</td>\n",
       "      <td>491</td>\n",
       "    </tr>\n",
       "    <tr>\n",
       "      <th>2020-02-05 01:07:00</th>\n",
       "      <td>24363</td>\n",
       "      <td>892</td>\n",
       "      <td>491</td>\n",
       "    </tr>\n",
       "    <tr>\n",
       "      <th>2020-02-05 02:55:00</th>\n",
       "      <td>24363</td>\n",
       "      <td>897</td>\n",
       "      <td>491</td>\n",
       "    </tr>\n",
       "    <tr>\n",
       "      <th>2020-02-05 03:40:00</th>\n",
       "      <td>24363</td>\n",
       "      <td>897</td>\n",
       "      <td>492</td>\n",
       "    </tr>\n",
       "    <tr>\n",
       "      <th>2020-02-05 05:39:00</th>\n",
       "      <td>24367</td>\n",
       "      <td>898</td>\n",
       "      <td>492</td>\n",
       "    </tr>\n",
       "    <tr>\n",
       "      <th>2020-02-05 06:12:00</th>\n",
       "      <td>24377</td>\n",
       "      <td>901</td>\n",
       "      <td>492</td>\n",
       "    </tr>\n",
       "    <tr>\n",
       "      <th>2020-02-05 07:36:00</th>\n",
       "      <td>24388</td>\n",
       "      <td>901</td>\n",
       "      <td>492</td>\n",
       "    </tr>\n",
       "    <tr>\n",
       "      <th>2020-02-05 08:58:00</th>\n",
       "      <td>24413</td>\n",
       "      <td>917</td>\n",
       "      <td>492</td>\n",
       "    </tr>\n",
       "    <tr>\n",
       "      <th>2020-02-05 10:02:00</th>\n",
       "      <td>24423</td>\n",
       "      <td>941</td>\n",
       "      <td>492</td>\n",
       "    </tr>\n",
       "  </tbody>\n",
       "</table>\n",
       "</div>"
      ],
      "text/plain": [
       "                     confirmed  cured  dead\n",
       "datetime_idx                               \n",
       "2020-02-02 10:22:00      14483    379   304\n",
       "2020-02-02 10:28:00      14483    380   304\n",
       "2020-02-02 11:19:00      14489    385   304\n",
       "2020-02-02 11:54:00      14489    397   304\n",
       "2020-02-02 15:01:00      14490    430   304\n",
       "2020-02-02 15:46:00      14490    434   304\n",
       "2020-02-03 00:05:00      17205    475   361\n",
       "2020-02-03 01:17:00      17238    475   361\n",
       "2020-02-03 03:55:00      17238    478   361\n",
       "2020-02-03 04:21:00      17238    479   361\n",
       "2020-02-03 06:03:00      17238    479   361\n",
       "2020-02-03 06:28:00      17239    479   361\n",
       "2020-02-03 07:26:00      17255    479   361\n",
       "2020-02-03 08:46:00      17309    480   361\n",
       "2020-02-03 09:34:00      17335    484   361\n",
       "2020-02-03 10:58:00      17335    494   361\n",
       "2020-02-03 11:28:00      17335    497   361\n",
       "2020-02-03 12:58:00      17335    513   361\n",
       "2020-02-03 13:50:00      17339    521   361\n",
       "2020-02-03 14:55:00      17341    527   361\n",
       "2020-02-03 23:03:00      19690    623   425\n",
       "2020-02-03 23:56:00      20471    632   425\n",
       "2020-02-04 00:37:00      20471    632   425\n",
       "2020-02-04 01:39:00      20471    635   425\n",
       "2020-02-04 02:58:00      20471    635   425\n",
       "2020-02-04 03:51:00      20471    637   426\n",
       "2020-02-04 04:27:00      20471    648   426\n",
       "2020-02-04 05:44:00      20471    657   426\n",
       "2020-02-04 06:30:00      20471    658   426\n",
       "2020-02-04 07:54:00      20479    660   426\n",
       "2020-02-04 09:02:00      20504    669   426\n",
       "2020-02-04 09:33:00      20520    688   426\n",
       "2020-02-04 11:36:00      20522    693   426\n",
       "2020-02-04 11:56:00      20522    704   426\n",
       "2020-02-04 12:47:00      20523    711   426\n",
       "2020-02-04 12:53:00      20523    714   426\n",
       "2020-02-04 14:06:00      20527    716   426\n",
       "2020-02-04 14:48:00      20528    717   426\n",
       "2020-02-04 15:36:00      20530    718   426\n",
       "2020-02-05 00:06:00      24363    892   491\n",
       "2020-02-05 01:07:00      24363    892   491\n",
       "2020-02-05 02:55:00      24363    897   491\n",
       "2020-02-05 03:40:00      24363    897   492\n",
       "2020-02-05 05:39:00      24367    898   492\n",
       "2020-02-05 06:12:00      24377    901   492\n",
       "2020-02-05 07:36:00      24388    901   492\n",
       "2020-02-05 08:58:00      24413    917   492\n",
       "2020-02-05 10:02:00      24423    941   492"
      ]
     },
     "execution_count": 14,
     "metadata": {},
     "output_type": "execute_result"
    }
   ],
   "source": [
    "df"
   ]
  },
  {
   "cell_type": "code",
   "execution_count": 15,
   "metadata": {},
   "outputs": [
    {
     "data": {
      "image/png": "[encoded data removed]",
      "text/plain": [
       "<Figure size 1008x1008 with 3 Axes>"
      ]
     },
     "metadata": {},
     "output_type": "display_data"
    }
   ],
   "source": [
    "if df.shape[0]>1:\n",
    "    # line chart when having at least a few points\n",
    "    sns.set(rc={'figure.figsize':(14,14)})\n",
    "\n",
    "    fig, axs = plt.subplots(nrows=3)\n",
    "\n",
    "    sns.lineplot(x=df.index, y = 'confirmed', data=df, ax= axs[0], estimator=None, color='orange')\n",
    "    sns.lineplot(x=df.index, y = 'cured', data=df, ax= axs[1], estimator=None, color='green')\n",
    "    sns.lineplot(x=df.index, y = 'dead', data=df, ax= axs[2], estimator=None, color='darkred')\n",
    "\n",
    "    for ax in axs:\n",
    "        ax.set_xlabel('')\n",
    "        ax.tick_params(axis='x', labelrotation=30)\n",
    "else:\n",
    "\n",
    "    ax = df.plot(kind='bar', stacked=True, figsize=(9,6))\n",
    "    fig = ax.get_figure()\n",
    "    ax.set_xlabel('')\n",
    "    for label in ax.get_xticklabels():\n",
    "        label.set_rotation(0) \n"
   ]
  },
  {
   "cell_type": "code",
   "execution_count": 16,
   "metadata": {},
   "outputs": [],
   "source": [
    "fig.savefig(png_file)"
   ]
  },
  {
   "cell_type": "code",
   "execution_count": null,
   "metadata": {},
   "outputs": [],
   "source": []
  }
 ],
 "metadata": {
  "kernelspec": {
   "display_name": "Python 3",
   "language": "python",
   "name": "python3"
  },
  "language_info": {
   "codemirror_mode": {
    "name": "ipython",
    "version": 3
   },
   "file_extension": ".py",
   "mimetype": "text/x-python",
   "name": "python",
   "nbconvert_exporter": "python",
   "pygments_lexer": "ipython3",
   "version": "3.7.4"
  }
 },
 "nbformat": 4,
 "nbformat_minor": 2
}
