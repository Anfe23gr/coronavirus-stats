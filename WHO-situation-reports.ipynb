{
 "cells": [
  {
   "cell_type": "code",
   "execution_count": 1,
   "metadata": {},
   "outputs": [],
   "source": [
    "import requests\n",
    "import re\n",
    "import io\n",
    "from bs4 import BeautifulSoup\n",
    "from urllib.parse import urljoin\n",
    "from datetime import datetime\n",
    "# from PyPDF2 import PdfFileReader\n",
    "from pdfminer.high_level import extract_text\n",
    "import logging\n",
    "import sys\n",
    "import pandas as pd\n",
    "\n",
    "\n",
    "logger = logging.getLogger() \n",
    "logger.handlers = [logging.StreamHandler()]\n",
    "logger.setLevel(logging.INFO)\n"
   ]
  },
  {
   "cell_type": "code",
   "execution_count": 2,
   "metadata": {},
   "outputs": [],
   "source": [
    "csv_file = 'data/who-global-cases.csv'\n",
    "png_file = 'images/who-global-cases.png'"
   ]
  },
  {
   "cell_type": "code",
   "execution_count": 3,
   "metadata": {},
   "outputs": [
    {
     "data": {
      "text/plain": [
       "datetime.datetime(2020, 2, 9, 1, 58, 19, 343340)"
      ]
     },
     "execution_count": 3,
     "metadata": {},
     "output_type": "execute_result"
    }
   ],
   "source": [
    "# display the last execute time\n",
    "datetime.now()"
   ]
  },
  {
   "cell_type": "markdown",
   "metadata": {},
   "source": [
    "### Scraping"
   ]
  },
  {
   "cell_type": "code",
   "execution_count": 4,
   "metadata": {},
   "outputs": [],
   "source": [
    "def analyze_report(url):\n",
    "    '''\n",
    "    Analyze a situation report url\n",
    "    '''\n",
    "    response = requests.get(url)\n",
    "    # approach using Py2PDF\n",
    "    #     f_obj = io.BytesIO(response.content)\n",
    "    #     pdf = PdfFileReader(f_obj)\n",
    "    #     page_zero = pdf.getPage(0)  \n",
    "    #     text  = page_zero.extractText()\n",
    "\n",
    "    # using pdfminer\n",
    "    filename=re.sub(\"[\\:\\s\\.]\", \"\", str(datetime.now()))\n",
    "    open(filename, \"wb\").write(response.content)\n",
    "    text = extract_text(filename)\n",
    "    \n",
    "    try:\n",
    "        # use regular expression to extract date\n",
    "        p_date = re.compile(\"Data as reported by ([a-zA-Z0-9\\n\\s]+).*\\*\", re.DOTALL)\n",
    "        m_date = p_date.search(text)\n",
    "        report_date_str = m_date.group(1).replace(\"\\n\",\"\")\n",
    "        report_date = datetime.strptime(report_date_str, '%d %B %Y').strftime('%Y-%m-%d')\n",
    "\n",
    "        # use regular expression to extract global cases\n",
    "        p_global = re.compile(\"Globally ([\\s\\n0-9]+)\", re.DOTALL)\n",
    "        m_global = p_global.search(text)\n",
    "        global_cases_str = re.sub(r'[\\n\\s]', '', m_global.group(1))\n",
    "\n",
    "        global_cases = int(global_cases_str)\n",
    "\n",
    "        return {\"date\":report_date, \"global_cases\": global_cases, \"report_url\": url}\n",
    "    except AttributeError as e:\n",
    "        logger.warning(f'Unable to extract from \"{url}\" : {e}\\n.')\n",
    "        raise e\n",
    "\n"
   ]
  },
  {
   "cell_type": "code",
   "execution_count": 5,
   "metadata": {},
   "outputs": [],
   "source": [
    "def get_reports_urls(home_url):\n",
    "    '''\n",
    "    Extract situation reports URL from WHO's page\n",
    "    '''\n",
    "    # unable to analyse these reports\n",
    "    skipped_urls = [\n",
    "        'https://www.who.int/docs/default-source/coronaviruse/situation-reports/20200126-sitrep-6-2019--ncov.pdf',\n",
    "        'https://www.who.int/docs/default-source/coronaviruse/situation-reports/20200125-sitrep-5-2019-ncov.pdf',\n",
    "        'https://www.who.int/docs/default-source/coronaviruse/situation-reports/20200124-sitrep-4-2019-ncov.pdf',\n",
    "        'https://www.who.int/docs/default-source/coronaviruse/situation-reports/20200123-sitrep-3-2019-ncov.pdf',\n",
    "        'https://www.who.int/docs/default-source/coronaviruse/situation-reports/20200122-sitrep-2-2019-ncov.pdf',\n",
    "        'https://www.who.int/docs/default-source/coronaviruse/situation-reports/20200121-sitrep-1-2019-ncov.pdf'\n",
    "    ]  \n",
    "    \n",
    "    urls = []\n",
    "    response = requests.get(home_url)\n",
    "    soup = BeautifulSoup(response.content, 'lxml')\n",
    "    tags = soup.find_all('a')\n",
    "    for tag in tags:\n",
    "        if len(tag.contents)>0:\n",
    "            content = str(tag.contents[0])\n",
    "            if \"Situation report - \" in content:\n",
    "                url = urljoin(home_url ,  tag.get('href')).split('?')[0]\n",
    "                \n",
    "                if url not in skipped_urls:\n",
    "                    urls.append(url)\n",
    "\n",
    "    return urls\n"
   ]
  },
  {
   "cell_type": "code",
   "execution_count": 6,
   "metadata": {},
   "outputs": [],
   "source": [
    "def get_WHO_stats():\n",
    "    reports_home_url = 'https://www.who.int/emergencies/diseases/novel-coronavirus-2019/situation-reports/'\n",
    "    reports_urls = get_reports_urls(reports_home_url)\n",
    "    df = pd.read_csv(csv_file)\n",
    "    for url in reports_urls:\n",
    "        if df['report_url'].str.contains(url).any():\n",
    "            print('already processed ', url, ' in previous runs')\n",
    "            continue\n",
    "        stats = analyze_report(url)\n",
    "        df = df.append(stats, ignore_index = True)\n",
    "    return df"
   ]
  },
  {
   "cell_type": "code",
   "execution_count": 7,
   "metadata": {},
   "outputs": [
    {
     "name": "stderr",
     "output_type": "stream",
     "text": [
      "xref found: pos=b'1304918'\n",
      "read_xref_from: start=1304918, token=/b'xref'\n",
      "xref objects: {1: (None, 1304653, 0), 2: (None, 1304548, 0), 3: (None, 816412, 0), 4: (None, 9, 0), 5: (None, 35, 0), 6: (None, 1295340, 0), 7: (None, 1295377, 0), 8: (None, 58, 0), 9: (None, 1295301, 0), 10: (None, 1294897, 0), 11: (None, 67222, 0), 12: (None, 67694, 0), 13: (None, 67721, 0), 14: (None, 1297824, 0), 15: (None, 1297862, 0), 16: (None, 67745, 0), 17: (None, 1296880, 0), 18: (None, 1295396, 0), 19: (None, 260351, 0), 20: (None, 260829, 0), 21: (None, 260856, 0), 22: (None, 1298300, 0), 23: (None, 1298338, 0), 24: (None, 260880, 0), 25: (None, 1298272, 0), 26: (None, 1297882, 0), 27: (None, 329070, 0), 28: (None, 329548, 0), 29: (None, 329575, 0), 30: (None, 1298776, 0), 31: (None, 1298814, 0), 32: (None, 329599, 0), 33: (None, 1298748, 0), 34: (None, 1298358, 0), 35: (None, 383096, 0), 36: (None, 383574, 0), 37: (None, 383601, 0), 38: (None, 1300528, 0), 39: (None, 1300566, 0), 40: (None, 383625, 0), 41: (None, 1299968, 0), 42: (None, 1298834, 0), 43: (None, 469746, 0), 44: (None, 470224, 0), 45: (None, 470251, 0), 46: (None, 1302522, 0), 47: (None, 1302560, 0), 48: (None, 470275, 0), 49: (None, 1301804, 0), 50: (None, 1300586, 0), 51: (None, 646007, 0), 52: (None, 646485, 0), 53: (None, 659132, 0), 54: (None, 659159, 0), 55: (None, 1303002, 0), 56: (None, 1303041, 0), 57: (None, 659183, 0), 58: (None, 1302970, 0), 59: (None, 1302580, 0), 60: (None, 670945, 0), 61: (None, 671424, 0), 62: (None, 811702, 0), 63: (None, 816256, 0), 64: (None, 954402, 0), 65: (None, 816575, 0), 66: (None, 816602, 0), 67: (None, 1304490, 0), 68: (None, 1304528, 0), 69: (None, 816626, 0), 70: (None, 1303998, 0), 71: (None, 1303061, 0), 72: (None, 947743, 0), 73: (None, 948221, 0), 74: (None, 954324, 0), 75: (None, 1017930, 0), 76: (None, 954566, 0), 77: (None, 954671, 0), 78: (None, 954787, 0), 79: (None, 954914, 0), 80: (None, 955064, 0), 81: (None, 955283, 0), 82: (None, 955388, 0), 83: (None, 955504, 0), 84: (None, 955631, 0), 85: (None, 955781, 0), 86: (None, 956000, 0), 87: (None, 956105, 0), 88: (None, 956221, 0), 89: (None, 956348, 0), 90: (None, 956506, 0), 91: (None, 956728, 0), 92: (None, 956833, 0), 93: (None, 956949, 0), 94: (None, 957076, 0), 95: (None, 957234, 0), 96: (None, 957456, 0), 97: (None, 957561, 0), 98: (None, 957678, 0), 99: (None, 957807, 0), 100: (None, 957957, 0), 101: (None, 958180, 0), 102: (None, 958286, 0), 103: (None, 958404, 0), 104: (None, 958534, 0), 105: (None, 958688, 0), 106: (None, 958912, 0), 107: (None, 959018, 0), 108: (None, 959135, 0), 109: (None, 959263, 0), 110: (None, 959417, 0), 111: (None, 959641, 0), 112: (None, 959747, 0), 113: (None, 959864, 0), 114: (None, 959992, 0), 115: (None, 960146, 0), 116: (None, 960370, 0), 117: (None, 960476, 0), 118: (None, 960594, 0), 119: (None, 960724, 0), 120: (None, 960878, 0), 121: (None, 961102, 0), 122: (None, 961208, 0), 123: (None, 961326, 0), 124: (None, 961456, 0), 125: (None, 961610, 0), 126: (None, 961834, 0), 127: (None, 961940, 0), 128: (None, 962057, 0), 129: (None, 962185, 0), 130: (None, 962339, 0), 131: (None, 962566, 0), 132: (None, 962672, 0), 133: (None, 962789, 0), 134: (None, 962917, 0), 135: (None, 963071, 0), 136: (None, 963298, 0), 137: (None, 963404, 0), 138: (None, 963522, 0), 139: (None, 963652, 0), 140: (None, 963806, 0), 141: (None, 964033, 0), 142: (None, 964139, 0), 143: (None, 964257, 0), 144: (None, 964387, 0), 145: (None, 964541, 0), 146: (None, 964768, 0), 147: (None, 964874, 0), 148: (None, 964991, 0), 149: (None, 965119, 0), 150: (None, 965273, 0), 151: (None, 965500, 0), 152: (None, 965606, 0), 153: (None, 965723, 0), 154: (None, 965851, 0), 155: (None, 966005, 0), 156: (None, 966232, 0), 157: (None, 966338, 0), 158: (None, 966456, 0), 159: (None, 966586, 0), 160: (None, 966740, 0), 161: (None, 966967, 0), 162: (None, 967073, 0), 163: (None, 967191, 0), 164: (None, 967321, 0), 165: (None, 967475, 0), 166: (None, 967702, 0), 167: (None, 967808, 0), 168: (None, 967925, 0), 169: (None, 968053, 0), 170: (None, 968207, 0), 171: (None, 968434, 0), 172: (None, 968540, 0), 173: (None, 968657, 0), 174: (None, 968785, 0), 175: (None, 968939, 0), 176: (None, 969166, 0), 177: (None, 969272, 0), 178: (None, 969390, 0), 179: (None, 969520, 0), 180: (None, 969674, 0), 181: (None, 969901, 0), 182: (None, 970007, 0), 183: (None, 970125, 0), 184: (None, 970255, 0), 185: (None, 970409, 0), 186: (None, 970636, 0), 187: (None, 970742, 0), 188: (None, 970859, 0), 189: (None, 970987, 0), 190: (None, 971141, 0), 191: (None, 971368, 0), 192: (None, 971474, 0), 193: (None, 971591, 0), 194: (None, 971719, 0), 195: (None, 971873, 0), 196: (None, 972100, 0), 197: (None, 972206, 0), 198: (None, 972324, 0), 199: (None, 972454, 0), 200: (None, 972608, 0), 201: (None, 972832, 0), 202: (None, 972938, 0), 203: (None, 973056, 0), 204: (None, 973186, 0), 205: (None, 973340, 0), 206: (None, 973564, 0), 207: (None, 973670, 0), 208: (None, 973787, 0), 209: (None, 973915, 0), 210: (None, 974069, 0), 211: (None, 974293, 0), 212: (None, 974399, 0), 213: (None, 974516, 0), 214: (None, 974644, 0), 215: (None, 974798, 0), 216: (None, 975022, 0), 217: (None, 975128, 0), 218: (None, 975246, 0), 219: (None, 975376, 0), 220: (None, 975530, 0), 221: (None, 975754, 0), 222: (None, 975860, 0), 223: (None, 975978, 0), 224: (None, 976108, 0), 225: (None, 976262, 0), 226: (None, 976486, 0), 227: (None, 976592, 0), 228: (None, 976709, 0), 229: (None, 976837, 0), 230: (None, 976999, 0), 231: (None, 977222, 0), 232: (None, 977328, 0), 233: (None, 977445, 0), 234: (None, 977573, 0), 235: (None, 977735, 0), 236: (None, 977958, 0), 237: (None, 978064, 0), 238: (None, 978182, 0), 239: (None, 978312, 0), 240: (None, 978474, 0), 241: (None, 978697, 0), 242: (None, 978803, 0), 243: (None, 978921, 0), 244: (None, 979051, 0), 245: (None, 979213, 0), 246: (None, 979436, 0), 247: (None, 979542, 0), 248: (None, 979659, 0), 249: (None, 979787, 0), 250: (None, 979949, 0), 251: (None, 980172, 0), 252: (None, 980278, 0), 253: (None, 980395, 0), 254: (None, 980523, 0), 255: (None, 980685, 0), 256: (None, 980908, 0), 257: (None, 981014, 0), 258: (None, 981132, 0), 259: (None, 981262, 0), 260: (None, 981424, 0), 261: (None, 981647, 0), 262: (None, 981753, 0), 263: (None, 981871, 0), 264: (None, 982001, 0), 265: (None, 982163, 0), 266: (None, 982386, 0), 267: (None, 982492, 0), 268: (None, 982609, 0), 269: (None, 982737, 0), 270: (None, 982899, 0), 271: (None, 983126, 0), 272: (None, 983232, 0), 273: (None, 983349, 0), 274: (None, 983477, 0), 275: (None, 983639, 0), 276: (None, 983866, 0), 277: (None, 983972, 0), 278: (None, 984089, 0), 279: (None, 984217, 0), 280: (None, 984379, 0), 281: (None, 984606, 0), 282: (None, 984712, 0), 283: (None, 984829, 0), 284: (None, 984957, 0), 285: (None, 985119, 0), 286: (None, 985346, 0), 287: (None, 985452, 0), 288: (None, 985570, 0), 289: (None, 985700, 0), 290: (None, 985862, 0), 291: (None, 986089, 0), 292: (None, 986195, 0), 293: (None, 986313, 0), 294: (None, 986443, 0), 295: (None, 986605, 0), 296: (None, 986832, 0), 297: (None, 986938, 0), 298: (None, 987055, 0), 299: (None, 987183, 0), 300: (None, 987345, 0), 301: (None, 987572, 0), 302: (None, 987678, 0), 303: (None, 987795, 0), 304: (None, 987923, 0), 305: (None, 988085, 0), 306: (None, 988312, 0), 307: (None, 988418, 0), 308: (None, 988536, 0), 309: (None, 988666, 0), 310: (None, 988828, 0), 311: (None, 989052, 0), 312: (None, 989158, 0), 313: (None, 989276, 0), 314: (None, 989406, 0), 315: (None, 989568, 0), 316: (None, 989792, 0), 317: (None, 989898, 0), 318: (None, 990015, 0), 319: (None, 990143, 0), 320: (None, 990305, 0), 321: (None, 990529, 0), 322: (None, 990635, 0), 323: (None, 990752, 0), 324: (None, 990880, 0), 325: (None, 991042, 0), 326: (None, 991266, 0), 327: (None, 991372, 0), 328: (None, 991489, 0), 329: (None, 991617, 0), 330: (None, 991779, 0), 331: (None, 992003, 0), 332: (None, 992109, 0), 333: (None, 992226, 0), 334: (None, 992354, 0), 335: (None, 992516, 0), 336: (None, 992740, 0), 337: (None, 992846, 0), 338: (None, 992964, 0), 339: (None, 993094, 0), 340: (None, 993256, 0), 341: (None, 993483, 0), 342: (None, 993589, 0), 343: (None, 993707, 0), 344: (None, 993837, 0), 345: (None, 993999, 0), 346: (None, 994226, 0), 347: (None, 994332, 0), 348: (None, 994449, 0), 349: (None, 994577, 0), 350: (None, 994739, 0), 351: (None, 994966, 0), 352: (None, 995072, 0), 353: (None, 995189, 0), 354: (None, 995317, 0), 355: (None, 995479, 0), 356: (None, 995706, 0), 357: (None, 995812, 0), 358: (None, 995930, 0), 359: (None, 996060, 0), 360: (None, 996222, 0), 361: (None, 996449, 0), 362: (None, 996555, 0), 363: (None, 996673, 0), 364: (None, 996803, 0), 365: (None, 996965, 0), 366: (None, 997192, 0), 367: (None, 997298, 0), 368: (None, 997415, 0), 369: (None, 997543, 0), 370: (None, 997705, 0), 371: (None, 997932, 0), 372: (None, 998038, 0), 373: (None, 998155, 0), 374: (None, 998283, 0), 375: (None, 998445, 0), 376: (None, 998672, 0), 377: (None, 998778, 0), 378: (None, 998896, 0), 379: (None, 999026, 0), 380: (None, 999180, 0), 381: (None, 999407, 0), 382: (None, 999513, 0), 383: (None, 999631, 0), 384: (None, 999761, 0), 385: (None, 999915, 0), 386: (None, 1000142, 0), 387: (None, 1000248, 0), 388: (None, 1000365, 0), 389: (None, 1000493, 0), 390: (None, 1000647, 0), 391: (None, 1000874, 0), 392: (None, 1000980, 0), 393: (None, 1001097, 0), 394: (None, 1001225, 0), 395: (None, 1001379, 0), 396: (None, 1001606, 0), 397: (None, 1001712, 0), 398: (None, 1001830, 0), 399: (None, 1001960, 0), 400: (None, 1002114, 0), 401: (None, 1002341, 0), 402: (None, 1002447, 0), 403: (None, 1002565, 0), 404: (None, 1002695, 0), 405: (None, 1002849, 0), 406: (None, 1003076, 0), 407: (None, 1003182, 0), 408: (None, 1003299, 0), 409: (None, 1003427, 0), 410: (None, 1003581, 0), 411: (None, 1003808, 0), 412: (None, 1003914, 0), 413: (None, 1004031, 0), 414: (None, 1004159, 0), 415: (None, 1004313, 0), 416: (None, 1004540, 0), 417: (None, 1004646, 0), 418: (None, 1004764, 0), 419: (None, 1004894, 0), 420: (None, 1005048, 0), 421: (None, 1005272, 0), 422: (None, 1005378, 0), 423: (None, 1005496, 0), 424: (None, 1005626, 0), 425: (None, 1005780, 0), 426: (None, 1006004, 0), 427: (None, 1016530, 0), 428: (None, 1067708, 0), 429: (None, 1018096, 0), 430: (None, 1018202, 0), 431: (None, 1018319, 0), 432: (None, 1018447, 0), 433: (None, 1018601, 0), 434: (None, 1018822, 0), 435: (None, 1018928, 0), 436: (None, 1019045, 0), 437: (None, 1019173, 0), 438: (None, 1019327, 0), 439: (None, 1019548, 0), 440: (None, 1019654, 0), 441: (None, 1019771, 0), 442: (None, 1019899, 0), 443: (None, 1020053, 0), 444: (None, 1020274, 0), 445: (None, 1020380, 0), 446: (None, 1020497, 0), 447: (None, 1020625, 0), 448: (None, 1020779, 0), 449: (None, 1021000, 0), 450: (None, 1021106, 0), 451: (None, 1021223, 0), 452: (None, 1021351, 0), 453: (None, 1021505, 0), 454: (None, 1021726, 0), 455: (None, 1021832, 0), 456: (None, 1021949, 0), 457: (None, 1022077, 0), 458: (None, 1022231, 0), 459: (None, 1022452, 0), 460: (None, 1022558, 0), 461: (None, 1022675, 0), 462: (None, 1022803, 0), 463: (None, 1022957, 0), 464: (None, 1023178, 0), 465: (None, 1023284, 0), 466: (None, 1023401, 0), 467: (None, 1023529, 0), 468: (None, 1023691, 0), 469: (None, 1023915, 0), 470: (None, 1024021, 0), 471: (None, 1024139, 0), 472: (None, 1024269, 0), 473: (None, 1024431, 0), 474: (None, 1024655, 0), 475: (None, 1024761, 0), 476: (None, 1024879, 0), 477: (None, 1025009, 0), 478: (None, 1025171, 0), 479: (None, 1025395, 0), 480: (None, 1025501, 0), 481: (None, 1025619, 0), 482: (None, 1025749, 0), 483: (None, 1025911, 0), 484: (None, 1026135, 0), 485: (None, 1026241, 0), 486: (None, 1026359, 0), 487: (None, 1026489, 0), 488: (None, 1026651, 0), 489: (None, 1026875, 0), 490: (None, 1026981, 0), 491: (None, 1027099, 0), 492: (None, 1027229, 0), 493: (None, 1027391, 0), 494: (None, 1027615, 0), 495: (None, 1027721, 0), 496: (None, 1027839, 0), 497: (None, 1027969, 0), 498: (None, 1028131, 0), 499: (None, 1028355, 0), 500: (None, 1028461, 0), 501: (None, 1028579, 0), 502: (None, 1028709, 0), 503: (None, 1028871, 0), 504: (None, 1029095, 0), 505: (None, 1029201, 0), 506: (None, 1029319, 0), 507: (None, 1029449, 0), 508: (None, 1029611, 0), 509: (None, 1029835, 0), 510: (None, 1029941, 0), 511: (None, 1030059, 0), 512: (None, 1030189, 0), 513: (None, 1030343, 0), 514: (None, 1030566, 0), 515: (None, 1030672, 0), 516: (None, 1030790, 0), 517: (None, 1030920, 0), 518: (None, 1031074, 0), 519: (None, 1031301, 0), 520: (None, 1031407, 0), 521: (None, 1031525, 0), 522: (None, 1031655, 0), 523: (None, 1031809, 0), 524: (None, 1032030, 0), 525: (None, 1032136, 0), 526: (None, 1032254, 0), 527: (None, 1032384, 0), 528: (None, 1032546, 0), 529: (None, 1032773, 0), 530: (None, 1032879, 0), 531: (None, 1032997, 0), 532: (None, 1033127, 0), 533: (None, 1033289, 0), 534: (None, 1033516, 0), 535: (None, 1033622, 0), 536: (None, 1033740, 0), 537: (None, 1033870, 0), 538: (None, 1034032, 0), 539: (None, 1034256, 0), 540: (None, 1034362, 0), 541: (None, 1034479, 0), 542: (None, 1034607, 0), 543: (None, 1034761, 0), 544: (None, 1034988, 0), 545: (None, 1035094, 0), 546: (None, 1035212, 0), 547: (None, 1035342, 0), 548: (None, 1035496, 0), 549: (None, 1035723, 0), 550: (None, 1035829, 0), 551: (None, 1035947, 0), 552: (None, 1036077, 0), 553: (None, 1036231, 0), 554: (None, 1036452, 0), 555: (None, 1036558, 0), 556: (None, 1036676, 0), 557: (None, 1036806, 0), 558: (None, 1036968, 0), 559: (None, 1037195, 0), 560: (None, 1037301, 0), 561: (None, 1037419, 0), 562: (None, 1037549, 0), 563: (None, 1037711, 0), 564: (None, 1037932, 0), 565: (None, 1038038, 0), 566: (None, 1038155, 0), 567: (None, 1038283, 0), 568: (None, 1038445, 0), 569: (None, 1038672, 0), 570: (None, 1038778, 0), 571: (None, 1038896, 0), 572: (None, 1039026, 0), 573: (None, 1039188, 0), 574: (None, 1039415, 0), 575: (None, 1039521, 0), 576: (None, 1039639, 0), 577: (None, 1039769, 0), 578: (None, 1039931, 0), 579: (None, 1040158, 0), 580: (None, 1040264, 0), 581: (None, 1040381, 0), 582: (None, 1040509, 0), 583: (None, 1040671, 0), 584: (None, 1040898, 0), 585: (None, 1041004, 0), 586: (None, 1041122, 0), 587: (None, 1041252, 0), 588: (None, 1041414, 0), 589: (None, 1041641, 0), 590: (None, 1041747, 0), 591: (None, 1041865, 0), 592: (None, 1041995, 0), 593: (None, 1042157, 0), 594: (None, 1042381, 0), 595: (None, 1042487, 0), 596: (None, 1042605, 0), 597: (None, 1042735, 0), 598: (None, 1042889, 0), 599: (None, 1043116, 0), 600: (None, 1043222, 0), 601: (None, 1043340, 0), 602: (None, 1043470, 0), 603: (None, 1043624, 0), 604: (None, 1043847, 0), 605: (None, 1043953, 0), 606: (None, 1044071, 0), 607: (None, 1044201, 0), 608: (None, 1044363, 0), 609: (None, 1044590, 0), 610: (None, 1044696, 0), 611: (None, 1044814, 0), 612: (None, 1044944, 0), 613: (None, 1045106, 0), 614: (None, 1045327, 0), 615: (None, 1045433, 0), 616: (None, 1045551, 0), 617: (None, 1045681, 0), 618: (None, 1045843, 0), 619: (None, 1046070, 0), 620: (None, 1046176, 0), 621: (None, 1046294, 0), 622: (None, 1046424, 0), 623: (None, 1046578, 0), 624: (None, 1046805, 0), 625: (None, 1046911, 0), 626: (None, 1047029, 0), 627: (None, 1047159, 0), 628: (None, 1047313, 0), 629: (None, 1047540, 0), 630: (None, 1047646, 0), 631: (None, 1047763, 0), 632: (None, 1047891, 0), 633: (None, 1048053, 0), 634: (None, 1048280, 0), 635: (None, 1048386, 0), 636: (None, 1048504, 0), 637: (None, 1048634, 0), 638: (None, 1048796, 0), 639: (None, 1049023, 0), 640: (None, 1049129, 0), 641: (None, 1049246, 0), 642: (None, 1049374, 0), 643: (None, 1049528, 0), 644: (None, 1049755, 0), 645: (None, 1049861, 0), 646: (None, 1049979, 0), 647: (None, 1050109, 0), 648: (None, 1050263, 0), 649: (None, 1050490, 0), 650: (None, 1066809, 0), 651: (None, 1281879, 0), 652: (None, 1067875, 0), 653: (None, 1177058, 0), 654: (None, 1280169, 0), 655: (None, 1281764, 0), 656: (None, 1290001, 0), 657: (None, 1282046, 0), 658: (None, 1289911, 0), 659: (None, 1294730, 0), 660: (None, 1290168, 0), 661: (None, 1294651, 0), 662: (None, 1304702, 0)}\n",
      "trailer: {'Info': <PDFObjRef:662>, 'Root': <PDFObjRef:1>, 'Size': 663}\n",
      "trailer: {'Info': <PDFObjRef:662>, 'Root': <PDFObjRef:1>, 'Size': 663}\n",
      "Pages: Kids=[<PDFObjRef:3>, <PDFObjRef:64>, <PDFObjRef:75>, <PDFObjRef:428>, <PDFObjRef:651>, <PDFObjRef:656>, <PDFObjRef:659>]\n",
      "Page: {'Contents': [<PDFObjRef:62>], 'CropBox': [0.0, 0.0, 612.0, 792.0], 'MediaBox': [0.0, 0.0, 612.0, 792.0], 'Parent': <PDFObjRef:2>, 'Resources': <PDFObjRef:63>, 'Rotate': 0, 'Type': /'Page'}\n",
      "Processing page: <PDFPage: Resources={'Font': {'F1': <PDFObjRef:11>, 'F2': <PDFObjRef:19>, 'F3': <PDFObjRef:27>, 'F4': <PDFObjRef:35>, 'F5': <PDFObjRef:43>, 'F6': <PDFObjRef:51>, 'F7': <PDFObjRef:60>}, 'XObject': {'Image1': <PDFObjRef:52>, 'Image2': <PDFObjRef:61>}}, MediaBox=[0.0, 0.0, 612.0, 792.0]>\n",
      "render_contents: resources={'Font': {'F1': <PDFObjRef:11>, 'F2': <PDFObjRef:19>, 'F3': <PDFObjRef:27>, 'F4': <PDFObjRef:35>, 'F5': <PDFObjRef:43>, 'F6': <PDFObjRef:51>, 'F7': <PDFObjRef:60>}, 'XObject': {'Image1': <PDFObjRef:52>, 'Image2': <PDFObjRef:61>}}, streams=[<PDFObjRef:62>], ctm=(1, 0, 0, 1, -0.0, -0.0)\n",
      "get_font: create: objid=11, spec={'BaseFont': /'CIDFont+F1', 'DescendantFonts': [{'BaseFont': /'CIDFont+F1', 'CIDSystemInfo': {'Ordering': <PDFObjRef:4>, 'Registry': <PDFObjRef:5>, 'Supplement': 0}, 'CIDToGIDMap': /'Identity', 'FontDescriptor': {'Ascent': 905, 'CapHeight': 716, 'Descent': -211, 'Flags': 6, 'FontBBox': <PDFObjRef:6>, 'FontFile2': <PDFObjRef:8>, 'FontName': /'CIDFont+F1', 'ItalicAngle': 0, 'StemV': <PDFObjRef:7>, 'Type': /'FontDescriptor'}, 'Subtype': /'CIDFontType2', 'Type': /'Font', 'W': <PDFObjRef:9>}], 'Encoding': /'Identity-H', 'Subtype': /'Type0', 'ToUnicode': <PDFObjRef:10>, 'Type': /'Font'}\n",
      "get_font: create: objid=None, spec={'BaseFont': /'CIDFont+F1', 'CIDSystemInfo': {'Ordering': <PDFObjRef:4>, 'Registry': <PDFObjRef:5>, 'Supplement': 0}, 'CIDToGIDMap': /'Identity', 'FontDescriptor': {'Ascent': 905, 'CapHeight': 716, 'Descent': -211, 'Flags': 6, 'FontBBox': <PDFObjRef:6>, 'FontFile2': <PDFObjRef:8>, 'FontName': /'CIDFont+F1', 'ItalicAngle': 0, 'StemV': <PDFObjRef:7>, 'Type': /'FontDescriptor'}, 'Subtype': /'CIDFontType2', 'Type': /'Font', 'W': <PDFObjRef:9>, 'Encoding': /'Identity-H', 'ToUnicode': <PDFStream(10): raw=353, {'Length': 352}>}\n",
      "get_font: create: objid=19, spec={'BaseFont': /'CIDFont+F2', 'DescendantFonts': [{'BaseFont': /'CIDFont+F2', 'CIDSystemInfo': {'Ordering': <PDFObjRef:12>, 'Registry': <PDFObjRef:13>, 'Supplement': 0}, 'CIDToGIDMap': /'Identity', 'FontDescriptor': {'Ascent': 952, 'CapHeight': 631, 'Descent': -268, 'Flags': 6, 'FontBBox': <PDFObjRef:14>, 'FontFile2': <PDFObjRef:16>, 'FontName': /'CIDFont+F2', 'ItalicAngle': 0, 'StemV': <PDFObjRef:15>, 'Type': /'FontDescriptor'}, 'Subtype': /'CIDFontType2', 'Type': /'Font', 'W': <PDFObjRef:17>}], 'Encoding': /'Identity-H', 'Subtype': /'Type0', 'ToUnicode': <PDFObjRef:18>, 'Type': /'Font'}\n",
      "get_font: create: objid=None, spec={'BaseFont': /'CIDFont+F2', 'CIDSystemInfo': {'Ordering': <PDFObjRef:12>, 'Registry': <PDFObjRef:13>, 'Supplement': 0}, 'CIDToGIDMap': /'Identity', 'FontDescriptor': {'Ascent': 952, 'CapHeight': 631, 'Descent': -268, 'Flags': 6, 'FontBBox': <PDFObjRef:14>, 'FontFile2': <PDFObjRef:16>, 'FontName': /'CIDFont+F2', 'ItalicAngle': 0, 'StemV': <PDFObjRef:15>, 'Type': /'FontDescriptor'}, 'Subtype': /'CIDFontType2', 'Type': /'Font', 'W': <PDFObjRef:17>, 'Encoding': /'Identity-H', 'ToUnicode': <PDFStream(18): raw=1432, {'Length': 1431}>}\n",
      "get_font: create: objid=27, spec={'BaseFont': /'CIDFont+F3', 'DescendantFonts': [{'BaseFont': /'CIDFont+F3', 'CIDSystemInfo': {'Ordering': <PDFObjRef:20>, 'Registry': <PDFObjRef:21>, 'Supplement': 0}, 'CIDToGIDMap': /'Identity', 'FontDescriptor': {'Ascent': 891, 'CapHeight': 662, 'Descent': -216, 'Flags': 6, 'FontBBox': <PDFObjRef:22>, 'FontFile2': <PDFObjRef:24>, 'FontName': /'CIDFont+F3', 'ItalicAngle': 0, 'StemV': <PDFObjRef:23>, 'Type': /'FontDescriptor'}, 'Subtype': /'CIDFontType2', 'Type': /'Font', 'W': <PDFObjRef:25>}], 'Encoding': /'Identity-H', 'Subtype': /'Type0', 'ToUnicode': <PDFObjRef:26>, 'Type': /'Font'}\n",
      "get_font: create: objid=None, spec={'BaseFont': /'CIDFont+F3', 'CIDSystemInfo': {'Ordering': <PDFObjRef:20>, 'Registry': <PDFObjRef:21>, 'Supplement': 0}, 'CIDToGIDMap': /'Identity', 'FontDescriptor': {'Ascent': 891, 'CapHeight': 662, 'Descent': -216, 'Flags': 6, 'FontBBox': <PDFObjRef:22>, 'FontFile2': <PDFObjRef:24>, 'FontName': /'CIDFont+F3', 'ItalicAngle': 0, 'StemV': <PDFObjRef:23>, 'Type': /'FontDescriptor'}, 'Subtype': /'CIDFontType2', 'Type': /'Font', 'W': <PDFObjRef:25>, 'Encoding': /'Identity-H', 'ToUnicode': <PDFStream(26): raw=339, {'Length': 338}>}\n",
      "get_font: create: objid=35, spec={'BaseFont': /'CIDFont+F4', 'DescendantFonts': [{'BaseFont': /'CIDFont+F4', 'CIDSystemInfo': {'Ordering': <PDFObjRef:28>, 'Registry': <PDFObjRef:29>, 'Supplement': 0}, 'CIDToGIDMap': /'Identity', 'FontDescriptor': {'Ascent': 905, 'CapHeight': 715, 'Descent': -211, 'Flags': 6, 'FontBBox': <PDFObjRef:30>, 'FontFile2': <PDFObjRef:32>, 'FontName': /'CIDFont+F4', 'ItalicAngle': 0, 'StemV': <PDFObjRef:31>, 'Type': /'FontDescriptor'}, 'Subtype': /'CIDFontType2', 'Type': /'Font', 'W': <PDFObjRef:33>}], 'Encoding': /'Identity-H', 'Subtype': /'Type0', 'ToUnicode': <PDFObjRef:34>, 'Type': /'Font'}\n",
      "get_font: create: objid=None, spec={'BaseFont': /'CIDFont+F4', 'CIDSystemInfo': {'Ordering': <PDFObjRef:28>, 'Registry': <PDFObjRef:29>, 'Supplement': 0}, 'CIDToGIDMap': /'Identity', 'FontDescriptor': {'Ascent': 905, 'CapHeight': 715, 'Descent': -211, 'Flags': 6, 'FontBBox': <PDFObjRef:30>, 'FontFile2': <PDFObjRef:32>, 'FontName': /'CIDFont+F4', 'ItalicAngle': 0, 'StemV': <PDFObjRef:31>, 'Type': /'FontDescriptor'}, 'Subtype': /'CIDFontType2', 'Type': /'Font', 'W': <PDFObjRef:33>, 'Encoding': /'Identity-H', 'ToUnicode': <PDFStream(34): raw=339, {'Length': 338}>}\n",
      "get_font: create: objid=43, spec={'BaseFont': /'CIDFont+F5', 'DescendantFonts': [{'BaseFont': /'CIDFont+F5', 'CIDSystemInfo': {'Ordering': <PDFObjRef:36>, 'Registry': <PDFObjRef:37>, 'Supplement': 0}, 'CIDToGIDMap': /'Identity', 'FontDescriptor': {'Ascent': 905, 'CapHeight': 715, 'Descent': -211, 'Flags': 6, 'FontBBox': <PDFObjRef:38>, 'FontFile2': <PDFObjRef:40>, 'FontName': /'CIDFont+F5', 'ItalicAngle': 0, 'StemV': <PDFObjRef:39>, 'Type': /'FontDescriptor'}, 'Subtype': /'CIDFontType2', 'Type': /'Font', 'W': <PDFObjRef:41>}], 'Encoding': /'Identity-H', 'Subtype': /'Type0', 'ToUnicode': <PDFObjRef:42>, 'Type': /'Font'}\n",
      "get_font: create: objid=None, spec={'BaseFont': /'CIDFont+F5', 'CIDSystemInfo': {'Ordering': <PDFObjRef:36>, 'Registry': <PDFObjRef:37>, 'Supplement': 0}, 'CIDToGIDMap': /'Identity', 'FontDescriptor': {'Ascent': 905, 'CapHeight': 715, 'Descent': -211, 'Flags': 6, 'FontBBox': <PDFObjRef:38>, 'FontFile2': <PDFObjRef:40>, 'FontName': /'CIDFont+F5', 'ItalicAngle': 0, 'StemV': <PDFObjRef:39>, 'Type': /'FontDescriptor'}, 'Subtype': /'CIDFontType2', 'Type': /'Font', 'W': <PDFObjRef:41>, 'Encoding': /'Identity-H', 'ToUnicode': <PDFStream(42): raw=1082, {'Length': 1081}>}\n",
      "get_font: create: objid=51, spec={'BaseFont': /'CIDFont+F6', 'DescendantFonts': [{'BaseFont': /'CIDFont+F6', 'CIDSystemInfo': {'Ordering': <PDFObjRef:44>, 'Registry': <PDFObjRef:45>, 'Supplement': 0}, 'CIDToGIDMap': /'Identity', 'FontDescriptor': {'Ascent': 952, 'CapHeight': 631, 'Descent': -268, 'Flags': 6, 'FontBBox': <PDFObjRef:46>, 'FontFile2': <PDFObjRef:48>, 'FontName': /'CIDFont+F6', 'ItalicAngle': 0, 'StemV': <PDFObjRef:47>, 'Type': /'FontDescriptor'}, 'Subtype': /'CIDFontType2', 'Type': /'Font', 'W': <PDFObjRef:49>}], 'Encoding': /'Identity-H', 'Subtype': /'Type0', 'ToUnicode': <PDFObjRef:50>, 'Type': /'Font'}\n",
      "get_font: create: objid=None, spec={'BaseFont': /'CIDFont+F6', 'CIDSystemInfo': {'Ordering': <PDFObjRef:44>, 'Registry': <PDFObjRef:45>, 'Supplement': 0}, 'CIDToGIDMap': /'Identity', 'FontDescriptor': {'Ascent': 952, 'CapHeight': 631, 'Descent': -268, 'Flags': 6, 'FontBBox': <PDFObjRef:46>, 'FontFile2': <PDFObjRef:48>, 'FontName': /'CIDFont+F6', 'ItalicAngle': 0, 'StemV': <PDFObjRef:47>, 'Type': /'FontDescriptor'}, 'Subtype': /'CIDFontType2', 'Type': /'Font', 'W': <PDFObjRef:49>, 'Encoding': /'Identity-H', 'ToUnicode': <PDFStream(50): raw=1166, {'Length': 1165}>}\n",
      "get_font: create: objid=60, spec={'BaseFont': /'CIDFont+F7', 'DescendantFonts': [{'BaseFont': /'CIDFont+F7', 'CIDSystemInfo': {'Ordering': <PDFObjRef:53>, 'Registry': <PDFObjRef:54>, 'Supplement': 0}, 'CIDToGIDMap': /'Identity', 'FontDescriptor': {'Ascent': 1005, 'CapHeight': 699, 'Descent': -219, 'Flags': 6, 'FontBBox': <PDFObjRef:55>, 'FontFile2': <PDFObjRef:57>, 'FontName': /'CIDFont+F7', 'ItalicAngle': 0, 'StemV': <PDFObjRef:56>, 'Type': /'FontDescriptor'}, 'Subtype': /'CIDFontType2', 'Type': /'Font', 'W': <PDFObjRef:58>}], 'Encoding': /'Identity-H', 'Subtype': /'Type0', 'ToUnicode': <PDFObjRef:59>, 'Type': /'Font'}\n",
      "get_font: create: objid=None, spec={'BaseFont': /'CIDFont+F7', 'CIDSystemInfo': {'Ordering': <PDFObjRef:53>, 'Registry': <PDFObjRef:54>, 'Supplement': 0}, 'CIDToGIDMap': /'Identity', 'FontDescriptor': {'Ascent': 1005, 'CapHeight': 699, 'Descent': -219, 'Flags': 6, 'FontBBox': <PDFObjRef:55>, 'FontFile2': <PDFObjRef:57>, 'FontName': /'CIDFont+F7', 'ItalicAngle': 0, 'StemV': <PDFObjRef:56>, 'Type': /'FontDescriptor'}, 'Subtype': /'CIDFontType2', 'Type': /'Font', 'W': <PDFObjRef:58>, 'Encoding': /'Identity-H', 'ToUnicode': <PDFStream(59): raw=339, {'Length': 338}>}\n",
      "Processing xobj: <PDFStream(52): raw=12478, {'BitsPerComponent': 8, 'ColorSpace': /'DeviceRGB', 'Filter': /'DCTDecode', 'Height': 129, 'Length': 12477, 'Subtype': /'Image', 'Type': /'XObject', 'Width': 417}>\n",
      "Processing xobj: <PDFStream(61): raw=140107, {'BitsPerComponent': 8, 'ColorSpace': /'DeviceRGB', 'Filter': /'DCTDecode', 'Height': 900, 'Length': 140106, 'Subtype': /'Image', 'Type': /'XObject', 'Width': 1600}>\n",
      "Page: {'Contents': [<PDFObjRef:73>], 'CropBox': [0.0, 0.0, 612.0, 792.0], 'MediaBox': [0.0, 0.0, 612.0, 792.0], 'Parent': <PDFObjRef:2>, 'Resources': <PDFObjRef:74>, 'Rotate': 0, 'Type': /'Page'}\n",
      "Processing page: <PDFPage: Resources={'Font': {'F1': <PDFObjRef:43>, 'F2': <PDFObjRef:19>, 'F3': <PDFObjRef:72>, 'F4': <PDFObjRef:11>}}, MediaBox=[0.0, 0.0, 612.0, 792.0]>\n",
      "render_contents: resources={'Font': {'F1': <PDFObjRef:43>, 'F2': <PDFObjRef:19>, 'F3': <PDFObjRef:72>, 'F4': <PDFObjRef:11>}}, streams=[<PDFObjRef:73>], ctm=(1, 0, 0, 1, -0.0, -0.0)\n",
      "get_font: create: objid=72, spec={'BaseFont': /'CIDFont+F8', 'DescendantFonts': [{'BaseFont': /'CIDFont+F8', 'CIDSystemInfo': {'Ordering': <PDFObjRef:65>, 'Registry': <PDFObjRef:66>, 'Supplement': 0}, 'CIDToGIDMap': /'Identity', 'FontDescriptor': {'Ascent': 952, 'CapHeight': 633, 'Descent': -268, 'Flags': 6, 'FontBBox': <PDFObjRef:67>, 'FontFile2': <PDFObjRef:69>, 'FontName': /'CIDFont+F8', 'ItalicAngle': 0, 'StemV': <PDFObjRef:68>, 'Type': /'FontDescriptor'}, 'Subtype': /'CIDFontType2', 'Type': /'Font', 'W': <PDFObjRef:70>}], 'Encoding': /'Identity-H', 'Subtype': /'Type0', 'ToUnicode': <PDFObjRef:71>, 'Type': /'Font'}\n",
      "get_font: create: objid=None, spec={'BaseFont': /'CIDFont+F8', 'CIDSystemInfo': {'Ordering': <PDFObjRef:65>, 'Registry': <PDFObjRef:66>, 'Supplement': 0}, 'CIDToGIDMap': /'Identity', 'FontDescriptor': {'Ascent': 952, 'CapHeight': 633, 'Descent': -268, 'Flags': 6, 'FontBBox': <PDFObjRef:67>, 'FontFile2': <PDFObjRef:69>, 'FontName': /'CIDFont+F8', 'ItalicAngle': 0, 'StemV': <PDFObjRef:68>, 'Type': /'FontDescriptor'}, 'Subtype': /'CIDFontType2', 'Type': /'Font', 'W': <PDFObjRef:70>, 'Encoding': /'Identity-H', 'ToUnicode': <PDFStream(71): raw=886, {'Length': 885}>}\n",
      "Page: {'Contents': [<PDFObjRef:426>], 'CropBox': [0.0, 0.0, 612.0, 792.0], 'MediaBox': [0.0, 0.0, 612.0, 792.0], 'Parent': <PDFObjRef:2>, 'Resources': <PDFObjRef:427>, 'Rotate': 0, 'Type': /'Page'}\n",
      "Processing page: <PDFPage: Resources={'Font': {'F1': <PDFObjRef:43>, 'F2': <PDFObjRef:51>, 'F3': <PDFObjRef:19>}, 'Pattern': {'Pattern1': <PDFObjRef:80>, 'Pattern10': <PDFObjRef:125>, 'Pattern11': <PDFObjRef:130>, 'Pattern12': <PDFObjRef:135>, 'Pattern13': <PDFObjRef:140>, 'Pattern14': <PDFObjRef:145>, 'Pattern15': <PDFObjRef:150>, 'Pattern16': <PDFObjRef:155>, 'Pattern17': <PDFObjRef:160>, 'Pattern18': <PDFObjRef:165>, 'Pattern19': <PDFObjRef:170>, 'Pattern2': <PDFObjRef:85>, 'Pattern20': <PDFObjRef:175>, 'Pattern21': <PDFObjRef:180>, 'Pattern22': <PDFObjRef:185>, 'Pattern23': <PDFObjRef:190>, 'Pattern24': <PDFObjRef:195>, 'Pattern25': <PDFObjRef:200>, 'Pattern26': <PDFObjRef:205>, 'Pattern27': <PDFObjRef:210>, 'Pattern28': <PDFObjRef:215>, 'Pattern29': <PDFObjRef:220>, 'Pattern3': <PDFObjRef:90>, 'Pattern30': <PDFObjRef:225>, 'Pattern31': <PDFObjRef:230>, 'Pattern32': <PDFObjRef:235>, 'Pattern33': <PDFObjRef:240>, 'Pattern34': <PDFObjRef:245>, 'Pattern35': <PDFObjRef:250>, 'Pattern36': <PDFObjRef:255>, 'Pattern37': <PDFObjRef:260>, 'Pattern38': <PDFObjRef:265>, 'Pattern39': <PDFObjRef:270>, 'Pattern4': <PDFObjRef:95>, 'Pattern40': <PDFObjRef:275>, 'Pattern41': <PDFObjRef:280>, 'Pattern42': <PDFObjRef:285>, 'Pattern43': <PDFObjRef:290>, 'Pattern44': <PDFObjRef:295>, 'Pattern45': <PDFObjRef:300>, 'Pattern46': <PDFObjRef:305>, 'Pattern47': <PDFObjRef:310>, 'Pattern48': <PDFObjRef:315>, 'Pattern49': <PDFObjRef:320>, 'Pattern5': <PDFObjRef:100>, 'Pattern50': <PDFObjRef:325>, 'Pattern51': <PDFObjRef:330>, 'Pattern52': <PDFObjRef:335>, 'Pattern53': <PDFObjRef:340>, 'Pattern54': <PDFObjRef:345>, 'Pattern55': <PDFObjRef:350>, 'Pattern56': <PDFObjRef:355>, 'Pattern57': <PDFObjRef:360>, 'Pattern58': <PDFObjRef:365>, 'Pattern59': <PDFObjRef:370>, 'Pattern6': <PDFObjRef:105>, 'Pattern60': <PDFObjRef:375>, 'Pattern61': <PDFObjRef:380>, 'Pattern62': <PDFObjRef:385>, 'Pattern63': <PDFObjRef:390>, 'Pattern64': <PDFObjRef:395>, 'Pattern65': <PDFObjRef:400>, 'Pattern66': <PDFObjRef:405>, 'Pattern67': <PDFObjRef:410>, 'Pattern68': <PDFObjRef:415>, 'Pattern69': <PDFObjRef:420>, 'Pattern7': <PDFObjRef:110>, 'Pattern70': <PDFObjRef:425>, 'Pattern8': <PDFObjRef:115>, 'Pattern9': <PDFObjRef:120>}}, MediaBox=[0.0, 0.0, 612.0, 792.0]>\n",
      "render_contents: resources={'Font': {'F1': <PDFObjRef:43>, 'F2': <PDFObjRef:51>, 'F3': <PDFObjRef:19>}, 'Pattern': {'Pattern1': <PDFObjRef:80>, 'Pattern10': <PDFObjRef:125>, 'Pattern11': <PDFObjRef:130>, 'Pattern12': <PDFObjRef:135>, 'Pattern13': <PDFObjRef:140>, 'Pattern14': <PDFObjRef:145>, 'Pattern15': <PDFObjRef:150>, 'Pattern16': <PDFObjRef:155>, 'Pattern17': <PDFObjRef:160>, 'Pattern18': <PDFObjRef:165>, 'Pattern19': <PDFObjRef:170>, 'Pattern2': <PDFObjRef:85>, 'Pattern20': <PDFObjRef:175>, 'Pattern21': <PDFObjRef:180>, 'Pattern22': <PDFObjRef:185>, 'Pattern23': <PDFObjRef:190>, 'Pattern24': <PDFObjRef:195>, 'Pattern25': <PDFObjRef:200>, 'Pattern26': <PDFObjRef:205>, 'Pattern27': <PDFObjRef:210>, 'Pattern28': <PDFObjRef:215>, 'Pattern29': <PDFObjRef:220>, 'Pattern3': <PDFObjRef:90>, 'Pattern30': <PDFObjRef:225>, 'Pattern31': <PDFObjRef:230>, 'Pattern32': <PDFObjRef:235>, 'Pattern33': <PDFObjRef:240>, 'Pattern34': <PDFObjRef:245>, 'Pattern35': <PDFObjRef:250>, 'Pattern36': <PDFObjRef:255>, 'Pattern37': <PDFObjRef:260>, 'Pattern38': <PDFObjRef:265>, 'Pattern39': <PDFObjRef:270>, 'Pattern4': <PDFObjRef:95>, 'Pattern40': <PDFObjRef:275>, 'Pattern41': <PDFObjRef:280>, 'Pattern42': <PDFObjRef:285>, 'Pattern43': <PDFObjRef:290>, 'Pattern44': <PDFObjRef:295>, 'Pattern45': <PDFObjRef:300>, 'Pattern46': <PDFObjRef:305>, 'Pattern47': <PDFObjRef:310>, 'Pattern48': <PDFObjRef:315>, 'Pattern49': <PDFObjRef:320>, 'Pattern5': <PDFObjRef:100>, 'Pattern50': <PDFObjRef:325>, 'Pattern51': <PDFObjRef:330>, 'Pattern52': <PDFObjRef:335>, 'Pattern53': <PDFObjRef:340>, 'Pattern54': <PDFObjRef:345>, 'Pattern55': <PDFObjRef:350>, 'Pattern56': <PDFObjRef:355>, 'Pattern57': <PDFObjRef:360>, 'Pattern58': <PDFObjRef:365>, 'Pattern59': <PDFObjRef:370>, 'Pattern6': <PDFObjRef:105>, 'Pattern60': <PDFObjRef:375>, 'Pattern61': <PDFObjRef:380>, 'Pattern62': <PDFObjRef:385>, 'Pattern63': <PDFObjRef:390>, 'Pattern64': <PDFObjRef:395>, 'Pattern65': <PDFObjRef:400>, 'Pattern66': <PDFObjRef:405>, 'Pattern67': <PDFObjRef:410>, 'Pattern68': <PDFObjRef:415>, 'Pattern69': <PDFObjRef:420>, 'Pattern7': <PDFObjRef:110>, 'Pattern70': <PDFObjRef:425>, 'Pattern8': <PDFObjRef:115>, 'Pattern9': <PDFObjRef:120>}}, streams=[<PDFObjRef:426>], ctm=(1, 0, 0, 1, -0.0, -0.0)\n",
      "Page: {'Contents': [<PDFObjRef:649>], 'CropBox': [0.0, 0.0, 612.0, 792.0], 'MediaBox': [0.0, 0.0, 612.0, 792.0], 'Parent': <PDFObjRef:2>, 'Resources': <PDFObjRef:650>, 'Rotate': 0, 'Type': /'Page'}\n",
      "Processing page: <PDFPage: Resources={'Font': {'F1': <PDFObjRef:51>, 'F2': <PDFObjRef:19>}, 'Pattern': {'Pattern1': <PDFObjRef:433>, 'Pattern10': <PDFObjRef:478>, 'Pattern11': <PDFObjRef:483>, 'Pattern12': <PDFObjRef:488>, 'Pattern13': <PDFObjRef:493>, 'Pattern14': <PDFObjRef:498>, 'Pattern15': <PDFObjRef:503>, 'Pattern16': <PDFObjRef:508>, 'Pattern17': <PDFObjRef:513>, 'Pattern18': <PDFObjRef:518>, 'Pattern19': <PDFObjRef:523>, 'Pattern2': <PDFObjRef:438>, 'Pattern20': <PDFObjRef:528>, 'Pattern21': <PDFObjRef:533>, 'Pattern22': <PDFObjRef:538>, 'Pattern23': <PDFObjRef:543>, 'Pattern24': <PDFObjRef:548>, 'Pattern25': <PDFObjRef:553>, 'Pattern26': <PDFObjRef:558>, 'Pattern27': <PDFObjRef:563>, 'Pattern28': <PDFObjRef:568>, 'Pattern29': <PDFObjRef:573>, 'Pattern3': <PDFObjRef:443>, 'Pattern30': <PDFObjRef:578>, 'Pattern31': <PDFObjRef:583>, 'Pattern32': <PDFObjRef:588>, 'Pattern33': <PDFObjRef:593>, 'Pattern34': <PDFObjRef:598>, 'Pattern35': <PDFObjRef:603>, 'Pattern36': <PDFObjRef:608>, 'Pattern37': <PDFObjRef:613>, 'Pattern38': <PDFObjRef:618>, 'Pattern39': <PDFObjRef:623>, 'Pattern4': <PDFObjRef:448>, 'Pattern40': <PDFObjRef:628>, 'Pattern41': <PDFObjRef:633>, 'Pattern42': <PDFObjRef:638>, 'Pattern43': <PDFObjRef:643>, 'Pattern44': <PDFObjRef:648>, 'Pattern5': <PDFObjRef:453>, 'Pattern6': <PDFObjRef:458>, 'Pattern7': <PDFObjRef:463>, 'Pattern8': <PDFObjRef:468>, 'Pattern9': <PDFObjRef:473>}}, MediaBox=[0.0, 0.0, 612.0, 792.0]>\n",
      "render_contents: resources={'Font': {'F1': <PDFObjRef:51>, 'F2': <PDFObjRef:19>}, 'Pattern': {'Pattern1': <PDFObjRef:433>, 'Pattern10': <PDFObjRef:478>, 'Pattern11': <PDFObjRef:483>, 'Pattern12': <PDFObjRef:488>, 'Pattern13': <PDFObjRef:493>, 'Pattern14': <PDFObjRef:498>, 'Pattern15': <PDFObjRef:503>, 'Pattern16': <PDFObjRef:508>, 'Pattern17': <PDFObjRef:513>, 'Pattern18': <PDFObjRef:518>, 'Pattern19': <PDFObjRef:523>, 'Pattern2': <PDFObjRef:438>, 'Pattern20': <PDFObjRef:528>, 'Pattern21': <PDFObjRef:533>, 'Pattern22': <PDFObjRef:538>, 'Pattern23': <PDFObjRef:543>, 'Pattern24': <PDFObjRef:548>, 'Pattern25': <PDFObjRef:553>, 'Pattern26': <PDFObjRef:558>, 'Pattern27': <PDFObjRef:563>, 'Pattern28': <PDFObjRef:568>, 'Pattern29': <PDFObjRef:573>, 'Pattern3': <PDFObjRef:443>, 'Pattern30': <PDFObjRef:578>, 'Pattern31': <PDFObjRef:583>, 'Pattern32': <PDFObjRef:588>, 'Pattern33': <PDFObjRef:593>, 'Pattern34': <PDFObjRef:598>, 'Pattern35': <PDFObjRef:603>, 'Pattern36': <PDFObjRef:608>, 'Pattern37': <PDFObjRef:613>, 'Pattern38': <PDFObjRef:618>, 'Pattern39': <PDFObjRef:623>, 'Pattern4': <PDFObjRef:448>, 'Pattern40': <PDFObjRef:628>, 'Pattern41': <PDFObjRef:633>, 'Pattern42': <PDFObjRef:638>, 'Pattern43': <PDFObjRef:643>, 'Pattern44': <PDFObjRef:648>, 'Pattern5': <PDFObjRef:453>, 'Pattern6': <PDFObjRef:458>, 'Pattern7': <PDFObjRef:463>, 'Pattern8': <PDFObjRef:468>, 'Pattern9': <PDFObjRef:473>}}, streams=[<PDFObjRef:649>], ctm=(1, 0, 0, 1, -0.0, -0.0)\n",
      "Page: {'Contents': [<PDFObjRef:654>], 'CropBox': [0.0, 0.0, 612.0, 792.0], 'MediaBox': [0.0, 0.0, 612.0, 792.0], 'Parent': <PDFObjRef:2>, 'Resources': <PDFObjRef:655>, 'Rotate': 0, 'Type': /'Page'}\n",
      "Processing page: <PDFPage: Resources={'Font': {'F1': <PDFObjRef:51>, 'F2': <PDFObjRef:19>, 'F3': <PDFObjRef:11>}, 'XObject': {'Image1': <PDFObjRef:652>, 'Image2': <PDFObjRef:653>}}, MediaBox=[0.0, 0.0, 612.0, 792.0]>\n",
      "render_contents: resources={'Font': {'F1': <PDFObjRef:51>, 'F2': <PDFObjRef:19>, 'F3': <PDFObjRef:11>}, 'XObject': {'Image1': <PDFObjRef:652>, 'Image2': <PDFObjRef:653>}}, streams=[<PDFObjRef:654>], ctm=(1, 0, 0, 1, -0.0, -0.0)\n",
      "Processing xobj: <PDFStream(652): raw=109010, {'BitsPerComponent': 8, 'ColorSpace': /'DeviceRGB', 'Filter': /'DCTDecode', 'Height': 1089, 'Length': 109009, 'Subtype': /'Image', 'Type': /'XObject', 'Width': 2183}>\n",
      "Processing xobj: <PDFStream(653): raw=102938, {'BitsPerComponent': 8, 'ColorSpace': /'DeviceRGB', 'Filter': /'DCTDecode', 'Height': 1162, 'Length': 102937, 'Subtype': /'Image', 'Type': /'XObject', 'Width': 2183}>\n",
      "Page: {'Contents': [<PDFObjRef:657>], 'CropBox': [0.0, 0.0, 612.0, 792.0], 'MediaBox': [0.0, 0.0, 612.0, 792.0], 'Parent': <PDFObjRef:2>, 'Resources': <PDFObjRef:658>, 'Rotate': 0, 'Type': /'Page'}\n",
      "Processing page: <PDFPage: Resources={'Font': {'F1': <PDFObjRef:11>, 'F2': <PDFObjRef:43>, 'F3': <PDFObjRef:19>, 'F4': <PDFObjRef:51>, 'F5': <PDFObjRef:60>}}, MediaBox=[0.0, 0.0, 612.0, 792.0]>\n",
      "render_contents: resources={'Font': {'F1': <PDFObjRef:11>, 'F2': <PDFObjRef:43>, 'F3': <PDFObjRef:19>, 'F4': <PDFObjRef:51>, 'F5': <PDFObjRef:60>}}, streams=[<PDFObjRef:657>], ctm=(1, 0, 0, 1, -0.0, -0.0)\n",
      "Page: {'Contents': [<PDFObjRef:660>], 'CropBox': [0.0, 0.0, 612.0, 792.0], 'MediaBox': [0.0, 0.0, 612.0, 792.0], 'Parent': <PDFObjRef:2>, 'Resources': <PDFObjRef:661>, 'Rotate': 0, 'Type': /'Page'}\n",
      "Processing page: <PDFPage: Resources={'Font': {'F1': <PDFObjRef:19>, 'F2': <PDFObjRef:51>, 'F3': <PDFObjRef:11>, 'F4': <PDFObjRef:43>}}, MediaBox=[0.0, 0.0, 612.0, 792.0]>\n",
      "render_contents: resources={'Font': {'F1': <PDFObjRef:19>, 'F2': <PDFObjRef:51>, 'F3': <PDFObjRef:11>, 'F4': <PDFObjRef:43>}}, streams=[<PDFObjRef:660>], ctm=(1, 0, 0, 1, -0.0, -0.0)\n"
     ]
    },
    {
     "name": "stdout",
     "output_type": "stream",
     "text": [
      "already processed  https://www.who.int/docs/default-source/coronaviruse/situation-reports/20200207-sitrep-18-ncov.pdf  in previous runs\n",
      "already processed  https://www.who.int/docs/default-source/coronaviruse/situation-reports/20200206-sitrep-17-ncov.pdf  in previous runs\n",
      "already processed  https://www.who.int/docs/default-source/coronaviruse/situation-reports/20200205-sitrep-16-ncov.pdf  in previous runs\n",
      "already processed  https://www.who.int/docs/default-source/coronaviruse/situation-reports/20200204-sitrep-15-ncov.pdf  in previous runs\n",
      "already processed  https://www.who.int/docs/default-source/coronaviruse/situation-reports/20200203-sitrep-14-ncov.pdf  in previous runs\n",
      "already processed  https://www.who.int/docs/default-source/coronaviruse/situation-reports/20200202-sitrep-13-ncov-v3.pdf  in previous runs\n",
      "already processed  https://www.who.int/docs/default-source/coronaviruse/situation-reports/20200201-sitrep-12-ncov.pdf  in previous runs\n",
      "already processed  https://www.who.int/docs/default-source/coronaviruse/situation-reports/20200131-sitrep-11-ncov.pdf  in previous runs\n",
      "already processed  https://www.who.int/docs/default-source/coronaviruse/situation-reports/20200130-sitrep-10-ncov.pdf  in previous runs\n",
      "already processed  https://www.who.int/docs/default-source/coronaviruse/situation-reports/20200129-sitrep-9-ncov-v2.pdf  in previous runs\n",
      "already processed  https://www.who.int/docs/default-source/coronaviruse/situation-reports/20200128-sitrep-8-ncov-cleared.pdf  in previous runs\n",
      "already processed  https://www.who.int/docs/default-source/coronaviruse/situation-reports/20200127-sitrep-7-2019--ncov.pdf  in previous runs\n"
     ]
    }
   ],
   "source": [
    "df = get_WHO_stats()"
   ]
  },
  {
   "cell_type": "code",
   "execution_count": 8,
   "metadata": {},
   "outputs": [
    {
     "data": {
      "text/html": [
       "<div>\n",
       "<style scoped>\n",
       "    .dataframe tbody tr th:only-of-type {\n",
       "        vertical-align: middle;\n",
       "    }\n",
       "\n",
       "    .dataframe tbody tr th {\n",
       "        vertical-align: top;\n",
       "    }\n",
       "\n",
       "    .dataframe thead th {\n",
       "        text-align: right;\n",
       "    }\n",
       "</style>\n",
       "<table border=\"1\" class=\"dataframe\">\n",
       "  <thead>\n",
       "    <tr style=\"text-align: right;\">\n",
       "      <th></th>\n",
       "      <th>date</th>\n",
       "      <th>global_cases</th>\n",
       "      <th>report_url</th>\n",
       "    </tr>\n",
       "  </thead>\n",
       "  <tbody>\n",
       "    <tr>\n",
       "      <th>0</th>\n",
       "      <td>2020-01-27</td>\n",
       "      <td>2798</td>\n",
       "      <td>https://www.who.int/docs/default-source/corona...</td>\n",
       "    </tr>\n",
       "    <tr>\n",
       "      <th>1</th>\n",
       "      <td>2020-01-28</td>\n",
       "      <td>4593</td>\n",
       "      <td>https://www.who.int/docs/default-source/corona...</td>\n",
       "    </tr>\n",
       "    <tr>\n",
       "      <th>2</th>\n",
       "      <td>2020-01-29</td>\n",
       "      <td>6065</td>\n",
       "      <td>https://www.who.int/docs/default-source/corona...</td>\n",
       "    </tr>\n",
       "    <tr>\n",
       "      <th>3</th>\n",
       "      <td>2020-01-30</td>\n",
       "      <td>7818</td>\n",
       "      <td>https://www.who.int/docs/default-source/corona...</td>\n",
       "    </tr>\n",
       "    <tr>\n",
       "      <th>4</th>\n",
       "      <td>2020-01-31</td>\n",
       "      <td>9826</td>\n",
       "      <td>https://www.who.int/docs/default-source/corona...</td>\n",
       "    </tr>\n",
       "    <tr>\n",
       "      <th>5</th>\n",
       "      <td>2020-02-01</td>\n",
       "      <td>11953</td>\n",
       "      <td>https://www.who.int/docs/default-source/corona...</td>\n",
       "    </tr>\n",
       "    <tr>\n",
       "      <th>6</th>\n",
       "      <td>2020-02-02</td>\n",
       "      <td>14557</td>\n",
       "      <td>https://www.who.int/docs/default-source/corona...</td>\n",
       "    </tr>\n",
       "    <tr>\n",
       "      <th>7</th>\n",
       "      <td>2020-02-03</td>\n",
       "      <td>17391</td>\n",
       "      <td>https://www.who.int/docs/default-source/corona...</td>\n",
       "    </tr>\n",
       "    <tr>\n",
       "      <th>8</th>\n",
       "      <td>2020-02-04</td>\n",
       "      <td>20630</td>\n",
       "      <td>https://www.who.int/docs/default-source/corona...</td>\n",
       "    </tr>\n",
       "    <tr>\n",
       "      <th>9</th>\n",
       "      <td>2020-02-05</td>\n",
       "      <td>24554</td>\n",
       "      <td>https://www.who.int/docs/default-source/corona...</td>\n",
       "    </tr>\n",
       "    <tr>\n",
       "      <th>10</th>\n",
       "      <td>2020-02-06</td>\n",
       "      <td>28276</td>\n",
       "      <td>https://www.who.int/docs/default-source/corona...</td>\n",
       "    </tr>\n",
       "    <tr>\n",
       "      <th>11</th>\n",
       "      <td>2020-02-07</td>\n",
       "      <td>31481</td>\n",
       "      <td>https://www.who.int/docs/default-source/corona...</td>\n",
       "    </tr>\n",
       "    <tr>\n",
       "      <th>12</th>\n",
       "      <td>2020-02-08</td>\n",
       "      <td>34886</td>\n",
       "      <td>https://www.who.int/docs/default-source/corona...</td>\n",
       "    </tr>\n",
       "  </tbody>\n",
       "</table>\n",
       "</div>"
      ],
      "text/plain": [
       "          date  global_cases  \\\n",
       "0   2020-01-27          2798   \n",
       "1   2020-01-28          4593   \n",
       "2   2020-01-29          6065   \n",
       "3   2020-01-30          7818   \n",
       "4   2020-01-31          9826   \n",
       "5   2020-02-01         11953   \n",
       "6   2020-02-02         14557   \n",
       "7   2020-02-03         17391   \n",
       "8   2020-02-04         20630   \n",
       "9   2020-02-05         24554   \n",
       "10  2020-02-06         28276   \n",
       "11  2020-02-07         31481   \n",
       "12  2020-02-08         34886   \n",
       "\n",
       "                                           report_url  \n",
       "0   https://www.who.int/docs/default-source/corona...  \n",
       "1   https://www.who.int/docs/default-source/corona...  \n",
       "2   https://www.who.int/docs/default-source/corona...  \n",
       "3   https://www.who.int/docs/default-source/corona...  \n",
       "4   https://www.who.int/docs/default-source/corona...  \n",
       "5   https://www.who.int/docs/default-source/corona...  \n",
       "6   https://www.who.int/docs/default-source/corona...  \n",
       "7   https://www.who.int/docs/default-source/corona...  \n",
       "8   https://www.who.int/docs/default-source/corona...  \n",
       "9   https://www.who.int/docs/default-source/corona...  \n",
       "10  https://www.who.int/docs/default-source/corona...  \n",
       "11  https://www.who.int/docs/default-source/corona...  \n",
       "12  https://www.who.int/docs/default-source/corona...  "
      ]
     },
     "execution_count": 8,
     "metadata": {},
     "output_type": "execute_result"
    }
   ],
   "source": [
    "df"
   ]
  },
  {
   "cell_type": "markdown",
   "metadata": {},
   "source": [
    "### Plot graph and save to files"
   ]
  },
  {
   "cell_type": "code",
   "execution_count": 9,
   "metadata": {},
   "outputs": [],
   "source": [
    "import seaborn as sns\n",
    "from pathlib import Path"
   ]
  },
  {
   "cell_type": "code",
   "execution_count": 10,
   "metadata": {},
   "outputs": [],
   "source": [
    "df.sort_values(by=['date'], inplace=True)"
   ]
  },
  {
   "cell_type": "code",
   "execution_count": 11,
   "metadata": {},
   "outputs": [
    {
     "data": {
      "image/png": "[encoded data removed]",
      "text/plain": [
       "<Figure size 1152x612 with 1 Axes>"
      ]
     },
     "metadata": {},
     "output_type": "display_data"
    }
   ],
   "source": [
    "sns.set(rc={'figure.figsize':(16,8.5)})\n",
    "\n",
    "bar_chart = sns.barplot(x='date', y='global_cases', data=df)\n",
    "bar_chart.tick_params(axis='x', labelrotation=70)\n"
   ]
  },
  {
   "cell_type": "code",
   "execution_count": 12,
   "metadata": {},
   "outputs": [],
   "source": [
    "bar_chart_fig = bar_chart.get_figure()\n"
   ]
  },
  {
   "cell_type": "code",
   "execution_count": 13,
   "metadata": {},
   "outputs": [],
   "source": [
    "df.to_csv(csv_file, index=False)\n",
    "bar_chart_fig.savefig(png_file)\n"
   ]
  },
  {
   "cell_type": "code",
   "execution_count": null,
   "metadata": {},
   "outputs": [],
   "source": []
  }
 ],
 "metadata": {
  "kernelspec": {
   "display_name": "Python 3",
   "language": "python",
   "name": "python3"
  },
  "language_info": {
   "codemirror_mode": {
    "name": "ipython",
    "version": 3
   },
   "file_extension": ".py",
   "mimetype": "text/x-python",
   "name": "python",
   "nbconvert_exporter": "python",
   "pygments_lexer": "ipython3",
   "version": "3.7.6"
  }
 },
 "nbformat": 4,
 "nbformat_minor": 2
}
