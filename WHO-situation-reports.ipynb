{
 "cells": [
  {
   "cell_type": "code",
   "execution_count": 1,
   "metadata": {},
   "outputs": [],
   "source": [
    "import requests\n",
    "import re\n",
    "import io\n",
    "from bs4 import BeautifulSoup\n",
    "from urllib.parse import urljoin\n",
    "from datetime import datetime\n",
    "# from PyPDF2 import PdfFileReader\n",
    "from pdfminer.high_level import extract_text\n",
    "import logging\n",
    "import sys\n",
    "import pandas as pd\n",
    "\n",
    "\n",
    "logger = logging.getLogger() \n",
    "logger.handlers = [logging.StreamHandler()]\n",
    "logger.setLevel(logging.INFO)\n"
   ]
  },
  {
   "cell_type": "code",
   "execution_count": 2,
   "metadata": {},
   "outputs": [],
   "source": [
    "csv_file = 'data/who-global-cases.csv'\n",
    "png_file = 'images/who-global-cases.png'"
   ]
  },
  {
   "cell_type": "code",
   "execution_count": 3,
   "metadata": {},
   "outputs": [
    {
     "data": {
      "text/plain": [
       "datetime.datetime(2020, 2, 13, 20, 10, 18, 334411)"
      ]
     },
     "execution_count": 3,
     "metadata": {},
     "output_type": "execute_result"
    }
   ],
   "source": [
    "# display the last execute time\n",
    "datetime.now()"
   ]
  },
  {
   "cell_type": "markdown",
   "metadata": {},
   "source": [
    "### Scraping"
   ]
  },
  {
   "cell_type": "code",
   "execution_count": 4,
   "metadata": {},
   "outputs": [],
   "source": [
    "def analyze_report(url):\n",
    "    '''\n",
    "    Analyze a situation report url\n",
    "    '''\n",
    "    response = requests.get(url)\n",
    "    # approach using Py2PDF\n",
    "    #     f_obj = io.BytesIO(response.content)\n",
    "    #     pdf = PdfFileReader(f_obj)\n",
    "    #     page_zero = pdf.getPage(0)  \n",
    "    #     text  = page_zero.extractText()\n",
    "\n",
    "    # using pdfminer\n",
    "    filename=re.sub(\"[\\:\\s\\.]\", \"\", str(datetime.now()))\n",
    "    open(filename, \"wb\").write(response.content)\n",
    "    text = extract_text(filename)\n",
    "    \n",
    "    try:\n",
    "        # use regular expression to extract date\n",
    "        p_date = re.compile(\"Data as reported by ([a-zA-Z0-9\\n\\s]+).*\\*\", re.DOTALL)\n",
    "        m_date = p_date.search(text)\n",
    "        report_date_str = m_date.group(1).replace(\"\\n\",\"\")\n",
    "        report_date = datetime.strptime(report_date_str, '%d %B %Y').strftime('%Y-%m-%d')\n",
    "\n",
    "        # use regular expression to extract global cases\n",
    "        p_global = re.compile(\"Globally ([\\s\\n0-9]+)\", re.DOTALL)\n",
    "        m_global = p_global.search(text)\n",
    "        global_cases_str = re.sub(r'[\\n\\s]', '', m_global.group(1))\n",
    "\n",
    "        global_cases = int(global_cases_str)\n",
    "\n",
    "        return {\"date\":report_date, \"global_cases\": global_cases, \"report_url\": url}\n",
    "    except AttributeError as e:\n",
    "        logger.warning(f'Unable to extract from \"{url}\" : {e}\\n.')\n",
    "        raise e\n",
    "\n"
   ]
  },
  {
   "cell_type": "code",
   "execution_count": 5,
   "metadata": {},
   "outputs": [],
   "source": [
    "def get_reports_urls(home_url):\n",
    "    '''\n",
    "    Extract situation reports URL from WHO's page\n",
    "    '''\n",
    "    # unable to analyse these reports\n",
    "    skipped_urls = [\n",
    "        'https://www.who.int/docs/default-source/coronaviruse/situation-reports/20200126-sitrep-6-2019--ncov.pdf',\n",
    "        'https://www.who.int/docs/default-source/coronaviruse/situation-reports/20200125-sitrep-5-2019-ncov.pdf',\n",
    "        'https://www.who.int/docs/default-source/coronaviruse/situation-reports/20200124-sitrep-4-2019-ncov.pdf',\n",
    "        'https://www.who.int/docs/default-source/coronaviruse/situation-reports/20200123-sitrep-3-2019-ncov.pdf',\n",
    "        'https://www.who.int/docs/default-source/coronaviruse/situation-reports/20200122-sitrep-2-2019-ncov.pdf',\n",
    "        'https://www.who.int/docs/default-source/coronaviruse/situation-reports/20200121-sitrep-1-2019-ncov.pdf'\n",
    "    ]  \n",
    "    \n",
    "    urls = []\n",
    "    response = requests.get(home_url)\n",
    "    soup = BeautifulSoup(response.content, 'lxml')\n",
    "    tags = soup.find_all('a')\n",
    "    for tag in tags:\n",
    "        if len(tag.contents)>0:\n",
    "            content = str(tag.contents[0])\n",
    "            if \"Situation report - \" in content:\n",
    "                url = urljoin(home_url ,  tag.get('href')).split('?')[0]\n",
    "                \n",
    "                if url not in skipped_urls:\n",
    "                    urls.append(url)\n",
    "\n",
    "    return urls\n"
   ]
  },
  {
   "cell_type": "code",
   "execution_count": 6,
   "metadata": {},
   "outputs": [],
   "source": [
    "def get_WHO_stats():\n",
    "    reports_home_url = 'https://www.who.int/emergencies/diseases/novel-coronavirus-2019/situation-reports/'\n",
    "    reports_urls = get_reports_urls(reports_home_url)\n",
    "    df = pd.read_csv(csv_file)\n",
    "    for url in reports_urls:\n",
    "        if df['report_url'].str.contains(url).any():\n",
    "            print('already processed ', url, ' in previous runs')\n",
    "            continue\n",
    "        stats = analyze_report(url)\n",
    "        df = df.append(stats, ignore_index = True)\n",
    "    return df"
   ]
  },
  {
   "cell_type": "code",
   "execution_count": 7,
   "metadata": {},
   "outputs": [
    {
     "name": "stderr",
     "output_type": "stream",
     "text": [
      "xref found: pos=b'1067568'\n",
      "read_xref_from: start=1067568, token=/b'xref'\n",
      "xref objects: {}\n",
      "trailer: {'Size': 1234, 'Root': <PDFObjRef:1>, 'Info': <PDFObjRef:91>, 'ID': [b'j+\\xb1)\\xb7\\x0bXF\\x95)\\xb0\\x12\\x9f<\\xf2\\x8e', b'j+\\xb1)\\xb7\\x0bXF\\x95)\\xb0\\x12\\x9f<\\xf2\\x8e'], 'Prev': 1042725, 'XRefStm': 1040026}\n",
      "read_xref_from: start=1040026, token=1233\n",
      "xref stream: objid=(0, 1233), fields=1,4,2\n",
      "trailer: {'Type': /'XRef', 'Size': 1233, 'W': [1, 4, 2], 'Root': <PDFObjRef:1>, 'Info': <PDFObjRef:91>, 'ID': [b'j+\\xb1)\\xb7\\x0bXF\\x95)\\xb0\\x12\\x9f<\\xf2\\x8e', b'j+\\xb1)\\xb7\\x0bXF\\x95)\\xb0\\x12\\x9f<\\xf2\\x8e'], 'Filter': /'FlateDecode', 'Length': 2493}\n",
      "read_xref_from: start=1042725, token=/b'xref'\n",
      "xref objects: {1: (None, 17, 0), 2: (None, 170, 0), 3: (None, 275, 0), 4: (None, 689, 0), 5: (None, 5702, 0), 6: (None, 5865, 0), 7: (None, 6091, 0), 8: (None, 6144, 0), 9: (None, 6197, 0), 10: (None, 6368, 0), 11: (None, 6610, 0), 12: (None, 6784, 0), 13: (None, 7021, 0), 14: (None, 7193, 0), 15: (None, 7429, 0), 16: (None, 7599, 0), 17: (None, 7831, 0), 18: (None, 7963, 0), 19: (None, 7993, 0), 20: (None, 8153, 0), 21: (None, 8227, 0), 22: (None, 8478, 0), 23: (None, 8655, 0), 24: (None, 8902, 0), 25: (None, 22516, 0), 26: (None, 31040, 0), 27: (None, 31168, 0), 28: (None, 31198, 0), 29: (None, 31354, 0), 30: (None, 31428, 0), 31: (None, 31662, 0), 32: (None, 31906, 0), 33: (None, 32149, 0), 34: (None, 32283, 0), 35: (None, 32313, 0), 36: (None, 32475, 0), 37: (None, 32549, 0), 38: (None, 32791, 0), 39: (None, 162582, 0), 40: (None, 162882, 0), 41: (None, 167325, 0), 42: (None, 167634, 0), 43: (None, 168428, 0), 44: (None, 252195, 0), 45: (None, 288939, 0), 46: (None, 289273, 0), 47: (None, 296862, 0), 48: (None, 297051, 0), 49: (None, 297230, 0), 50: (None, 297549, 0), 51: (None, 309582, 0), 52: (None, 309721, 0), 53: (None, 309751, 0), 54: (None, 309918, 0), 55: (None, 309992, 0), 56: (None, 310239, 0), 57: (None, 310486, 0), 58: (None, 310819, 0), 59: (None, 312258, 0), 60: (None, 380150, 0), 61: (None, 452325, 0), 62: (None, 452807, 0), 63: (None, 459119, 0), 64: (None, 459246, 0), 65: (None, 459276, 0), 66: (None, 459431, 0), 67: (None, 459505, 0), 68: (None, 459751, 0), 69: (None, 459968, 0), 70: (None, 460165, 0), 71: (None, 460454, 0), 72: (None, 460743, 0), 73: (None, 460980, 0), 74: (None, 461303, 0), 75: (None, 461625, 0), 76: (None, 461912, 0), 77: (None, 462162, 0), 78: (None, 462411, 0), 79: (None, 462717, 0), 80: (None, 463021, 0), 81: (None, 463304, 0), 82: (None, 463555, 0), 83: (None, 463805, 0), 84: (None, 464034, 0), 85: (None, 464332, 0), 86: (None, 464536, 0), 87: (None, 464740, 0), 88: (None, 464923, 0), 89: (None, 465252, 0), 90: (None, 468534, 0), 91: (None, 468770, 0), 123: (None, 474916, 0), 128: (None, 474967, 0), 138: (None, 475018, 0), 148: (None, 475069, 0), 1060: (None, 481154, 0), 1080: (None, 481206, 0), 1178: (None, 484596, 0), 1198: (None, 484648, 0), 1210: (None, 484700, 0), 1211: (None, 485003, 0), 1212: (None, 568530, 0), 1213: (None, 568750, 0), 1214: (None, 568991, 0), 1215: (None, 569482, 0), 1216: (None, 761278, 0), 1217: (None, 761978, 0), 1218: (None, 762425, 0), 1219: (None, 762454, 0), 1220: (None, 762689, 0), 1221: (None, 762990, 0), 1222: (None, 848228, 0), 1223: (None, 848554, 0), 1224: (None, 848861, 0), 1225: (None, 849164, 0), 1226: (None, 1022409, 0), 1227: (None, 1022987, 0), 1228: (None, 1023310, 0), 1229: (None, 1023613, 0), 1230: (None, 1036768, 0), 1231: (None, 1036813, 0), 1232: (None, 1039979, 0), 1233: (None, 1040026, 0)}\n",
      "trailer: {'Size': 1234, 'Root': <PDFObjRef:1>, 'Info': <PDFObjRef:91>, 'ID': [b'j+\\xb1)\\xb7\\x0bXF\\x95)\\xb0\\x12\\x9f<\\xf2\\x8e', b'j+\\xb1)\\xb7\\x0bXF\\x95)\\xb0\\x12\\x9f<\\xf2\\x8e']}\n",
      "trailer: {'Size': 1234, 'Root': <PDFObjRef:1>, 'Info': <PDFObjRef:91>, 'ID': [b'j+\\xb1)\\xb7\\x0bXF\\x95)\\xb0\\x12\\x9f<\\xf2\\x8e', b'j+\\xb1)\\xb7\\x0bXF\\x95)\\xb0\\x12\\x9f<\\xf2\\x8e']}\n",
      "Pages: Kids=[<PDFObjRef:3>, <PDFObjRef:39>, <PDFObjRef:41>, <PDFObjRef:45>, <PDFObjRef:49>, <PDFObjRef:57>, <PDFObjRef:61>, <PDFObjRef:88>]\n",
      "Page: {'Type': /'Page', 'Parent': <PDFObjRef:2>, 'Resources': {'Font': {'F1': <PDFObjRef:5>, 'F2': <PDFObjRef:9>, 'F3': <PDFObjRef:11>, 'F4': <PDFObjRef:13>, 'F5': <PDFObjRef:15>, 'F6': <PDFObjRef:17>, 'F7': <PDFObjRef:22>, 'F8': <PDFObjRef:26>, 'F9': <PDFObjRef:33>}, 'ExtGState': {'GS7': <PDFObjRef:7>, 'GS8': <PDFObjRef:8>}, 'XObject': {'Image24': <PDFObjRef:24>, 'Image38': <PDFObjRef:38>}, 'ProcSet': [/'PDF', /'Text', /'ImageB', /'ImageC', /'ImageI']}, 'Annots': [<PDFObjRef:31>, <PDFObjRef:32>], 'MediaBox': [0, 0, 595.5, 841.98], 'Contents': <PDFObjRef:4>, 'Group': {'Type': /'Group', 'S': /'Transparency', 'CS': /'DeviceRGB'}, 'Tabs': /'S', 'StructParents': 0}\n",
      "Processing page: <PDFPage: Resources={'Font': {'F1': <PDFObjRef:5>, 'F2': <PDFObjRef:9>, 'F3': <PDFObjRef:11>, 'F4': <PDFObjRef:13>, 'F5': <PDFObjRef:15>, 'F6': <PDFObjRef:17>, 'F7': <PDFObjRef:22>, 'F8': <PDFObjRef:26>, 'F9': <PDFObjRef:33>}, 'ExtGState': {'GS7': <PDFObjRef:7>, 'GS8': <PDFObjRef:8>}, 'XObject': {'Image24': <PDFObjRef:24>, 'Image38': <PDFObjRef:38>}, 'ProcSet': [/'PDF', /'Text', /'ImageB', /'ImageC', /'ImageI']}, MediaBox=[0, 0, 595.5, 841.98]>\n",
      "render_contents: resources={'Font': {'F1': <PDFObjRef:5>, 'F2': <PDFObjRef:9>, 'F3': <PDFObjRef:11>, 'F4': <PDFObjRef:13>, 'F5': <PDFObjRef:15>, 'F6': <PDFObjRef:17>, 'F7': <PDFObjRef:22>, 'F8': <PDFObjRef:26>, 'F9': <PDFObjRef:33>}, 'ExtGState': {'GS7': <PDFObjRef:7>, 'GS8': <PDFObjRef:8>}, 'XObject': {'Image24': <PDFObjRef:24>, 'Image38': <PDFObjRef:38>}, 'ProcSet': [/'PDF', /'Text', /'ImageB', /'ImageC', /'ImageI']}, streams=[<PDFStream(4): raw=4940, {'Filter': /'FlateDecode', 'Length': 4938}>], ctm=(1, 0, 0, 1, 0, 0)\n",
      "get_font: create: objid=5, spec={'Type': /'Font', 'Subtype': /'TrueType', 'Name': /'F1', 'BaseFont': /'ArialMT', 'Encoding': /'WinAnsiEncoding', 'FontDescriptor': <PDFObjRef:6>, 'FirstChar': 32, 'LastChar': 116, 'Widths': <PDFObjRef:1213>}\n",
      "get_font: create: objid=9, spec={'Type': /'Font', 'Subtype': /'TrueType', 'Name': /'F2', 'BaseFont': /'BCDEEE+Calibri', 'Encoding': /'WinAnsiEncoding', 'FontDescriptor': <PDFObjRef:10>, 'FirstChar': 32, 'LastChar': 167, 'Widths': <PDFObjRef:1217>}\n",
      "get_font: create: objid=11, spec={'Type': /'Font', 'Subtype': /'TrueType', 'Name': /'F3', 'BaseFont': /'TimesNewRomanPSMT', 'Encoding': /'WinAnsiEncoding', 'FontDescriptor': <PDFObjRef:12>, 'FirstChar': 32, 'LastChar': 32, 'Widths': <PDFObjRef:1218>}\n",
      "get_font: create: objid=13, spec={'Type': /'Font', 'Subtype': /'TrueType', 'Name': /'F4', 'BaseFont': /'Arial-ItalicMT', 'Encoding': /'WinAnsiEncoding', 'FontDescriptor': <PDFObjRef:14>, 'FirstChar': 32, 'LastChar': 117, 'Widths': <PDFObjRef:1219>}\n",
      "get_font: create: objid=15, spec={'Type': /'Font', 'Subtype': /'TrueType', 'Name': /'F5', 'BaseFont': /'Arial-BoldMT', 'Encoding': /'WinAnsiEncoding', 'FontDescriptor': <PDFObjRef:16>, 'FirstChar': 32, 'LastChar': 121, 'Widths': <PDFObjRef:1223>}\n",
      "get_font: create: objid=17, spec={'Type': /'Font', 'Subtype': /'Type0', 'BaseFont': /'Arial-BoldMT', 'Encoding': /'Identity-H', 'DescendantFonts': <PDFObjRef:18>, 'ToUnicode': <PDFObjRef:1220>}\n",
      "get_font: create: objid=None, spec={'BaseFont': /'Arial-BoldMT', 'Subtype': /'CIDFontType2', 'Type': /'Font', 'CIDToGIDMap': /'Identity', 'DW': 1000, 'CIDSystemInfo': <PDFObjRef:20>, 'FontDescriptor': <PDFObjRef:21>, 'W': <PDFObjRef:1222>, 'Encoding': /'Identity-H', 'ToUnicode': <PDFStream(1220): raw=226, {'Filter': /'FlateDecode', 'Length': 224}>}\n",
      "get_font: create: objid=22, spec={'Type': /'Font', 'Subtype': /'TrueType', 'Name': /'F7', 'BaseFont': /'BCDFEE+Calibri-Bold', 'Encoding': /'WinAnsiEncoding', 'FontDescriptor': <PDFObjRef:23>, 'FirstChar': 32, 'LastChar': 121, 'Widths': <PDFObjRef:1227>}\n",
      "get_font: create: objid=26, spec={'Type': /'Font', 'Subtype': /'Type0', 'BaseFont': /'SymbolMT', 'Encoding': /'Identity-H', 'DescendantFonts': <PDFObjRef:27>, 'ToUnicode': <PDFObjRef:1228>}\n",
      "get_font: create: objid=None, spec={'BaseFont': /'SymbolMT', 'Subtype': /'CIDFontType2', 'Type': /'Font', 'CIDToGIDMap': /'Identity', 'DW': 1000, 'CIDSystemInfo': <PDFObjRef:29>, 'FontDescriptor': <PDFObjRef:30>, 'W': <PDFObjRef:1230>, 'Encoding': /'Identity-H', 'ToUnicode': <PDFStream(1228): raw=228, {'Filter': /'FlateDecode', 'Length': 226}>}\n",
      "get_font: create: objid=33, spec={'Type': /'Font', 'Subtype': /'Type0', 'BaseFont': /'BCDGEE+Calibri', 'Encoding': /'Identity-H', 'DescendantFonts': <PDFObjRef:34>, 'ToUnicode': <PDFObjRef:1214>}\n",
      "get_font: create: objid=None, spec={'BaseFont': /'BCDGEE+Calibri', 'Subtype': /'CIDFontType2', 'Type': /'Font', 'CIDToGIDMap': /'Identity', 'DW': 1000, 'CIDSystemInfo': <PDFObjRef:36>, 'FontDescriptor': <PDFObjRef:37>, 'W': <PDFObjRef:1216>, 'Encoding': /'Identity-H', 'ToUnicode': <PDFStream(1214): raw=416, {'Filter': /'FlateDecode', 'Length': 414}>}\n",
      "Processing xobj: <PDFStream(24): raw=13421, {'Type': /'XObject', 'Subtype': /'Image', 'Width': 276, 'Height': 84, 'ColorSpace': /'DeviceRGB', 'BitsPerComponent': 8, 'Interpolate': False, 'SMask': <PDFObjRef:25>, 'Filter': /'FlateDecode', 'Length': 13419}>\n",
      "Processing xobj: <PDFStream(38): raw=129611, {'Type': /'XObject', 'Subtype': /'Image', 'Width': 1410, 'Height': 793, 'ColorSpace': /'DeviceRGB', 'BitsPerComponent': 8, 'Filter': /'DCTDecode', 'Interpolate': True, 'Length': 129609}>\n",
      "Page: {'Type': /'Page', 'Parent': <PDFObjRef:2>, 'Resources': {'Font': {'F5': <PDFObjRef:15>, 'F1': <PDFObjRef:5>, 'F2': <PDFObjRef:9>, 'F7': <PDFObjRef:22>}, 'ExtGState': {'GS7': <PDFObjRef:7>, 'GS8': <PDFObjRef:8>}, 'ProcSet': [/'PDF', /'Text', /'ImageB', /'ImageC', /'ImageI']}, 'MediaBox': [0, 0, 595.5, 841.98], 'Contents': <PDFObjRef:40>, 'Group': {'Type': /'Group', 'S': /'Transparency', 'CS': /'DeviceRGB'}, 'Tabs': /'S', 'StructParents': 3}\n",
      "Processing page: <PDFPage: Resources={'Font': {'F5': <PDFObjRef:15>, 'F1': <PDFObjRef:5>, 'F2': <PDFObjRef:9>, 'F7': <PDFObjRef:22>}, 'ExtGState': {'GS7': <PDFObjRef:7>, 'GS8': <PDFObjRef:8>}, 'ProcSet': [/'PDF', /'Text', /'ImageB', /'ImageC', /'ImageI']}, MediaBox=[0, 0, 595.5, 841.98]>\n",
      "render_contents: resources={'Font': {'F5': <PDFObjRef:15>, 'F1': <PDFObjRef:5>, 'F2': <PDFObjRef:9>, 'F7': <PDFObjRef:22>}, 'ExtGState': {'GS7': <PDFObjRef:7>, 'GS8': <PDFObjRef:8>}, 'ProcSet': [/'PDF', /'Text', /'ImageB', /'ImageC', /'ImageI']}, streams=[<PDFStream(40): raw=4369, {'Filter': /'FlateDecode', 'Length': 4367}>], ctm=(1, 0, 0, 1, 0, 0)\n",
      "Page: {'Type': /'Page', 'Parent': <PDFObjRef:2>, 'Resources': {'Font': {'F7': <PDFObjRef:22>, 'F5': <PDFObjRef:15>}, 'ExtGState': {'GS7': <PDFObjRef:7>, 'GS8': <PDFObjRef:8>}, 'XObject': {'Image43': <PDFObjRef:43>}, 'ProcSet': [/'PDF', /'Text', /'ImageB', /'ImageC', /'ImageI']}, 'MediaBox': [0, 0, 595.5, 841.98], 'Contents': <PDFObjRef:42>, 'Group': {'Type': /'Group', 'S': /'Transparency', 'CS': /'DeviceRGB'}, 'Tabs': /'S', 'StructParents': 4}\n",
      "Processing page: <PDFPage: Resources={'Font': {'F7': <PDFObjRef:22>, 'F5': <PDFObjRef:15>}, 'ExtGState': {'GS7': <PDFObjRef:7>, 'GS8': <PDFObjRef:8>}, 'XObject': {'Image43': <PDFObjRef:43>}, 'ProcSet': [/'PDF', /'Text', /'ImageB', /'ImageC', /'ImageI']}, MediaBox=[0, 0, 595.5, 841.98]>\n",
      "render_contents: resources={'Font': {'F7': <PDFObjRef:22>, 'F5': <PDFObjRef:15>}, 'ExtGState': {'GS7': <PDFObjRef:7>, 'GS8': <PDFObjRef:8>}, 'XObject': {'Image43': <PDFObjRef:43>}, 'ProcSet': [/'PDF', /'Text', /'ImageB', /'ImageC', /'ImageI']}, streams=[<PDFStream(42): raw=721, {'Filter': /'FlateDecode', 'Length': 719}>], ctm=(1, 0, 0, 1, 0, 0)\n",
      "Processing xobj: <PDFStream(43): raw=83572, {'Type': /'XObject', 'Subtype': /'Image', 'Width': 1420, 'Height': 798, 'ColorSpace': /'DeviceRGB', 'BitsPerComponent': 8, 'Interpolate': False, 'SMask': <PDFObjRef:44>, 'Filter': /'FlateDecode', 'Length': 83570}>\n",
      "Page: {'Type': /'Page', 'Parent': <PDFObjRef:2>, 'Resources': {'Font': {'F5': <PDFObjRef:15>, 'F7': <PDFObjRef:22>, 'F2': <PDFObjRef:9>, 'F1': <PDFObjRef:5>, 'F4': <PDFObjRef:13>}, 'ExtGState': {'GS7': <PDFObjRef:7>, 'GS8': <PDFObjRef:8>}, 'ProcSet': [/'PDF', /'Text', /'ImageB', /'ImageC', /'ImageI']}, 'Annots': [<PDFObjRef:47>, <PDFObjRef:48>], 'MediaBox': [0, 0, 595.5, 841.98], 'Contents': <PDFObjRef:46>, 'Group': {'Type': /'Group', 'S': /'Transparency', 'CS': /'DeviceRGB'}, 'Tabs': /'S', 'StructParents': 5}\n",
      "Processing page: <PDFPage: Resources={'Font': {'F5': <PDFObjRef:15>, 'F7': <PDFObjRef:22>, 'F2': <PDFObjRef:9>, 'F1': <PDFObjRef:5>, 'F4': <PDFObjRef:13>}, 'ExtGState': {'GS7': <PDFObjRef:7>, 'GS8': <PDFObjRef:8>}, 'ProcSet': [/'PDF', /'Text', /'ImageB', /'ImageC', /'ImageI']}, MediaBox=[0, 0, 595.5, 841.98]>\n",
      "render_contents: resources={'Font': {'F5': <PDFObjRef:15>, 'F7': <PDFObjRef:22>, 'F2': <PDFObjRef:9>, 'F1': <PDFObjRef:5>, 'F4': <PDFObjRef:13>}, 'ExtGState': {'GS7': <PDFObjRef:7>, 'GS8': <PDFObjRef:8>}, 'ProcSet': [/'PDF', /'Text', /'ImageB', /'ImageC', /'ImageI']}, streams=[<PDFStream(46): raw=7515, {'Filter': /'FlateDecode', 'Length': 7513}>], ctm=(1, 0, 0, 1, 0, 0)\n",
      "Page: {'Type': /'Page', 'Parent': <PDFObjRef:2>, 'Resources': {'Font': {'F7': <PDFObjRef:22>, 'F10': <PDFObjRef:51>, 'F2': <PDFObjRef:9>, 'F9': <PDFObjRef:33>}, 'ExtGState': {'GS7': <PDFObjRef:7>, 'GS8': <PDFObjRef:8>}, 'ProcSet': [/'PDF', /'Text', /'ImageB', /'ImageC', /'ImageI']}, 'Annots': [<PDFObjRef:56>], 'MediaBox': [0, 0, 595.5, 841.98], 'Contents': <PDFObjRef:50>, 'Group': {'Type': /'Group', 'S': /'Transparency', 'CS': /'DeviceRGB'}, 'Tabs': /'S', 'StructParents': 8}\n",
      "Processing page: <PDFPage: Resources={'Font': {'F7': <PDFObjRef:22>, 'F10': <PDFObjRef:51>, 'F2': <PDFObjRef:9>, 'F9': <PDFObjRef:33>}, 'ExtGState': {'GS7': <PDFObjRef:7>, 'GS8': <PDFObjRef:8>}, 'ProcSet': [/'PDF', /'Text', /'ImageB', /'ImageC', /'ImageI']}, MediaBox=[0, 0, 595.5, 841.98]>\n",
      "render_contents: resources={'Font': {'F7': <PDFObjRef:22>, 'F10': <PDFObjRef:51>, 'F2': <PDFObjRef:9>, 'F9': <PDFObjRef:33>}, 'ExtGState': {'GS7': <PDFObjRef:7>, 'GS8': <PDFObjRef:8>}, 'ProcSet': [/'PDF', /'Text', /'ImageB', /'ImageC', /'ImageI']}, streams=[<PDFStream(50): raw=11958, {'Filter': /'FlateDecode', 'Length': 11956}>], ctm=(1, 0, 0, 1, 0, 0)\n",
      "get_font: create: objid=51, spec={'Type': /'Font', 'Subtype': /'Type0', 'BaseFont': /'BCDHEE+Calibri-Bold', 'Encoding': /'Identity-H', 'DescendantFonts': <PDFObjRef:52>, 'ToUnicode': <PDFObjRef:1224>}\n",
      "get_font: create: objid=None, spec={'BaseFont': /'BCDHEE+Calibri-Bold', 'Subtype': /'CIDFontType2', 'Type': /'Font', 'CIDToGIDMap': /'Identity', 'DW': 1000, 'CIDSystemInfo': <PDFObjRef:54>, 'FontDescriptor': <PDFObjRef:55>, 'W': <PDFObjRef:1226>, 'Encoding': /'Identity-H', 'ToUnicode': <PDFStream(1224): raw=228, {'Filter': /'FlateDecode', 'Length': 226}>}\n",
      "Page: {'Type': /'Page', 'Parent': <PDFObjRef:2>, 'Resources': {'Font': {'F7': <PDFObjRef:22>, 'F2': <PDFObjRef:9>, 'F1': <PDFObjRef:5>}, 'ExtGState': {'GS7': <PDFObjRef:7>, 'GS8': <PDFObjRef:8>}, 'XObject': {'Image59': <PDFObjRef:59>, 'Image60': <PDFObjRef:60>}, 'ProcSet': [/'PDF', /'Text', /'ImageB', /'ImageC', /'ImageI']}, 'MediaBox': [0, 0, 595.5, 841.98], 'Contents': <PDFObjRef:58>, 'Group': {'Type': /'Group', 'S': /'Transparency', 'CS': /'DeviceRGB'}, 'Tabs': /'S', 'StructParents': 10}\n",
      "Processing page: <PDFPage: Resources={'Font': {'F7': <PDFObjRef:22>, 'F2': <PDFObjRef:9>, 'F1': <PDFObjRef:5>}, 'ExtGState': {'GS7': <PDFObjRef:7>, 'GS8': <PDFObjRef:8>}, 'XObject': {'Image59': <PDFObjRef:59>, 'Image60': <PDFObjRef:60>}, 'ProcSet': [/'PDF', /'Text', /'ImageB', /'ImageC', /'ImageI']}, MediaBox=[0, 0, 595.5, 841.98]>\n",
      "render_contents: resources={'Font': {'F7': <PDFObjRef:22>, 'F2': <PDFObjRef:9>, 'F1': <PDFObjRef:5>}, 'ExtGState': {'GS7': <PDFObjRef:7>, 'GS8': <PDFObjRef:8>}, 'XObject': {'Image59': <PDFObjRef:59>, 'Image60': <PDFObjRef:60>}, 'ProcSet': [/'PDF', /'Text', /'ImageB', /'ImageC', /'ImageI']}, streams=[<PDFStream(58): raw=1365, {'Filter': /'FlateDecode', 'Length': 1363}>], ctm=(1, 0, 0, 1, 0, 0)\n",
      "Processing xobj: <PDFStream(59): raw=67710, {'Type': /'XObject', 'Subtype': /'Image', 'Width': 1453, 'Height': 728, 'ColorSpace': /'DeviceRGB', 'BitsPerComponent': 8, 'Interpolate': False, 'Filter': /'FlateDecode', 'Length': 67708}>\n",
      "Processing xobj: <PDFStream(60): raw=71993, {'Type': /'XObject', 'Subtype': /'Image', 'Width': 1453, 'Height': 796, 'ColorSpace': /'DeviceRGB', 'BitsPerComponent': 8, 'Interpolate': False, 'Filter': /'FlateDecode', 'Length': 71991}>\n",
      "Page: {'Type': /'Page', 'Parent': <PDFObjRef:2>, 'Resources': {'Font': {'F5': <PDFObjRef:15>, 'F11': <PDFObjRef:63>, 'F1': <PDFObjRef:5>, 'F2': <PDFObjRef:9>, 'F9': <PDFObjRef:33>, 'F7': <PDFObjRef:22>, 'F8': <PDFObjRef:26>}, 'ExtGState': {'GS7': <PDFObjRef:7>, 'GS8': <PDFObjRef:8>}, 'ProcSet': [/'PDF', /'Text', /'ImageB', /'ImageC', /'ImageI']}, 'Annots': [<PDFObjRef:68>, <PDFObjRef:69>, <PDFObjRef:70>, <PDFObjRef:71>, <PDFObjRef:72>, <PDFObjRef:73>, <PDFObjRef:74>, <PDFObjRef:75>, <PDFObjRef:76>, <PDFObjRef:77>, <PDFObjRef:78>, <PDFObjRef:79>, <PDFObjRef:80>, <PDFObjRef:81>, <PDFObjRef:82>, <PDFObjRef:83>, <PDFObjRef:84>, <PDFObjRef:85>, <PDFObjRef:86>, <PDFObjRef:87>], 'MediaBox': [0, 0, 595.5, 841.98], 'Contents': <PDFObjRef:62>, 'Group': {'Type': /'Group', 'S': /'Transparency', 'CS': /'DeviceRGB'}, 'Tabs': /'S', 'StructParents': 11}\n",
      "Processing page: <PDFPage: Resources={'Font': {'F5': <PDFObjRef:15>, 'F11': <PDFObjRef:63>, 'F1': <PDFObjRef:5>, 'F2': <PDFObjRef:9>, 'F9': <PDFObjRef:33>, 'F7': <PDFObjRef:22>, 'F8': <PDFObjRef:26>}, 'ExtGState': {'GS7': <PDFObjRef:7>, 'GS8': <PDFObjRef:8>}, 'ProcSet': [/'PDF', /'Text', /'ImageB', /'ImageC', /'ImageI']}, MediaBox=[0, 0, 595.5, 841.98]>\n",
      "render_contents: resources={'Font': {'F5': <PDFObjRef:15>, 'F11': <PDFObjRef:63>, 'F1': <PDFObjRef:5>, 'F2': <PDFObjRef:9>, 'F9': <PDFObjRef:33>, 'F7': <PDFObjRef:22>, 'F8': <PDFObjRef:26>}, 'ExtGState': {'GS7': <PDFObjRef:7>, 'GS8': <PDFObjRef:8>}, 'ProcSet': [/'PDF', /'Text', /'ImageB', /'ImageC', /'ImageI']}, streams=[<PDFStream(62): raw=6238, {'Filter': /'FlateDecode', 'Length': 6236}>], ctm=(1, 0, 0, 1, 0, 0)\n",
      "get_font: create: objid=63, spec={'Type': /'Font', 'Subtype': /'Type0', 'BaseFont': /'ArialMT', 'Encoding': /'Identity-H', 'DescendantFonts': <PDFObjRef:64>, 'ToUnicode': <PDFObjRef:1210>}\n",
      "get_font: create: objid=None, spec={'BaseFont': /'ArialMT', 'Subtype': /'CIDFontType2', 'Type': /'Font', 'CIDToGIDMap': /'Identity', 'DW': 1000, 'CIDSystemInfo': <PDFObjRef:66>, 'FontDescriptor': <PDFObjRef:67>, 'W': <PDFObjRef:1212>, 'Encoding': /'Identity-H', 'ToUnicode': <PDFStream(1210): raw=228, {'Filter': /'FlateDecode', 'Length': 226}>}\n",
      "Page: {'Type': /'Page', 'Parent': <PDFObjRef:2>, 'Resources': {'Font': {'F2': <PDFObjRef:9>, 'F7': <PDFObjRef:22>, 'F11': <PDFObjRef:63>, 'F1': <PDFObjRef:5>, 'F5': <PDFObjRef:15>}, 'ExtGState': {'GS7': <PDFObjRef:7>, 'GS8': <PDFObjRef:8>}, 'ProcSet': [/'PDF', /'Text', /'ImageB', /'ImageC', /'ImageI']}, 'Annots': [<PDFObjRef:90>], 'MediaBox': [0, 0, 595.5, 841.98], 'Contents': <PDFObjRef:89>, 'Group': {'Type': /'Group', 'S': /'Transparency', 'CS': /'DeviceRGB'}, 'Tabs': /'S', 'StructParents': 32}\n",
      "Processing page: <PDFPage: Resources={'Font': {'F2': <PDFObjRef:9>, 'F7': <PDFObjRef:22>, 'F11': <PDFObjRef:63>, 'F1': <PDFObjRef:5>, 'F5': <PDFObjRef:15>}, 'ExtGState': {'GS7': <PDFObjRef:7>, 'GS8': <PDFObjRef:8>}, 'ProcSet': [/'PDF', /'Text', /'ImageB', /'ImageC', /'ImageI']}, MediaBox=[0, 0, 595.5, 841.98]>\n",
      "render_contents: resources={'Font': {'F2': <PDFObjRef:9>, 'F7': <PDFObjRef:22>, 'F11': <PDFObjRef:63>, 'F1': <PDFObjRef:5>, 'F5': <PDFObjRef:15>}, 'ExtGState': {'GS7': <PDFObjRef:7>, 'GS8': <PDFObjRef:8>}, 'ProcSet': [/'PDF', /'Text', /'ImageB', /'ImageC', /'ImageI']}, streams=[<PDFStream(89): raw=3208, {'Filter': /'FlateDecode', 'Length': 3206}>], ctm=(1, 0, 0, 1, 0, 0)\n"
     ]
    },
    {
     "name": "stdout",
     "output_type": "stream",
     "text": [
      "already processed  https://www.who.int/docs/default-source/coronaviruse/situation-reports/20200212-sitrep-23-ncov.pdf  in previous runs\n",
      "already processed  https://www.who.int/docs/default-source/coronaviruse/situation-reports/20200211-sitrep-22-ncov.pdf  in previous runs\n",
      "already processed  https://www.who.int/docs/default-source/coronaviruse/situation-reports/20200210-sitrep-21-ncov.pdf  in previous runs\n",
      "already processed  https://www.who.int/docs/default-source/coronaviruse/situation-reports/20200209-sitrep-20-ncov.pdf  in previous runs\n",
      "already processed  https://www.who.int/docs/default-source/coronaviruse/situation-reports/20200208-sitrep-19-ncov.pdf  in previous runs\n",
      "already processed  https://www.who.int/docs/default-source/coronaviruse/situation-reports/20200207-sitrep-18-ncov.pdf  in previous runs\n",
      "already processed  https://www.who.int/docs/default-source/coronaviruse/situation-reports/20200206-sitrep-17-ncov.pdf  in previous runs\n",
      "already processed  https://www.who.int/docs/default-source/coronaviruse/situation-reports/20200205-sitrep-16-ncov.pdf  in previous runs\n",
      "already processed  https://www.who.int/docs/default-source/coronaviruse/situation-reports/20200204-sitrep-15-ncov.pdf  in previous runs\n",
      "already processed  https://www.who.int/docs/default-source/coronaviruse/situation-reports/20200203-sitrep-14-ncov.pdf  in previous runs\n",
      "already processed  https://www.who.int/docs/default-source/coronaviruse/situation-reports/20200202-sitrep-13-ncov-v3.pdf  in previous runs\n",
      "already processed  https://www.who.int/docs/default-source/coronaviruse/situation-reports/20200201-sitrep-12-ncov.pdf  in previous runs\n",
      "already processed  https://www.who.int/docs/default-source/coronaviruse/situation-reports/20200131-sitrep-11-ncov.pdf  in previous runs\n",
      "already processed  https://www.who.int/docs/default-source/coronaviruse/situation-reports/20200130-sitrep-10-ncov.pdf  in previous runs\n",
      "already processed  https://www.who.int/docs/default-source/coronaviruse/situation-reports/20200129-sitrep-9-ncov-v2.pdf  in previous runs\n",
      "already processed  https://www.who.int/docs/default-source/coronaviruse/situation-reports/20200128-sitrep-8-ncov-cleared.pdf  in previous runs\n",
      "already processed  https://www.who.int/docs/default-source/coronaviruse/situation-reports/20200127-sitrep-7-2019--ncov.pdf  in previous runs\n"
     ]
    }
   ],
   "source": [
    "df = get_WHO_stats()"
   ]
  },
  {
   "cell_type": "code",
   "execution_count": 8,
   "metadata": {},
   "outputs": [
    {
     "data": {
      "text/html": [
       "<div>\n",
       "<style scoped>\n",
       "    .dataframe tbody tr th:only-of-type {\n",
       "        vertical-align: middle;\n",
       "    }\n",
       "\n",
       "    .dataframe tbody tr th {\n",
       "        vertical-align: top;\n",
       "    }\n",
       "\n",
       "    .dataframe thead th {\n",
       "        text-align: right;\n",
       "    }\n",
       "</style>\n",
       "<table border=\"1\" class=\"dataframe\">\n",
       "  <thead>\n",
       "    <tr style=\"text-align: right;\">\n",
       "      <th></th>\n",
       "      <th>date</th>\n",
       "      <th>global_cases</th>\n",
       "      <th>report_url</th>\n",
       "    </tr>\n",
       "  </thead>\n",
       "  <tbody>\n",
       "    <tr>\n",
       "      <th>0</th>\n",
       "      <td>2020-01-27</td>\n",
       "      <td>2798</td>\n",
       "      <td>https://www.who.int/docs/default-source/corona...</td>\n",
       "    </tr>\n",
       "    <tr>\n",
       "      <th>1</th>\n",
       "      <td>2020-01-28</td>\n",
       "      <td>4593</td>\n",
       "      <td>https://www.who.int/docs/default-source/corona...</td>\n",
       "    </tr>\n",
       "    <tr>\n",
       "      <th>2</th>\n",
       "      <td>2020-01-29</td>\n",
       "      <td>6065</td>\n",
       "      <td>https://www.who.int/docs/default-source/corona...</td>\n",
       "    </tr>\n",
       "    <tr>\n",
       "      <th>3</th>\n",
       "      <td>2020-01-30</td>\n",
       "      <td>7818</td>\n",
       "      <td>https://www.who.int/docs/default-source/corona...</td>\n",
       "    </tr>\n",
       "    <tr>\n",
       "      <th>4</th>\n",
       "      <td>2020-01-31</td>\n",
       "      <td>9826</td>\n",
       "      <td>https://www.who.int/docs/default-source/corona...</td>\n",
       "    </tr>\n",
       "    <tr>\n",
       "      <th>5</th>\n",
       "      <td>2020-02-01</td>\n",
       "      <td>11953</td>\n",
       "      <td>https://www.who.int/docs/default-source/corona...</td>\n",
       "    </tr>\n",
       "    <tr>\n",
       "      <th>6</th>\n",
       "      <td>2020-02-02</td>\n",
       "      <td>14557</td>\n",
       "      <td>https://www.who.int/docs/default-source/corona...</td>\n",
       "    </tr>\n",
       "    <tr>\n",
       "      <th>7</th>\n",
       "      <td>2020-02-03</td>\n",
       "      <td>17391</td>\n",
       "      <td>https://www.who.int/docs/default-source/corona...</td>\n",
       "    </tr>\n",
       "    <tr>\n",
       "      <th>8</th>\n",
       "      <td>2020-02-04</td>\n",
       "      <td>20630</td>\n",
       "      <td>https://www.who.int/docs/default-source/corona...</td>\n",
       "    </tr>\n",
       "    <tr>\n",
       "      <th>9</th>\n",
       "      <td>2020-02-05</td>\n",
       "      <td>24554</td>\n",
       "      <td>https://www.who.int/docs/default-source/corona...</td>\n",
       "    </tr>\n",
       "    <tr>\n",
       "      <th>10</th>\n",
       "      <td>2020-02-06</td>\n",
       "      <td>28276</td>\n",
       "      <td>https://www.who.int/docs/default-source/corona...</td>\n",
       "    </tr>\n",
       "    <tr>\n",
       "      <th>11</th>\n",
       "      <td>2020-02-07</td>\n",
       "      <td>31481</td>\n",
       "      <td>https://www.who.int/docs/default-source/corona...</td>\n",
       "    </tr>\n",
       "    <tr>\n",
       "      <th>12</th>\n",
       "      <td>2020-02-08</td>\n",
       "      <td>34886</td>\n",
       "      <td>https://www.who.int/docs/default-source/corona...</td>\n",
       "    </tr>\n",
       "    <tr>\n",
       "      <th>13</th>\n",
       "      <td>2020-02-09</td>\n",
       "      <td>37558</td>\n",
       "      <td>https://www.who.int/docs/default-source/corona...</td>\n",
       "    </tr>\n",
       "    <tr>\n",
       "      <th>14</th>\n",
       "      <td>2020-02-10</td>\n",
       "      <td>40554</td>\n",
       "      <td>https://www.who.int/docs/default-source/corona...</td>\n",
       "    </tr>\n",
       "    <tr>\n",
       "      <th>15</th>\n",
       "      <td>2020-02-11</td>\n",
       "      <td>43103</td>\n",
       "      <td>https://www.who.int/docs/default-source/corona...</td>\n",
       "    </tr>\n",
       "    <tr>\n",
       "      <th>16</th>\n",
       "      <td>2020-02-12</td>\n",
       "      <td>45171</td>\n",
       "      <td>https://www.who.int/docs/default-source/corona...</td>\n",
       "    </tr>\n",
       "    <tr>\n",
       "      <th>17</th>\n",
       "      <td>2020-02-13</td>\n",
       "      <td>46997</td>\n",
       "      <td>https://www.who.int/docs/default-source/corona...</td>\n",
       "    </tr>\n",
       "  </tbody>\n",
       "</table>\n",
       "</div>"
      ],
      "text/plain": [
       "          date  global_cases  \\\n",
       "0   2020-01-27          2798   \n",
       "1   2020-01-28          4593   \n",
       "2   2020-01-29          6065   \n",
       "3   2020-01-30          7818   \n",
       "4   2020-01-31          9826   \n",
       "5   2020-02-01         11953   \n",
       "6   2020-02-02         14557   \n",
       "7   2020-02-03         17391   \n",
       "8   2020-02-04         20630   \n",
       "9   2020-02-05         24554   \n",
       "10  2020-02-06         28276   \n",
       "11  2020-02-07         31481   \n",
       "12  2020-02-08         34886   \n",
       "13  2020-02-09         37558   \n",
       "14  2020-02-10         40554   \n",
       "15  2020-02-11         43103   \n",
       "16  2020-02-12         45171   \n",
       "17  2020-02-13         46997   \n",
       "\n",
       "                                           report_url  \n",
       "0   https://www.who.int/docs/default-source/corona...  \n",
       "1   https://www.who.int/docs/default-source/corona...  \n",
       "2   https://www.who.int/docs/default-source/corona...  \n",
       "3   https://www.who.int/docs/default-source/corona...  \n",
       "4   https://www.who.int/docs/default-source/corona...  \n",
       "5   https://www.who.int/docs/default-source/corona...  \n",
       "6   https://www.who.int/docs/default-source/corona...  \n",
       "7   https://www.who.int/docs/default-source/corona...  \n",
       "8   https://www.who.int/docs/default-source/corona...  \n",
       "9   https://www.who.int/docs/default-source/corona...  \n",
       "10  https://www.who.int/docs/default-source/corona...  \n",
       "11  https://www.who.int/docs/default-source/corona...  \n",
       "12  https://www.who.int/docs/default-source/corona...  \n",
       "13  https://www.who.int/docs/default-source/corona...  \n",
       "14  https://www.who.int/docs/default-source/corona...  \n",
       "15  https://www.who.int/docs/default-source/corona...  \n",
       "16  https://www.who.int/docs/default-source/corona...  \n",
       "17  https://www.who.int/docs/default-source/corona...  "
      ]
     },
     "execution_count": 8,
     "metadata": {},
     "output_type": "execute_result"
    }
   ],
   "source": [
    "df"
   ]
  },
  {
   "cell_type": "markdown",
   "metadata": {},
   "source": [
    "### Plot graph and save to files"
   ]
  },
  {
   "cell_type": "code",
   "execution_count": 9,
   "metadata": {},
   "outputs": [],
   "source": [
    "import seaborn as sns\n",
    "from pathlib import Path"
   ]
  },
  {
   "cell_type": "code",
   "execution_count": 10,
   "metadata": {},
   "outputs": [],
   "source": [
    "df.sort_values(by=['date'], inplace=True)"
   ]
  },
  {
   "cell_type": "code",
   "execution_count": 11,
   "metadata": {},
   "outputs": [
    {
     "data": {
      "image/png": "[encoded data removed]",
      "text/plain": [
       "<Figure size 1152x612 with 1 Axes>"
      ]
     },
     "metadata": {},
     "output_type": "display_data"
    }
   ],
   "source": [
    "sns.set(rc={'figure.figsize':(16,8.5)})\n",
    "\n",
    "bar_chart = sns.barplot(x='date', y='global_cases', data=df)\n",
    "bar_chart.tick_params(axis='x', labelrotation=70)\n"
   ]
  },
  {
   "cell_type": "code",
   "execution_count": 12,
   "metadata": {},
   "outputs": [],
   "source": [
    "bar_chart_fig = bar_chart.get_figure()\n"
   ]
  },
  {
   "cell_type": "code",
   "execution_count": 13,
   "metadata": {},
   "outputs": [],
   "source": [
    "df.to_csv(csv_file, index=False)\n",
    "bar_chart_fig.savefig(png_file)\n"
   ]
  },
  {
   "cell_type": "code",
   "execution_count": null,
   "metadata": {},
   "outputs": [],
   "source": []
  }
 ],
 "metadata": {
  "kernelspec": {
   "display_name": "Python 3",
   "language": "python",
   "name": "python3"
  },
  "language_info": {
   "codemirror_mode": {
    "name": "ipython",
    "version": 3
   },
   "file_extension": ".py",
   "mimetype": "text/x-python",
   "name": "python",
   "nbconvert_exporter": "python",
   "pygments_lexer": "ipython3",
   "version": "3.7.6"
  }
 },
 "nbformat": 4,
 "nbformat_minor": 2
}
