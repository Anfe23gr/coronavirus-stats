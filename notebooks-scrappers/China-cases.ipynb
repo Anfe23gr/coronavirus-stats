{
 "cells": [
  {
   "cell_type": "code",
   "execution_count": 1,
   "metadata": {},
   "outputs": [],
   "source": [
    "import pandas as pd\n",
    "import requests\n",
    "from bs4 import BeautifulSoup\n",
    "import re\n",
    "from datetime import datetime\n",
    "from selenium import webdriver\n",
    "from selenium.webdriver.chrome.options import Options  \n"
   ]
  },
  {
   "cell_type": "code",
   "execution_count": 2,
   "metadata": {},
   "outputs": [
    {
     "data": {
      "text/plain": [
       "datetime.datetime(2020, 3, 25, 8, 7, 33, 877889)"
      ]
     },
     "execution_count": 2,
     "metadata": {},
     "output_type": "execute_result"
    }
   ],
   "source": [
    "datetime.now()"
   ]
  },
  {
   "cell_type": "code",
   "execution_count": 3,
   "metadata": {},
   "outputs": [],
   "source": [
    "chrome_options = Options()  \n",
    "chrome_options.add_argument(\"--headless\")  \n",
    "chrome_options.add_argument(\"--no-sandbox\")\n",
    "\n",
    "driver = webdriver.Chrome('chromedriver', options=chrome_options)"
   ]
  },
  {
   "cell_type": "code",
   "execution_count": 4,
   "metadata": {},
   "outputs": [],
   "source": [
    "url = 'https://ncov.dxy.cn/ncovh5/view/pneumonia'\n",
    "driver.get(url)"
   ]
  },
  {
   "cell_type": "markdown",
   "metadata": {},
   "source": [
    "### Extract date"
   ]
  },
  {
   "cell_type": "code",
   "execution_count": 5,
   "metadata": {},
   "outputs": [],
   "source": [
    "content = driver.page_source\n",
    "soup =BeautifulSoup(content, 'lxml')\n"
   ]
  },
  {
   "cell_type": "code",
   "execution_count": 6,
   "metadata": {},
   "outputs": [
    {
     "data": {
      "text/plain": [
       "['try { window.getTimelineService1 = [{\"id\":14891,\"pubDate\":1585123020000,\"pubDateStr\":\"9分钟前\",\"title\":\"境外回国飞机上应戴N95口罩\",\"summary\":\"25日，广州市疾控中心副主任张周斌介绍，目前因国外疫情不断发展，归国途中感染风险不断增加。如果在国外有独立住所，充足生活物资，实际上没必要冒险回到国内。\",\"infoSource\":\"人民日报\",\"sourceUrl\":\"http://m.weibo.cn/2803301701/4486393475068432\",\"provinceId\":\"\",\"infoType\":2,\"dataInfoState\":0,\"dataInfoOperator\":\"\",\"dataInfoTime\":1585123459000},{\"id\":14882,\"pubDate\":1585122300000,\"pubDateStr\":\"21分钟前\",\"title\":\"央视体育快评：先赢疫情防控战 再迎完美奥运会\",\"summary\":\"北京时间3月24日晚，国际奥委会和东京奥组委发表联合声明，宣布东京第32届奥运会将延期至不迟于2021年夏天举办，东京2020年奥运会和残奥会名称不变。\",\"infoSource\":\"央视新闻app\",\"sourceUrl\":\"http://app.cctv.com/special/cportal/detail/arti/index.html?id=ArtiXHYz2EsLxEHLakdJedff200325&isfromapp=1\",\"provinceId\":\"\",\"infoType\":2,\"dataInfoState\":0,\"dataInfoOperator\":\"\",\"dataInfoTime\":1585122622000},{\"id\":14888,\"pubDate\":1585122003000,\"pubDateStr\":\"26分钟前\",\"title\":\"俄罗斯准备好帮助美国抗\",\"summary\":\"俄罗斯驻美国大使阿纳托利·安东诺夫日前表示，如果有必要，莫斯科准备帮助华盛顿抗击新冠肺炎疫情。\",\"infoSource\":\"人民日报海外版\",\"sourceUrl\":\"http://m.weibo.cn/3057540037/4486389208673279\",\"provinceId\":\"\",\"infoType\":2,\"dataInfoState\":0,\"dataInfoOperator\":\"\",\"dataInfoTime\":1585122977000},{\"id\":14879,\"pubDate\":1585121700000,\"pubDateStr\":\"31分钟前\",\"title\":\"哈专家：中国为世界疫情防控作出巨大牺牲 组织性、纪律性、团结精神是防疫关键\",\"summary\":\"25日，哈萨克斯坦中国问题研究中心专家卡吾肯诺娃在介绍采访时表示，2020年对全人类都是艰难的一年，全世界都在遭受新冠病毒的威胁。中国在疫情发生后，通过果断措施控制病毒蔓延，全国人民作出牺牲，我们必须感激中国。我还要祝贺中国找到应对疫情的方法，中国的康复人数的不断攀升以及本土新增归零都说明了他们的防控措施效果非常好。中国人民的纪律性、组织性、团结精神在此次抗疫过程中得到显现，病毒传播大幅度减少。\",\"infoSource\":\"央视新闻app\",\"sourceUrl\":\"http://app.cctv.com/special/cportal/detail/arti/index.html?id=ArtiwtEmr3955yRTACmbeS14200325&isfromapp=1\",\"provinceId\":\"\",\"infoType\":2,\"dataInfoState\":0,\"dataInfoOperator\":\"\",\"dataInfoTime\":1585122030000},{\"id\":14880,\"pubDate\":1585121697000,\"pubDateStr\":\"31分钟前\",\"title\":\"直播预告：25日晚七点 中国驻英大使刘晓明将与在英留学生代表在线交流\",\"summary\":\"全球疫情持续升级，截至月24日，英国新冠肺炎确诊患者达1427例，英国正式宣布将在伦敦建立一座方舱医院。英国政府“逐步升级防控”的管控措施起作用了吗？使馆会如何帮助在英留学生？回国的同学还能获得签证返回英国完成学业吗？北京时间3月25日19时（伦敦时间25日11时），驻英国大使刘晓明做客央视新闻直播间，在线与在英留学生代表交流。\",\"infoSource\":\"央视新闻app\",\"sourceUrl\":\"http://app.cctv.com/special/cportal/detail/arti/index.html?id=ArtiRLGgXP9cgFOG4TM7Vul0200325&isfromapp=1\",\"provinceId\":\"\",\"infoType\":2,\"dataInfoState\":0,\"dataInfoOperator\":\"\",\"dataInfoTime\":1585122030000},{\"id\":14873,\"pubDate\":1585121204000,\"pubDateStr\":\"39分钟前\",\"title\":\"阿曼新增15例新冠肺炎确诊病例 累计确诊99例\",\"summary\":\"据阿曼官方通讯社报道，当地时间3月25日，阿曼卫生部发表声明确认该国新增15例新冠肺炎确诊病例，其中7例与之前确诊的患者接触而感染，另外7例与英国、西班牙和美国旅行有关，剩余1例感染源仍在调查中。\",\"infoSource\":\"央视新闻app\",\"sourceUrl\":\"http://app.cctv.com/special/cportal/detail/arti/index.html?id=Arti0FLURRtyrm75fZTEh04v200325&isfromapp=1\",\"provinceId\":\"\",\"infoType\":2,\"dataInfoState\":0,\"dataInfoOperator\":\"\",\"dataInfoTime\":1585121447000},{\"id\":14875,\"pubDate\":1585120981000,\"pubDateStr\":\"43分钟前\",\"title\":\"新冠肺炎疫情防控：多国继续严控人员聚集流动\",\"summary\":\"面对新冠肺炎疫情，多国近日继续加强疫情防控措施，包括继续限制人员聚集、流动和严防境外输入病例等。\",\"infoSource\":\"央视新闻app\",\"sourceUrl\":\"http://app.cctv.com/special/cportal/detail/arti/index.html?id=ArtijRqllFh3RYLDBhWI7Kzm200325&isfromapp=1\",\"provinceId\":\"\",\"infoType\":2,\"dataInfoState\":0,\"dataInfoOperator\":\"\",\"dataInfoTime\":1585121447000},{\"id\":14876,\"pubDate\":1585120980000,\"pubDateStr\":\"43分钟前\",\"title\":\"乌克兰新增16例新冠肺炎确诊病例 累计确诊113例\",\"summary\":\"乌通社援引乌克兰紧急情况部发布数据称，截至当地时间25日7时，乌克兰新增新冠肺炎确诊病例16例，累计确诊病例113例。\",\"infoSource\":\"央视新闻app\",\"sourceUrl\":\"http://app.cctv.com/special/cportal/detail/arti/index.html?id=ArtiGmL0R5wPFUOtmCBnLfQa200325&isfromapp=1\",\"provinceId\":\"\",\"infoType\":1,\"dataInfoState\":0,\"dataInfoOperator\":\"\",\"dataInfoTime\":1585121447000},{\"id\":14872,\"pubDate\":1585120771000,\"pubDateStr\":\"46分钟前\",\"title\":\"钟南山向欧洲国家分享经验\",\"summary\":\"今天下午，中欧抗疫交流会举行，中国、德国、英国、意大利、罗马尼亚介绍各国疫情。钟南山院士等多位中国专家介绍病人诊疗及医护人员防护情况，分享中国经验。\",\"infoSource\":\"央视新闻\",\"sourceUrl\":\"http://m.weibo.cn/2656274875/4486384041132056\",\"provinceId\":\"\",\"infoType\":2,\"dataInfoState\":0,\"dataInfoOperator\":\"\",\"dataInfoTime\":1585121177000},{\"id\":14869,\"pubDate\":1585120722000,\"pubDateStr\":\"47分钟前\",\"title\":\"中国赴意大利抗疫医疗专家组访问摩德纳\",\"summary\":\"当地时间24日，中国赴意大利抗疫医疗专家组前往该国北部城市摩德纳，访问收治新冠肺炎病人的医院，并与华人华侨见面。\",\"infoSource\":\"央视新闻app\",\"sourceUrl\":\"http://app.cctv.com/special/cportal/detail/arti/index.html?id=ArtiMGlrlLvDiEJNUGkNnAg8200325&isfromapp=1\",\"provinceId\":\"\",\"infoType\":2,\"dataInfoState\":0,\"dataInfoOperator\":\"\",\"dataInfoTime\":1585121133000},{\"id\":14871,\"pubDate\":1585120620000,\"pubDateStr\":\"49分钟前\",\"title\":\"山东3月25日最新通报：无新增境外输入新冠肺炎确诊病例 累计报告境外输入病例10例\",\"summary\":\"2020年3月25日0—12时，山东省无本地住院疑似病例、确诊病例。累计报告确诊病例759例，死亡病例7例，治愈出院752例。2020年3月25日0—12时，山东省无新增境外输入疑似病例、确诊病例。累计报告境外输入确诊病例10例，均在定点医院隔离治疗。目前共追踪到密切接触者19305人（含境外输入病例密切接触者），尚有1708人正在接受医学观察。\",\"infoSource\":\"央视新闻app\",\"sourceUrl\":\"http://app.cctv.com/special/cportal/detail/arti/index.html?id=Artiw9uMKHjMxrCvsrwMyTJi200325&isfromapp=1\",\"provinceId\":\"\",\"infoType\":2,\"dataInfoState\":0,\"dataInfoOperator\":\"\",\"dataInfoTime\":1585121133000},{\"id\":14868,\"pubDate\":1585120560000,\"pubDateStr\":\"50分钟前\",\"title\":\"新加坡：20万海外新加坡人回国 未来几周将出现更多新冠肺炎确诊病例\",\"summary\":\"新加坡卫生部长颜金勇今天（25日）在国会发言时指出，随着20万海外新加坡人陆续返回，新加坡在未来几周将出现更多感染新冠肺炎病例。为了应对新冠肺炎疫情，新加坡病源追查小组的数量从3个提高到20个，每天能追踪4000名密切接触者的行动轨迹。\",\"infoSource\":\"央视新闻app\",\"sourceUrl\":\"http://app.cctv.com/special/cportal/detail/arti/index.html?id=Arti3gCyV1v0FW3hXgHeYzZa200325&isfromapp=1\",\"provinceId\":\"\",\"infoType\":2,\"dataInfoState\":0,\"dataInfoOperator\":\"\",\"dataInfoTime\":1585120857000},{\"id\":14866,\"pubDate\":1585120553000,\"pubDateStr\":\"50分钟前\",\"title\":\"塞尔维亚在中国专家建议下建方舱医院\",\"summary\":\"24日，在塞尔维亚首都贝尔格莱德，士兵和工作人员为方舱医院组装病床。在中国专家组建议下，塞尔维亚开始把首都贝尔格莱德会展中心改建为一座方舱医院，用于收治新冠肺炎患者。塞尔维亚国防部成员、士兵、志愿者等当天在会展中心设立约3000张床位。\",\"infoSource\":\"人民日报\",\"sourceUrl\":\"http://m.weibo.cn/2803301701/4486383127025051\",\"provinceId\":\"\",\"infoType\":2,\"dataInfoState\":0,\"dataInfoOperator\":\"\",\"dataInfoTime\":1585120702000},{\"id\":14863,\"pubDate\":1585120367000,\"pubDateStr\":\"53分钟前\",\"title\":\"山东省卫生健康委员会\",\"summary\":\"      2020年3月25日0-12时，山东省无本地住院疑似病例、确诊病例。累计报告确诊病例759例，死亡病例7例，治愈出院752例。2020年3月25日0-12时，山东省无新增境外输入疑似病例、确诊病例。累计报告境外输入确诊病例10例，均在定点医院隔离治疗。目前共追踪到密切接触者19305人(含境外输入病例密切接触者)，尚有1708人正在接受医学观察。详见下表(单位:例):备注:山东省本地病例按确诊时医院所在县区统计，境外输入病例单独统计。\\\\n          \",\"infoSource\":\"山东卫健委\",\"sourceUrl\":\"http://wsjkw.shandong.gov.cn/ztzl/rdzt/qlzhfkgz/tzgg/202003/t20200325_3056719.html\",\"provinceId\":\"\",\"infoType\":2,\"dataInfoState\":0,\"dataInfoOperator\":\"\",\"dataInfoTime\":1585120367000},{\"id\":14864,\"pubDate\":1585120212000,\"pubDateStr\":\"56分钟前\",\"title\":\"中国科大附一院专家今赴意大利 协助当地开展新冠肺炎疫情防控\",\"summary\":\"安徽省新冠肺炎医疗救治专家组组长、中国科大附一院副院长、呼吸与危重症医学科专家徐晓玲教授作为中国政府第三批赴意大利抗疫医疗专家组顾问，从福建福州飞赴意大利支援该国新冠肺炎疫情防控。\",\"infoSource\":\"央视新闻app\",\"sourceUrl\":\"http://app.cctv.com/special/cportal/detail/arti/index.html?id=Arti0xJDVXM1c13PQGekXH7K200325&isfromapp=1\",\"provinceId\":\"\",\"infoType\":2,\"dataInfoState\":0,\"dataInfoOperator\":\"\",\"dataInfoTime\":1585120530000},{\"id\":14861,\"pubDate\":1585119633000,\"pubDateStr\":\"1小时前\",\"title\":\"国务院举行联防联控机制发布会\",\"summary\":\"今天，国务院联防联控机制召开新闻发布会，介绍新一代信息技术助力疫情防控、复工复产和中小企业发展有关情况，工信部相司局负责人回答媒体提问。\",\"infoSource\":\"央视新闻\",\"sourceUrl\":\"http://m.weibo.cn/2656274875/4486379273055556\",\"provinceId\":\"\",\"infoType\":2,\"dataInfoState\":0,\"dataInfoOperator\":\"\",\"dataInfoTime\":1585119859000},{\"id\":14862,\"pubDate\":1585119605000,\"pubDateStr\":\"1小时前\",\"title\":\"法国：无人机喊话劝告民众不要出门\",\"summary\":\"法国面对新冠肺炎疫情，多地出现无人机飞越城市和海滩，警方采取无人机喊话劝告民众不要出门，游客也必须遵守当地禁令，禁止外出。\",\"infoSource\":\"人民日报海外版\",\"sourceUrl\":\"http://m.weibo.cn/3057540037/4486379151436641\",\"provinceId\":\"\",\"infoType\":2,\"dataInfoState\":0,\"dataInfoOperator\":\"\",\"dataInfoTime\":1585120228000},{\"id\":14855,\"pubDate\":1585118852000,\"pubDateStr\":\"1小时前\",\"title\":\"拉美战“疫”进行时：宵禁、停课、限制入境……\",\"summary\":\"拉美地区新冠肺炎确诊病例继续快速增长，确诊病例数已接近7千例。多个国家采取了包括宵禁、停课、关闭公共场所、限制入境、加大检测力度等在内的防控措施。\\\\n\",\"infoSource\":\"央视新闻app\",\"sourceUrl\":\"http://app.cctv.com/special/cportal/detail/arti/index.html?id=Artir0p46yKeLfA8mLoYtpSn200325&isfromapp=1\",\"provinceId\":\"\",\"infoType\":2,\"dataInfoState\":0,\"dataInfoOperator\":\"\",\"dataInfoTime\":1585119323000},{\"id\":14856,\"pubDate\":1585118820000,\"pubDateStr\":\"1小时前\",\"title\":\"南非新冠肺炎患者达到709人\",\"summary\":\"南非当地时间3月25日8时，南非卫生部部长表示南非新增新冠肺炎患者155人，目前新冠肺炎患者人数达到709人。\",\"infoSource\":\"央视新闻app\",\"sourceUrl\":\"http://app.cctv.com/special/cportal/detail/arti/index.html?id=ArtidzBA9TD5cgao5Iv3ZWE6200325&isfromapp=1\",\"provinceId\":\"\",\"infoType\":1,\"dataInfoState\":0,\"dataInfoOperator\":\"\",\"dataInfoTime\":1585119323000},{\"id\":14857,\"pubDate\":1585118793000,\"pubDateStr\":\"1小时前\",\"title\":\"湖北省129家A级景区有序恢复开放\",\"summary\":\"在做好疫情防控的基础上，湖北境内疫情低风险地区的景区逐步恢复开放。截至昨天（3月24日）中午，湖北省129家A级景区有序恢复开放。\",\"infoSource\":\"央视新闻app\",\"sourceUrl\":\"http://app.cctv.com/special/cportal/detail/arti/index.html?id=ArtikIv6lxdfbgghHqhxsAST200325&isfromapp=1\",\"provinceId\":\"\",\"infoType\":2,\"dataInfoState\":0,\"dataInfoOperator\":\"\",\"dataInfoTime\":1585119323000},{\"id\":14848,\"pubDate\":1585118138000,\"pubDateStr\":\"1小时前\",\"title\":\"新加坡和马来西亚两国将发热监测标准设定为高于37.5℃\",\"summary\":\"新加坡、马来西亚应对新冠肺炎疫情联合工作组举行第二次会议。在会议中，两国同意将各自边境检查站的发热标准制定为体温高于37.5℃。\",\"infoSource\":\"央视新闻app\",\"sourceUrl\":\"http://app.cctv.com/special/cportal/detail/arti/index.html?id=ArtiMa0tdlLbxTHXFkOzpuSh200325&isfromapp=1\",\"provinceId\":\"\",\"infoType\":2,\"dataInfoState\":0,\"dataInfoOperator\":\"\",\"dataInfoTime\":1585118446000}]}catch(e){}',\n",
       " '截至北京时间 2020-03-25 08:01',\n",
       " '截至北京时间 2020-03-25 08:01',\n",
       " '全球疫情持续升级，截至月24日，英国新冠肺炎确诊患者达1427例，英国正式宣布将在伦敦建立一座方舱医院。英国政府“逐步升级防控”的管控措施起作用了吗？使馆会如何帮助在英留学生？回国的同学还能获得签证返回英国完成学业吗？北京时间3月25日19时（伦敦时间25日11时），驻英国大使刘晓明做客央视新闻直播间，在线与在英留学生代表交流。',\n",
       " '乌通社援引乌克兰紧急情况部发布数据称，截至当地时间25日7时，乌克兰新增新冠肺炎确诊病例16例，累计确诊病例113例。',\n",
       " '在做好疫情防控的基础上，湖北境内疫情低风险地区的景区逐步恢复开放。截至昨天（3月24日）中午，湖北省129家A级景区有序恢复开放。']"
      ]
     },
     "execution_count": 6,
     "metadata": {},
     "output_type": "execute_result"
    }
   ],
   "source": [
    "data = soup.findAll(text=re.compile(\"截至.+\"))\n",
    "data"
   ]
  },
  {
   "cell_type": "code",
   "execution_count": 7,
   "metadata": {},
   "outputs": [
    {
     "data": {
      "text/plain": [
       "'2020-03-25 08:01'"
      ]
     },
     "execution_count": 7,
     "metadata": {},
     "output_type": "execute_result"
    }
   ],
   "source": [
    "for s in data:\n",
    "    m = re.search(\"截至.*(202\\d-\\d+-\\d+ \\d+:\\d+)\", s)\n",
    "    if m is not None:\n",
    "        data_date_time = m.group(1)\n",
    "data_date_time"
   ]
  },
  {
   "cell_type": "markdown",
   "metadata": {},
   "source": [
    "### Extract data (summary)"
   ]
  },
  {
   "cell_type": "code",
   "execution_count": 8,
   "metadata": {},
   "outputs": [
    {
     "data": {
      "text/plain": [
       "['try { window.getStatisticsService = {\"id\":1,\"createTime\":1579537899000,\"modifyTime\":1585123311000,\"infectSource\":\"该字段已替换为说明2\",\"passWay\":\"该字段已替换为说明3\",\"imgUrl\":\"https://img1.dxycdn.com/2020/0201/450/3394153392393266839-135.png\",\"dailyPic\":\"https://img1.dxycdn.com/2020/0211/763/3395998884005602079-135.png,https://img1.dxycdn.com/2020/0211/362/3395998896890788910-135.png,https://img1.dxycdn.com/2020/0211/365/3395998905480724211-135.png,https://img1.dxycdn.com/2020/0211/364/3395998916217859778-135.png,https://img1.dxycdn.com/2020/0211/922/3395998929103046444-135.png,https://img1.dxycdn.com/2020/0211/089/3395998939840182072-135.png\",\"dailyPics\":[\"https://img1.dxycdn.com/2020/0211/763/3395998884005602079-135.png\",\"https://img1.dxycdn.com/2020/0211/362/3395998896890788910-135.png\",\"https://img1.dxycdn.com/2020/0211/365/3395998905480724211-135.png\",\"https://img1.dxycdn.com/2020/0211/364/3395998916217859778-135.png\",\"https://img1.dxycdn.com/2020/0211/922/3395998929103046444-135.png\",\"https://img1.dxycdn.com/2020/0211/089/3395998939840182072-135.png\"],\"summary\":\"\",\"deleted\":false,\"countRemark\":\"\",\"currentConfirmedCount\":4792,\"confirmedCount\":81872,\"suspectedCount\":474,\"curedCount\":73793,\"deadCount\":3287,\"seriousCount\":1399,\"suspectedIncr\":47,\"currentConfirmedIncr\":-373,\"confirmedIncr\":125,\"curedIncr\":494,\"deadIncr\":4,\"seriousIncr\":-174,\"virus\":\"该字段已替换为说明1\",\"remark1\":\"易感人群：人群普遍易感。老年人及有基础疾病者感染后病情较重，儿童及婴幼儿也有发病\",\"remark2\":\"潜伏期：一般为 3～7 天，最长不超过 14 天，潜伏期内可能存在传染性，其中无症状病例传染性非常罕见\",\"remark3\":\"宿主：野生动物，可能为中华菊头蝠\",\"remark4\":\"\",\"remark5\":\"\",\"note1\":\"病毒：SARS-CoV-2，其导致疾病命名 COVID-19\",\"note2\":\"传染源：新冠肺炎的患者。无症状感染者也可能成为传染源。\",\"note3\":\"传播途径：经呼吸道飞沫、接触传播是主要的传播途径。气溶胶传播和消化道等传播途径尚待明确。\",\"generalRemark\":\"1. 3 月 12 日国家卫健委确诊补订遗漏 12 例确诊病例（非 12 日新增），暂无具体省份信息。 2. 浙江省 12 例外省治愈暂无具体省份信息。\",\"abroadRemark\":\"\",\"marquee\":[{\"id\":1725,\"marqueeLabel\":\"拉动内需\",\"marqueeContent\":\"浙江等多地鼓励每周休息 2.5 天\",\"marqueeLink\":\"https://dxy.me/YIjDkN\"},{\"id\":1726,\"marqueeLabel\":\"武汉\",\"marqueeContent\":\"新增 1 例确诊是省人民医院医生\",\"marqueeLink\":\"https://dxy.me/yYvwND\"},{\"id\":1727,\"marqueeLabel\":\"美国\",\"marqueeContent\":\"疫情蔓延，哈佛大学校长夫妇确诊新冠\",\"marqueeLink\":\"https://dxy.me/Ptgr0x\"}],\"quanguoTrendChart\":[{\"imgUrl\":\"https://img1.dxycdn.com/2020/0324/278/3403801351376518263-135.png\",\"title\":\"新增疑似/新增确诊\"},{\"imgUrl\":\"https://img1.dxycdn.com/2020/0324/812/3403847865872006755-135.png\",\"title\":\"境外输入\"},{\"imgUrl\":\"https://img1.dxycdn.com/2020/0324/547/3403847848692336947-135.png\",\"title\":\"现存确诊\"},{\"imgUrl\":\"https://img1.dxycdn.com/2020/0324/775/3403801407211095604-135.png\",\"title\":\"治愈\"},{\"imgUrl\":\"https://img1.dxycdn.com/2020/0324/250/3403801424390727199-135.png\",\"title\":\"死亡\"}],\"hbFeiHbTrendChart\":[{\"imgUrl\":\"https://img1.dxycdn.com/2020/0325/741/3403976603221840149-135.png\",\"title\":\"非湖北新增确诊\"},{\"imgUrl\":\"https://img1.dxycdn.com/2020/0325/960/3403975761408398645-135.png\",\"title\":\"湖北新增确诊\"},{\"imgUrl\":\"https://img1.dxycdn.com/2020/0325/018/3403975785030543028-135.png\",\"title\":\"湖北现存确诊\"},{\"imgUrl\":\"https://img1.dxycdn.com/2020/0325/656/3403975810800347601-135.png\",\"title\":\"非湖北现存确诊\"},{\"imgUrl\":\"https://img1.dxycdn.com/2020/0325/340/3403975838717812269-135.png\",\"title\":\"治愈/死亡\"}],\"foreignTrendChart\":[{\"imgUrl\":\"https://img1.dxycdn.com/2020/0320/702/3403079914982117944-135.png\",\"title\":\"国外新增确诊\"},{\"imgUrl\":\"https://img1.dxycdn.com/2020/0320/396/3403079925719536561-135.png\",\"title\":\"国外累计确诊\"},{\"imgUrl\":\"https://img1.dxycdn.com/2020/0320/139/3403079936457225524-135.png\",\"title\":\"国外死亡\"}],\"importantForeignTrendChart\":[{\"imgUrl\":\"https://img1.dxycdn.com/2020/0320/450/3403077453965772423-135.png\",\"title\":\"重点国家新增确诊\"},{\"imgUrl\":\"https://img1.dxycdn.com/2020/0320/276/3403077462555980566-135.png\",\"title\":\"日本新增确诊\"},{\"imgUrl\":\"https://img1.dxycdn.com/2020/0320/340/3403077473293125942-135.png\",\"title\":\"意大利新增确诊\"},{\"imgUrl\":\"https://img1.dxycdn.com/2020/0320/723/3403077481883334043-135.png\",\"title\":\"伊朗新增确诊\"},{\"imgUrl\":\"https://img1.dxycdn.com/2020/0320/266/3403077492620752785-135.png\",\"title\":\"美国新增确诊\"},{\"imgUrl\":\"https://img1.dxycdn.com/2020/0320/870/3403077503358171278-135.png\",\"title\":\"法国新增确诊\"},{\"imgUrl\":\"https://img1.dxycdn.com/2020/0320/053/3403077511947832997-135.png\",\"title\":\"德国新增确诊\"},{\"imgUrl\":\"https://img1.dxycdn.com/2020/0320/878/3403077520537768006-135.png\",\"title\":\"西班牙新增确诊\"},{\"imgUrl\":\"https://img1.dxycdn.com/2020/0320/443/3403077531275186665-135.png\",\"title\":\"韩国新增确诊\"}],\"foreignTrendChartGlobal\":[{\"imgUrl\":\"https://img1.dxycdn.com/2020/0319/740/3402859458605738923-135.png\",\"title\":\"Daily New Cases\"},{\"imgUrl\":\"https://img1.dxycdn.com/2020/0319/351/3402856772103846114-135.png\",\"title\":\"Total Confirmed Cases\"},{\"imgUrl\":\"https://img1.dxycdn.com/2020/0319/236/3402856782841001789-135.png\",\"title\":\"Total Deaths Cases\"}],\"importantForeignTrendChartGlobal\":[{\"imgUrl\":\"https://img1.dxycdn.com/2020/0319/122/3402856838675578578-135.png\",\"title\":\"Daily New Cases\"},{\"imgUrl\":\"https://img1.dxycdn.com/2020/0319/685/3402856849412997239-135.png\",\"title\":\"Japan\"},{\"imgUrl\":\"https://img1.dxycdn.com/2020/0319/477/3402856860150678804-135.png\",\"title\":\"Italy\"},{\"imgUrl\":\"https://img1.dxycdn.com/2020/0319/454/3402856873035581014-135.png\",\"title\":\"Iran\"},{\"imgUrl\":\"https://img1.dxycdn.com/2020/0319/022/3402856883772999714-135.png\",\"title\":\"U.S.A.\"},{\"imgUrl\":\"https://img1.dxycdn.com/2020/0319/529/3402856894510155506-135.png\",\"title\":\"France\"},{\"imgUrl\":\"https://img1.dxycdn.com/2020/0319/211/3402856905247574064-135.png\",\"title\":\"Germany\"},{\"imgUrl\":\"https://img1.dxycdn.com/2020/0319/054/3402856913837508985-135.png\",\"title\":\"Spain\"},{\"imgUrl\":\"https://img1.dxycdn.com/2020/0319/088/3402856928870157852-135.png\",\"title\":\"Republic of Korea\"}],\"foreignStatistics\":{\"currentConfirmedCount\":288585,\"confirmedCount\":338606,\"suspectedCount\":4,\"curedCount\":34489,\"deadCount\":15532,\"suspectedIncr\":0,\"currentConfirmedIncr\":2293,\"confirmedIncr\":2640,\"curedIncr\":245,\"deadIncr\":102},\"globalStatistics\":{\"currentConfirmedCount\":293377,\"confirmedCount\":420478,\"curedCount\":108282,\"deadCount\":18819,\"currentConfirmedIncr\":1920,\"confirmedIncr\":2765,\"curedIncr\":739,\"deadIncr\":106},\"globalOtherTrendChartData\":\"https://file1.dxycdn.com/2020/0325/690/3403979839479981647-135.json\"}}catch(e){}']"
      ]
     },
     "execution_count": 8,
     "metadata": {},
     "output_type": "execute_result"
    }
   ],
   "source": [
    "data = soup.findAll(text=re.compile('\\\"summary.+\\\"confirmedCount\\\":\\d'))\n",
    "\n",
    "data\n"
   ]
  },
  {
   "cell_type": "code",
   "execution_count": 9,
   "metadata": {},
   "outputs": [],
   "source": [
    "m = re.search('\\\"confirmedCount\\\":(\\d+)', data[0])\n",
    "summary_confirmed_count = int(m.group(1))\n",
    "\n",
    "\n",
    "m = re.search('\\\"curedCount\\\":(\\d+)', data[0])\n",
    "summary_cured_count = int(m.group(1))\n",
    "\n",
    "m = re.search('\\\"deadCount\\\":(\\d+)', data[0])\n",
    "summary_dead_count = int(m.group(1))\n"
   ]
  },
  {
   "cell_type": "code",
   "execution_count": 10,
   "metadata": {},
   "outputs": [
    {
     "data": {
      "text/html": [
       "<div>\n",
       "<style scoped>\n",
       "    .dataframe tbody tr th:only-of-type {\n",
       "        vertical-align: middle;\n",
       "    }\n",
       "\n",
       "    .dataframe tbody tr th {\n",
       "        vertical-align: top;\n",
       "    }\n",
       "\n",
       "    .dataframe thead th {\n",
       "        text-align: right;\n",
       "    }\n",
       "</style>\n",
       "<table border=\"1\" class=\"dataframe\">\n",
       "  <thead>\n",
       "    <tr style=\"text-align: right;\">\n",
       "      <th></th>\n",
       "      <th>datetime</th>\n",
       "      <th>confirmed</th>\n",
       "      <th>cured</th>\n",
       "      <th>dead</th>\n",
       "    </tr>\n",
       "  </thead>\n",
       "  <tbody>\n",
       "    <tr>\n",
       "      <th>0</th>\n",
       "      <td>2020-03-25 08:01</td>\n",
       "      <td>81872</td>\n",
       "      <td>73793</td>\n",
       "      <td>3287</td>\n",
       "    </tr>\n",
       "  </tbody>\n",
       "</table>\n",
       "</div>"
      ],
      "text/plain": [
       "           datetime  confirmed  cured  dead\n",
       "0  2020-03-25 08:01      81872  73793  3287"
      ]
     },
     "execution_count": 10,
     "metadata": {},
     "output_type": "execute_result"
    }
   ],
   "source": [
    "# make a dataframe\n",
    "df = pd.DataFrame({\n",
    "    'datetime': data_date_time,\n",
    "    'confirmed': summary_confirmed_count,\n",
    "    'cured': summary_cured_count,\n",
    "    'dead': summary_dead_count\n",
    "}, index=[0])\n",
    "df"
   ]
  },
  {
   "cell_type": "markdown",
   "metadata": {},
   "source": [
    "### Save to file"
   ]
  },
  {
   "cell_type": "code",
   "execution_count": 11,
   "metadata": {},
   "outputs": [],
   "source": [
    "from pathlib import Path\n",
    "csv_file = '../data/china-summary-cases.csv'\n",
    "\n",
    "if Path(csv_file).exists():\n",
    "    # read out the old data - then merge with new data and remove duplicates based on datetime\n",
    "    old_df = pd.read_csv(csv_file)\n",
    "    df = df.append(old_df)\n",
    "df.drop_duplicates(subset=['datetime'], inplace=True)"
   ]
  },
  {
   "cell_type": "code",
   "execution_count": 12,
   "metadata": {},
   "outputs": [],
   "source": [
    "df.sort_values(by=['datetime'], inplace=True)\n",
    "\n",
    "df.to_csv(csv_file, index=False)\n"
   ]
  },
  {
   "cell_type": "markdown",
   "metadata": {},
   "source": [
    "### Plot graph"
   ]
  },
  {
   "cell_type": "code",
   "execution_count": 13,
   "metadata": {},
   "outputs": [],
   "source": [
    "import seaborn as sns\n",
    "import matplotlib.pyplot as plt\n",
    "from pandas.plotting import register_matplotlib_converters\n",
    "register_matplotlib_converters()\n",
    "\n",
    "png_file = '../images/china-summary-cases.png'\n",
    "# convert to pd.datetime\n",
    "df['datetime_idx'] = pd.to_datetime(df['datetime'], format=\"%Y-%m-%d %H:%M\")\n",
    "\n",
    "df.set_index('datetime_idx', inplace=True)\n",
    "df.drop(['datetime'], axis=1, inplace=True)\n"
   ]
  },
  {
   "cell_type": "code",
   "execution_count": 14,
   "metadata": {},
   "outputs": [
    {
     "data": {
      "text/html": [
       "<div>\n",
       "<style scoped>\n",
       "    .dataframe tbody tr th:only-of-type {\n",
       "        vertical-align: middle;\n",
       "    }\n",
       "\n",
       "    .dataframe tbody tr th {\n",
       "        vertical-align: top;\n",
       "    }\n",
       "\n",
       "    .dataframe thead th {\n",
       "        text-align: right;\n",
       "    }\n",
       "</style>\n",
       "<table border=\"1\" class=\"dataframe\">\n",
       "  <thead>\n",
       "    <tr style=\"text-align: right;\">\n",
       "      <th></th>\n",
       "      <th>confirmed</th>\n",
       "      <th>cured</th>\n",
       "      <th>dead</th>\n",
       "    </tr>\n",
       "    <tr>\n",
       "      <th>datetime_idx</th>\n",
       "      <th></th>\n",
       "      <th></th>\n",
       "      <th></th>\n",
       "    </tr>\n",
       "  </thead>\n",
       "  <tbody>\n",
       "    <tr>\n",
       "      <th>2020-02-02 10:22:00</th>\n",
       "      <td>14483</td>\n",
       "      <td>379</td>\n",
       "      <td>304</td>\n",
       "    </tr>\n",
       "    <tr>\n",
       "      <th>2020-02-02 10:28:00</th>\n",
       "      <td>14483</td>\n",
       "      <td>380</td>\n",
       "      <td>304</td>\n",
       "    </tr>\n",
       "    <tr>\n",
       "      <th>2020-02-02 11:19:00</th>\n",
       "      <td>14489</td>\n",
       "      <td>385</td>\n",
       "      <td>304</td>\n",
       "    </tr>\n",
       "    <tr>\n",
       "      <th>2020-02-02 11:54:00</th>\n",
       "      <td>14489</td>\n",
       "      <td>397</td>\n",
       "      <td>304</td>\n",
       "    </tr>\n",
       "    <tr>\n",
       "      <th>2020-02-02 15:01:00</th>\n",
       "      <td>14490</td>\n",
       "      <td>430</td>\n",
       "      <td>304</td>\n",
       "    </tr>\n",
       "    <tr>\n",
       "      <th>...</th>\n",
       "      <td>...</td>\n",
       "      <td>...</td>\n",
       "      <td>...</td>\n",
       "    </tr>\n",
       "    <tr>\n",
       "      <th>2020-03-25 02:42:00</th>\n",
       "      <td>81846</td>\n",
       "      <td>73791</td>\n",
       "      <td>3287</td>\n",
       "    </tr>\n",
       "    <tr>\n",
       "      <th>2020-03-25 03:50:00</th>\n",
       "      <td>81847</td>\n",
       "      <td>73791</td>\n",
       "      <td>3287</td>\n",
       "    </tr>\n",
       "    <tr>\n",
       "      <th>2020-03-25 05:27:00</th>\n",
       "      <td>81847</td>\n",
       "      <td>73791</td>\n",
       "      <td>3287</td>\n",
       "    </tr>\n",
       "    <tr>\n",
       "      <th>2020-03-25 06:23:00</th>\n",
       "      <td>81847</td>\n",
       "      <td>73791</td>\n",
       "      <td>3287</td>\n",
       "    </tr>\n",
       "    <tr>\n",
       "      <th>2020-03-25 08:01:00</th>\n",
       "      <td>81872</td>\n",
       "      <td>73793</td>\n",
       "      <td>3287</td>\n",
       "    </tr>\n",
       "  </tbody>\n",
       "</table>\n",
       "<p>791 rows × 3 columns</p>\n",
       "</div>"
      ],
      "text/plain": [
       "                     confirmed  cured  dead\n",
       "datetime_idx                               \n",
       "2020-02-02 10:22:00      14483    379   304\n",
       "2020-02-02 10:28:00      14483    380   304\n",
       "2020-02-02 11:19:00      14489    385   304\n",
       "2020-02-02 11:54:00      14489    397   304\n",
       "2020-02-02 15:01:00      14490    430   304\n",
       "...                        ...    ...   ...\n",
       "2020-03-25 02:42:00      81846  73791  3287\n",
       "2020-03-25 03:50:00      81847  73791  3287\n",
       "2020-03-25 05:27:00      81847  73791  3287\n",
       "2020-03-25 06:23:00      81847  73791  3287\n",
       "2020-03-25 08:01:00      81872  73793  3287\n",
       "\n",
       "[791 rows x 3 columns]"
      ]
     },
     "execution_count": 14,
     "metadata": {},
     "output_type": "execute_result"
    }
   ],
   "source": [
    "df"
   ]
  },
  {
   "cell_type": "code",
   "execution_count": 15,
   "metadata": {
    "scrolled": true
   },
   "outputs": [
    {
     "data": {
      "image/png": "[encoded data removed]",
      "text/plain": [
       "<Figure size 1008x1008 with 3 Axes>"
      ]
     },
     "metadata": {},
     "output_type": "display_data"
    }
   ],
   "source": [
    "if df.shape[0]>1:\n",
    "    # line chart when having at least a few points\n",
    "    sns.set(rc={'figure.figsize':(14,14)})\n",
    "    sns.set(style=\"whitegrid\")\n",
    "\n",
    "    fig, axs = plt.subplots(nrows=3)\n",
    "\n",
    "    sns.lineplot(x=df.index, y = 'confirmed', data=df, ax= axs[0], estimator=None, color='orange')\n",
    "    sns.lineplot(x=df.index, y = 'cured', data=df, ax= axs[1], estimator=None, color='green')\n",
    "    sns.lineplot(x=df.index, y = 'dead', data=df, ax= axs[2], estimator=None, color='darkred')\n",
    "\n",
    "    for ax in axs:\n",
    "        ax.set_xlabel('')\n",
    "        ax.tick_params(axis='x', labelrotation=30)\n",
    "else:\n",
    "\n",
    "    ax = df.plot(kind='bar', stacked=True, figsize=(9,6))\n",
    "    fig = ax.get_figure()\n",
    "    ax.set_xlabel('')\n",
    "    for label in ax.get_xticklabels():\n",
    "        label.set_rotation(0) \n"
   ]
  },
  {
   "cell_type": "code",
   "execution_count": 16,
   "metadata": {},
   "outputs": [],
   "source": [
    "fig.savefig(png_file)"
   ]
  },
  {
   "cell_type": "code",
   "execution_count": null,
   "metadata": {},
   "outputs": [],
   "source": []
  },
  {
   "cell_type": "code",
   "execution_count": null,
   "metadata": {},
   "outputs": [],
   "source": []
  }
 ],
 "metadata": {
  "kernelspec": {
   "display_name": "Python 3",
   "language": "python",
   "name": "python3"
  },
  "language_info": {
   "codemirror_mode": {
    "name": "ipython",
    "version": 3
   },
   "file_extension": ".py",
   "mimetype": "text/x-python",
   "name": "python",
   "nbconvert_exporter": "python",
   "pygments_lexer": "ipython3",
   "version": "3.7.6"
  }
 },
 "nbformat": 4,
 "nbformat_minor": 2
}
