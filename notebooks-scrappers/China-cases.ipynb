{
 "cells": [
  {
   "cell_type": "code",
   "execution_count": 1,
   "metadata": {},
   "outputs": [],
   "source": [
    "import pandas as pd\n",
    "import requests\n",
    "from bs4 import BeautifulSoup\n",
    "import re\n",
    "from datetime import datetime\n",
    "from selenium import webdriver\n",
    "from selenium.webdriver.chrome.options import Options  \n"
   ]
  },
  {
   "cell_type": "code",
   "execution_count": 2,
   "metadata": {},
   "outputs": [
    {
     "data": {
      "text/plain": [
       "datetime.datetime(2020, 3, 25, 6, 8, 11, 843975)"
      ]
     },
     "execution_count": 2,
     "metadata": {},
     "output_type": "execute_result"
    }
   ],
   "source": [
    "datetime.now()"
   ]
  },
  {
   "cell_type": "code",
   "execution_count": 3,
   "metadata": {},
   "outputs": [],
   "source": [
    "chrome_options = Options()  \n",
    "chrome_options.add_argument(\"--headless\")  \n",
    "chrome_options.add_argument(\"--no-sandbox\")\n",
    "\n",
    "driver = webdriver.Chrome('chromedriver', options=chrome_options)"
   ]
  },
  {
   "cell_type": "code",
   "execution_count": 4,
   "metadata": {},
   "outputs": [],
   "source": [
    "url = 'https://ncov.dxy.cn/ncovh5/view/pneumonia'\n",
    "driver.get(url)"
   ]
  },
  {
   "cell_type": "markdown",
   "metadata": {},
   "source": [
    "### Extract date"
   ]
  },
  {
   "cell_type": "code",
   "execution_count": 5,
   "metadata": {},
   "outputs": [],
   "source": [
    "content = driver.page_source\n",
    "soup =BeautifulSoup(content, 'lxml')\n"
   ]
  },
  {
   "cell_type": "code",
   "execution_count": 6,
   "metadata": {},
   "outputs": [
    {
     "data": {
      "text/plain": [
       "['try { window.getTimelineService1 = [{\"id\":14819,\"pubDate\":1585114464000,\"pubDateStr\":\"13分钟前\",\"title\":\"四部委要求做好进出湖北人员交通保障\",\"summary\":\"根据中央批准解除离鄂离汉通道管控的部署安排，交通运输部、公安部、人力资源社会保障部和国家卫生健康委24日发出通知，要求各地做好有关人员进出湖北省交通运输保障工作。\",\"infoSource\":\"央视新闻app\",\"sourceUrl\":\"http://app.cctv.com/special/cportal/detail/arti/index.html?id=Arti19iFIgVYf5TnZOLTm2ch200325&isfromapp=1\",\"provinceId\":\"\",\"entryWay\":1,\"infoType\":2,\"dataInfoState\":0,\"dataInfoOperator\":\"\",\"dataInfoTime\":1585114830000},{\"id\":14815,\"pubDate\":1585114144000,\"pubDateStr\":\"18分钟前\",\"title\":\"中国华为技术将助菲律宾检测新冠病毒\",\"summary\":\"菲律宾碧瑶市市长本杰·马加隆（ Benjie Magalong）宣布，中国华为公司的一项新技术“人工智能新型冠状病毒CT扫描分析仪”可帮助医生检测新型冠状病毒，现已在碧瑶市开始测试，并将很快在碧瑶综合医院投入使用。\",\"infoSource\":\"央视新闻app\",\"sourceUrl\":\"http://app.cctv.com/special/cportal/detail/arti/index.html?id=ArtiJwvcaZkMTy6WjlzxiPVP200325&isfromapp=1\",\"provinceId\":\"\",\"entryWay\":1,\"infoType\":2,\"dataInfoState\":0,\"dataInfoOperator\":\"\",\"dataInfoTime\":1585114584000},{\"id\":14808,\"pubDate\":1585113542000,\"pubDateStr\":\"28分钟前\",\"title\":\"哈萨克斯坦累计确诊新冠肺炎达79例\",\"summary\":\"25日，哈卫生部发布消息称，截至当地时间25日中午11时，哈当日新增7例新冠肺炎确诊病例，累计确诊79例。\",\"infoSource\":\"央视新闻app\",\"sourceUrl\":\"http://app.cctv.com/special/cportal/detail/arti/index.html?id=ArticiUfXA2ghZwCgNBuwwHv200325&isfromapp=1\",\"provinceId\":\"\",\"entryWay\":1,\"infoType\":1,\"dataInfoState\":0,\"dataInfoOperator\":\"\",\"dataInfoTime\":1585113932000},{\"id\":14805,\"pubDate\":1585112906000,\"pubDateStr\":\"39分钟前\",\"title\":\"武汉市城区疫情评估等级降为中风险\",\"summary\":\"3月25日，湖北省市县疫情风险等级评估更新。经湖北省疾控中心组织专家评估，截至3月24日24时，全省低风险市县75个，中风险市县1个，无高风险市县。\",\"infoSource\":\"央视新闻app\",\"sourceUrl\":\"http://app.cctv.com/special/cportal/detail/arti/index.html?id=ArtiqzvzyFb7MmpctnRyRnXq200325&isfromapp=1\",\"provinceId\":\"\",\"entryWay\":1,\"infoType\":2,\"dataInfoState\":0,\"dataInfoOperator\":\"\",\"dataInfoTime\":1585113341000},{\"id\":14798,\"pubDate\":1585111717000,\"pubDateStr\":\"59分钟前\",\"title\":\"\\u200b澳门25日又新增1例新冠肺炎输入病例 活动轨迹公布\",\"summary\":\"澳门新型冠状病毒感染应变协调中心25日12时表示，澳门又新增1例输入性新冠肺炎确诊病例，这是当天新增的第4例，累计确诊病例增至30例。\",\"infoSource\":\"央视新闻app\",\"sourceUrl\":\"http://app.cctv.com/special/cportal/detail/arti/index.html?id=ArtidCfn2kijSicv5HUIN1da200325&isfromapp=1\",\"provinceId\":\"\",\"entryWay\":1,\"infoType\":1,\"dataInfoState\":0,\"dataInfoOperator\":\"\",\"dataInfoTime\":1585112138000},{\"id\":14790,\"pubDate\":1585111209000,\"pubDateStr\":\"1小时前\",\"title\":\"北京3月25日0时至12时最新通报：新增境外输入确诊病例2例\",\"summary\":\"3月25日0时至12时，北京新增报告境外输入新冠肺炎确诊病例2例，其中加拿大1例、法国1例。治愈出院2例。截至3月25日12时，累计报告境外输入确诊病例145例，治愈出院病例11例。\",\"infoSource\":\"央视新闻app\",\"sourceUrl\":\"http://app.cctv.com/special/cportal/detail/arti/index.html?id=ArtiMqdOsGg9goInxA74bMEV200325&isfromapp=1\",\"provinceId\":\"\",\"entryWay\":1,\"infoType\":2,\"dataInfoState\":0,\"dataInfoOperator\":\"\",\"dataInfoTime\":1585111545000},{\"id\":14785,\"pubDate\":1585110888000,\"pubDateStr\":\"1小时前\",\"title\":\"菲律宾参议员皮门特尔确诊感染新冠肺炎\",\"summary\":\"3月25日，菲律宾参议员皮门特尔称，他于24日晚知晓自己的新冠肺炎检测结果呈阳性，确诊感染。\",\"infoSource\":\"央视新闻app\",\"sourceUrl\":\"http://app.cctv.com/special/cportal/detail/arti/index.html?id=Arti4b5QbYwLTIaVaysKSzSJ200325&isfromapp=1\",\"provinceId\":\"\",\"entryWay\":1,\"infoType\":2,\"dataInfoState\":0,\"dataInfoOperator\":\"\",\"dataInfoTime\":1585111246000},{\"id\":14782,\"pubDate\":1585110543000,\"pubDateStr\":\"1小时前\",\"title\":\"新加坡、澳大利亚、加拿大等7国发表联合声明 确保供应链联通无阻\",\"summary\":\"新加坡、澳大利亚、加拿大、文莱、缅甸、新西兰、智利7国今天（25日）发表联合声明，新冠肺炎疫情造成全球公共危机，7国面对挑战紧密合作，确保供应链联通无阻。7国在声明中表示，确保包括空运、海运在内的贸易线开放符合各方共同利益。\",\"infoSource\":\"央视新闻app\",\"sourceUrl\":\"http://app.cctv.com/special/cportal/detail/arti/index.html?id=ArtieugGsElCNsC2vKtsTgqo200325&isfromapp=1\",\"provinceId\":\"\",\"entryWay\":1,\"infoType\":2,\"dataInfoState\":0,\"dataInfoOperator\":\"\",\"dataInfoTime\":1585110931000},{\"id\":14783,\"pubDate\":1585110506000,\"pubDateStr\":\"1小时前\",\"title\":\"四川发布14号公告：终止“暂停各类群体性聚集活动”等规定\",\"summary\":\"3月25日，四川省应对新型冠状病毒肺炎疫情应急指挥部发布第14号公告称：为全面恢复低风险地区正常生产生活秩序，结合四川省疫情防控形势，决定对前期已发布公告中部分条款内容予以终止、调整或删除。\",\"infoSource\":\"央视新闻app\",\"sourceUrl\":\"http://app.cctv.com/special/cportal/detail/arti/index.html?id=ArtiG2DVFaAVIFjisxjHf60x200325&isfromapp=1\",\"provinceId\":\"\",\"entryWay\":1,\"infoType\":2,\"dataInfoState\":0,\"dataInfoOperator\":\"\",\"dataInfoTime\":1585110931000},{\"id\":14773,\"pubDate\":1585109807000,\"pubDateStr\":\"1小时前\",\"title\":\"伊朗德黑兰国际会展中心将被改造为方舱医院 可提供2000张床位\",\"summary\":\"据伊朗伊斯兰共和国通讯社报道，伊朗德黑兰国际会展中心执行总裁侯赛因扎德当地时间24日表示，该中心已经腾出2个展馆用于改建为方舱医院，可提供2000张床位，并有能力将床位数量增加到3000张。\",\"infoSource\":\"央视新闻app\",\"sourceUrl\":\"http://app.cctv.com/special/cportal/detail/arti/index.html?id=ArtiMHiXRsMBTnz69L5IFuUM200325&isfromapp=1\",\"provinceId\":\"\",\"entryWay\":1,\"infoType\":2,\"dataInfoState\":0,\"dataInfoOperator\":\"\",\"dataInfoTime\":1585110046000}]}catch(e){}',\n",
       " '截至北京时间 2020-03-25 05:27',\n",
       " '截至北京时间 2020-03-25 05:27',\n",
       " '25日，哈卫生部发布消息称，截至当地时间25日中午11时，哈当日新增7例新冠肺炎确诊病例，累计确诊79例。',\n",
       " '3月25日，湖北省市县疫情风险等级评估更新。经湖北省疾控中心组织专家评估，截至3月24日24时，全省低风险市县75个，中风险市县1个，无高风险市县。',\n",
       " '3月25日0时至12时，北京新增报告境外输入新冠肺炎确诊病例2例，其中加拿大1例、法国1例。治愈出院2例。截至3月25日12时，累计报告境外输入确诊病例145例，治愈出院病例11例。']"
      ]
     },
     "execution_count": 6,
     "metadata": {},
     "output_type": "execute_result"
    }
   ],
   "source": [
    "data = soup.findAll(text=re.compile(\"截至.+\"))\n",
    "data"
   ]
  },
  {
   "cell_type": "code",
   "execution_count": 7,
   "metadata": {},
   "outputs": [
    {
     "data": {
      "text/plain": [
       "'2020-03-25 05:27'"
      ]
     },
     "execution_count": 7,
     "metadata": {},
     "output_type": "execute_result"
    }
   ],
   "source": [
    "for s in data:\n",
    "    m = re.search(\"截至.*(202\\d-\\d+-\\d+ \\d+:\\d+)\", s)\n",
    "    if m is not None:\n",
    "        data_date_time = m.group(1)\n",
    "data_date_time"
   ]
  },
  {
   "cell_type": "markdown",
   "metadata": {},
   "source": [
    "### Extract data (summary)"
   ]
  },
  {
   "cell_type": "code",
   "execution_count": 8,
   "metadata": {},
   "outputs": [
    {
     "data": {
      "text/plain": [
       "['try { window.getStatisticsService = {\"id\":1,\"createTime\":1579537899000,\"modifyTime\":1585114068000,\"infectSource\":\"该字段已替换为说明2\",\"passWay\":\"该字段已替换为说明3\",\"imgUrl\":\"https://img1.dxycdn.com/2020/0201/450/3394153392393266839-135.png\",\"dailyPic\":\"https://img1.dxycdn.com/2020/0211/763/3395998884005602079-135.png,https://img1.dxycdn.com/2020/0211/362/3395998896890788910-135.png,https://img1.dxycdn.com/2020/0211/365/3395998905480724211-135.png,https://img1.dxycdn.com/2020/0211/364/3395998916217859778-135.png,https://img1.dxycdn.com/2020/0211/922/3395998929103046444-135.png,https://img1.dxycdn.com/2020/0211/089/3395998939840182072-135.png\",\"dailyPics\":[\"https://img1.dxycdn.com/2020/0211/763/3395998884005602079-135.png\",\"https://img1.dxycdn.com/2020/0211/362/3395998896890788910-135.png\",\"https://img1.dxycdn.com/2020/0211/365/3395998905480724211-135.png\",\"https://img1.dxycdn.com/2020/0211/364/3395998916217859778-135.png\",\"https://img1.dxycdn.com/2020/0211/922/3395998929103046444-135.png\",\"https://img1.dxycdn.com/2020/0211/089/3395998939840182072-135.png\"],\"summary\":\"\",\"deleted\":false,\"countRemark\":\"\",\"currentConfirmedCount\":4769,\"confirmedCount\":81847,\"suspectedCount\":474,\"curedCount\":73791,\"deadCount\":3287,\"seriousCount\":1399,\"suspectedIncr\":47,\"currentConfirmedIncr\":-396,\"confirmedIncr\":100,\"curedIncr\":492,\"deadIncr\":4,\"seriousIncr\":-174,\"virus\":\"该字段已替换为说明1\",\"remark1\":\"易感人群：人群普遍易感。老年人及有基础疾病者感染后病情较重，儿童及婴幼儿也有发病\",\"remark2\":\"潜伏期：一般为 3～7 天，最长不超过 14 天，潜伏期内可能存在传染性，其中无症状病例传染性非常罕见\",\"remark3\":\"宿主：野生动物，可能为中华菊头蝠\",\"remark4\":\"\",\"remark5\":\"\",\"note1\":\"病毒：SARS-CoV-2，其导致疾病命名 COVID-19\",\"note2\":\"传染源：新冠肺炎的患者。无症状感染者也可能成为传染源。\",\"note3\":\"传播途径：经呼吸道飞沫、接触传播是主要的传播途径。气溶胶传播和消化道等传播途径尚待明确。\",\"generalRemark\":\"1. 3 月 12 日国家卫健委确诊补订遗漏 12 例确诊病例（非 12 日新增），暂无具体省份信息。 2. 浙江省 12 例外省治愈暂无具体省份信息。\",\"abroadRemark\":\"\",\"marquee\":[{\"id\":1725,\"marqueeLabel\":\"拉动内需\",\"marqueeContent\":\"浙江等多地鼓励每周休息 2.5 天\",\"marqueeLink\":\"https://dxy.me/YIjDkN\"},{\"id\":1726,\"marqueeLabel\":\"武汉\",\"marqueeContent\":\"新增 1 例确诊是省人民医院医生\",\"marqueeLink\":\"https://dxy.me/yYvwND\"},{\"id\":1727,\"marqueeLabel\":\"美国\",\"marqueeContent\":\"疫情蔓延，哈佛大学校长夫妇确诊新冠\",\"marqueeLink\":\"https://dxy.me/Ptgr0x\"}],\"quanguoTrendChart\":[{\"imgUrl\":\"https://img1.dxycdn.com/2020/0324/278/3403801351376518263-135.png\",\"title\":\"新增疑似/新增确诊\"},{\"imgUrl\":\"https://img1.dxycdn.com/2020/0324/812/3403847865872006755-135.png\",\"title\":\"境外输入\"},{\"imgUrl\":\"https://img1.dxycdn.com/2020/0324/547/3403847848692336947-135.png\",\"title\":\"现存确诊\"},{\"imgUrl\":\"https://img1.dxycdn.com/2020/0324/775/3403801407211095604-135.png\",\"title\":\"治愈\"},{\"imgUrl\":\"https://img1.dxycdn.com/2020/0324/250/3403801424390727199-135.png\",\"title\":\"死亡\"}],\"hbFeiHbTrendChart\":[{\"imgUrl\":\"https://img1.dxycdn.com/2020/0325/741/3403976603221840149-135.png\",\"title\":\"非湖北新增确诊\"},{\"imgUrl\":\"https://img1.dxycdn.com/2020/0325/960/3403975761408398645-135.png\",\"title\":\"湖北新增确诊\"},{\"imgUrl\":\"https://img1.dxycdn.com/2020/0325/018/3403975785030543028-135.png\",\"title\":\"湖北现存确诊\"},{\"imgUrl\":\"https://img1.dxycdn.com/2020/0325/656/3403975810800347601-135.png\",\"title\":\"非湖北现存确诊\"},{\"imgUrl\":\"https://img1.dxycdn.com/2020/0325/340/3403975838717812269-135.png\",\"title\":\"治愈/死亡\"}],\"foreignTrendChart\":[{\"imgUrl\":\"https://img1.dxycdn.com/2020/0320/702/3403079914982117944-135.png\",\"title\":\"国外新增确诊\"},{\"imgUrl\":\"https://img1.dxycdn.com/2020/0320/396/3403079925719536561-135.png\",\"title\":\"国外累计确诊\"},{\"imgUrl\":\"https://img1.dxycdn.com/2020/0320/139/3403079936457225524-135.png\",\"title\":\"国外死亡\"}],\"importantForeignTrendChart\":[{\"imgUrl\":\"https://img1.dxycdn.com/2020/0320/450/3403077453965772423-135.png\",\"title\":\"重点国家新增确诊\"},{\"imgUrl\":\"https://img1.dxycdn.com/2020/0320/276/3403077462555980566-135.png\",\"title\":\"日本新增确诊\"},{\"imgUrl\":\"https://img1.dxycdn.com/2020/0320/340/3403077473293125942-135.png\",\"title\":\"意大利新增确诊\"},{\"imgUrl\":\"https://img1.dxycdn.com/2020/0320/723/3403077481883334043-135.png\",\"title\":\"伊朗新增确诊\"},{\"imgUrl\":\"https://img1.dxycdn.com/2020/0320/266/3403077492620752785-135.png\",\"title\":\"美国新增确诊\"},{\"imgUrl\":\"https://img1.dxycdn.com/2020/0320/870/3403077503358171278-135.png\",\"title\":\"法国新增确诊\"},{\"imgUrl\":\"https://img1.dxycdn.com/2020/0320/053/3403077511947832997-135.png\",\"title\":\"德国新增确诊\"},{\"imgUrl\":\"https://img1.dxycdn.com/2020/0320/878/3403077520537768006-135.png\",\"title\":\"西班牙新增确诊\"},{\"imgUrl\":\"https://img1.dxycdn.com/2020/0320/443/3403077531275186665-135.png\",\"title\":\"韩国新增确诊\"}],\"foreignTrendChartGlobal\":[{\"imgUrl\":\"https://img1.dxycdn.com/2020/0319/740/3402859458605738923-135.png\",\"title\":\"Daily New Cases\"},{\"imgUrl\":\"https://img1.dxycdn.com/2020/0319/351/3402856772103846114-135.png\",\"title\":\"Total Confirmed Cases\"},{\"imgUrl\":\"https://img1.dxycdn.com/2020/0319/236/3402856782841001789-135.png\",\"title\":\"Total Deaths Cases\"}],\"importantForeignTrendChartGlobal\":[{\"imgUrl\":\"https://img1.dxycdn.com/2020/0319/122/3402856838675578578-135.png\",\"title\":\"Daily New Cases\"},{\"imgUrl\":\"https://img1.dxycdn.com/2020/0319/685/3402856849412997239-135.png\",\"title\":\"Japan\"},{\"imgUrl\":\"https://img1.dxycdn.com/2020/0319/477/3402856860150678804-135.png\",\"title\":\"Italy\"},{\"imgUrl\":\"https://img1.dxycdn.com/2020/0319/454/3402856873035581014-135.png\",\"title\":\"Iran\"},{\"imgUrl\":\"https://img1.dxycdn.com/2020/0319/022/3402856883772999714-135.png\",\"title\":\"U.S.A.\"},{\"imgUrl\":\"https://img1.dxycdn.com/2020/0319/529/3402856894510155506-135.png\",\"title\":\"France\"},{\"imgUrl\":\"https://img1.dxycdn.com/2020/0319/211/3402856905247574064-135.png\",\"title\":\"Germany\"},{\"imgUrl\":\"https://img1.dxycdn.com/2020/0319/054/3402856913837508985-135.png\",\"title\":\"Spain\"},{\"imgUrl\":\"https://img1.dxycdn.com/2020/0319/088/3402856928870157852-135.png\",\"title\":\"Republic of Korea\"}],\"foreignStatistics\":{\"currentConfirmedCount\":287859,\"confirmedCount\":337861,\"suspectedCount\":4,\"curedCount\":34486,\"deadCount\":15516,\"suspectedIncr\":0,\"currentConfirmedIncr\":1567,\"confirmedIncr\":1895,\"curedIncr\":242,\"deadIncr\":86},\"globalStatistics\":{\"currentConfirmedCount\":292628,\"confirmedCount\":419708,\"curedCount\":108277,\"deadCount\":18803,\"currentConfirmedIncr\":1171,\"confirmedIncr\":1995,\"curedIncr\":734,\"deadIncr\":90},\"globalOtherTrendChartData\":\"https://file1.dxycdn.com/2020/0325/690/3403979839479981647-135.json\"}}catch(e){}']"
      ]
     },
     "execution_count": 8,
     "metadata": {},
     "output_type": "execute_result"
    }
   ],
   "source": [
    "data = soup.findAll(text=re.compile('\\\"summary.+\\\"confirmedCount\\\":\\d'))\n",
    "\n",
    "data\n"
   ]
  },
  {
   "cell_type": "code",
   "execution_count": 9,
   "metadata": {},
   "outputs": [],
   "source": [
    "m = re.search('\\\"confirmedCount\\\":(\\d+)', data[0])\n",
    "summary_confirmed_count = int(m.group(1))\n",
    "\n",
    "\n",
    "m = re.search('\\\"curedCount\\\":(\\d+)', data[0])\n",
    "summary_cured_count = int(m.group(1))\n",
    "\n",
    "m = re.search('\\\"deadCount\\\":(\\d+)', data[0])\n",
    "summary_dead_count = int(m.group(1))\n"
   ]
  },
  {
   "cell_type": "code",
   "execution_count": 10,
   "metadata": {},
   "outputs": [
    {
     "data": {
      "text/html": [
       "<div>\n",
       "<style scoped>\n",
       "    .dataframe tbody tr th:only-of-type {\n",
       "        vertical-align: middle;\n",
       "    }\n",
       "\n",
       "    .dataframe tbody tr th {\n",
       "        vertical-align: top;\n",
       "    }\n",
       "\n",
       "    .dataframe thead th {\n",
       "        text-align: right;\n",
       "    }\n",
       "</style>\n",
       "<table border=\"1\" class=\"dataframe\">\n",
       "  <thead>\n",
       "    <tr style=\"text-align: right;\">\n",
       "      <th></th>\n",
       "      <th>datetime</th>\n",
       "      <th>confirmed</th>\n",
       "      <th>cured</th>\n",
       "      <th>dead</th>\n",
       "    </tr>\n",
       "  </thead>\n",
       "  <tbody>\n",
       "    <tr>\n",
       "      <th>0</th>\n",
       "      <td>2020-03-25 05:27</td>\n",
       "      <td>81847</td>\n",
       "      <td>73791</td>\n",
       "      <td>3287</td>\n",
       "    </tr>\n",
       "  </tbody>\n",
       "</table>\n",
       "</div>"
      ],
      "text/plain": [
       "           datetime  confirmed  cured  dead\n",
       "0  2020-03-25 05:27      81847  73791  3287"
      ]
     },
     "execution_count": 10,
     "metadata": {},
     "output_type": "execute_result"
    }
   ],
   "source": [
    "# make a dataframe\n",
    "df = pd.DataFrame({\n",
    "    'datetime': data_date_time,\n",
    "    'confirmed': summary_confirmed_count,\n",
    "    'cured': summary_cured_count,\n",
    "    'dead': summary_dead_count\n",
    "}, index=[0])\n",
    "df"
   ]
  },
  {
   "cell_type": "markdown",
   "metadata": {},
   "source": [
    "### Save to file"
   ]
  },
  {
   "cell_type": "code",
   "execution_count": 11,
   "metadata": {},
   "outputs": [],
   "source": [
    "from pathlib import Path\n",
    "csv_file = '../data/china-summary-cases.csv'\n",
    "\n",
    "if Path(csv_file).exists():\n",
    "    # read out the old data - then merge with new data and remove duplicates based on datetime\n",
    "    old_df = pd.read_csv(csv_file)\n",
    "    df = df.append(old_df)\n",
    "df.drop_duplicates(subset=['datetime'], inplace=True)"
   ]
  },
  {
   "cell_type": "code",
   "execution_count": 12,
   "metadata": {},
   "outputs": [],
   "source": [
    "df.sort_values(by=['datetime'], inplace=True)\n",
    "\n",
    "df.to_csv(csv_file, index=False)\n"
   ]
  },
  {
   "cell_type": "markdown",
   "metadata": {},
   "source": [
    "### Plot graph"
   ]
  },
  {
   "cell_type": "code",
   "execution_count": 13,
   "metadata": {},
   "outputs": [],
   "source": [
    "import seaborn as sns\n",
    "import matplotlib.pyplot as plt\n",
    "from pandas.plotting import register_matplotlib_converters\n",
    "register_matplotlib_converters()\n",
    "\n",
    "png_file = '../images/china-summary-cases.png'\n",
    "# convert to pd.datetime\n",
    "df['datetime_idx'] = pd.to_datetime(df['datetime'], format=\"%Y-%m-%d %H:%M\")\n",
    "\n",
    "df.set_index('datetime_idx', inplace=True)\n",
    "df.drop(['datetime'], axis=1, inplace=True)\n"
   ]
  },
  {
   "cell_type": "code",
   "execution_count": 14,
   "metadata": {},
   "outputs": [
    {
     "data": {
      "text/html": [
       "<div>\n",
       "<style scoped>\n",
       "    .dataframe tbody tr th:only-of-type {\n",
       "        vertical-align: middle;\n",
       "    }\n",
       "\n",
       "    .dataframe tbody tr th {\n",
       "        vertical-align: top;\n",
       "    }\n",
       "\n",
       "    .dataframe thead th {\n",
       "        text-align: right;\n",
       "    }\n",
       "</style>\n",
       "<table border=\"1\" class=\"dataframe\">\n",
       "  <thead>\n",
       "    <tr style=\"text-align: right;\">\n",
       "      <th></th>\n",
       "      <th>confirmed</th>\n",
       "      <th>cured</th>\n",
       "      <th>dead</th>\n",
       "    </tr>\n",
       "    <tr>\n",
       "      <th>datetime_idx</th>\n",
       "      <th></th>\n",
       "      <th></th>\n",
       "      <th></th>\n",
       "    </tr>\n",
       "  </thead>\n",
       "  <tbody>\n",
       "    <tr>\n",
       "      <th>2020-02-02 10:22:00</th>\n",
       "      <td>14483</td>\n",
       "      <td>379</td>\n",
       "      <td>304</td>\n",
       "    </tr>\n",
       "    <tr>\n",
       "      <th>2020-02-02 10:28:00</th>\n",
       "      <td>14483</td>\n",
       "      <td>380</td>\n",
       "      <td>304</td>\n",
       "    </tr>\n",
       "    <tr>\n",
       "      <th>2020-02-02 11:19:00</th>\n",
       "      <td>14489</td>\n",
       "      <td>385</td>\n",
       "      <td>304</td>\n",
       "    </tr>\n",
       "    <tr>\n",
       "      <th>2020-02-02 11:54:00</th>\n",
       "      <td>14489</td>\n",
       "      <td>397</td>\n",
       "      <td>304</td>\n",
       "    </tr>\n",
       "    <tr>\n",
       "      <th>2020-02-02 15:01:00</th>\n",
       "      <td>14490</td>\n",
       "      <td>430</td>\n",
       "      <td>304</td>\n",
       "    </tr>\n",
       "    <tr>\n",
       "      <th>...</th>\n",
       "      <td>...</td>\n",
       "      <td>...</td>\n",
       "      <td>...</td>\n",
       "    </tr>\n",
       "    <tr>\n",
       "      <th>2020-03-25 00:24:00</th>\n",
       "      <td>81810</td>\n",
       "      <td>73304</td>\n",
       "      <td>3283</td>\n",
       "    </tr>\n",
       "    <tr>\n",
       "      <th>2020-03-25 02:02:00</th>\n",
       "      <td>81846</td>\n",
       "      <td>73791</td>\n",
       "      <td>3287</td>\n",
       "    </tr>\n",
       "    <tr>\n",
       "      <th>2020-03-25 02:42:00</th>\n",
       "      <td>81846</td>\n",
       "      <td>73791</td>\n",
       "      <td>3287</td>\n",
       "    </tr>\n",
       "    <tr>\n",
       "      <th>2020-03-25 03:50:00</th>\n",
       "      <td>81847</td>\n",
       "      <td>73791</td>\n",
       "      <td>3287</td>\n",
       "    </tr>\n",
       "    <tr>\n",
       "      <th>2020-03-25 05:27:00</th>\n",
       "      <td>81847</td>\n",
       "      <td>73791</td>\n",
       "      <td>3287</td>\n",
       "    </tr>\n",
       "  </tbody>\n",
       "</table>\n",
       "<p>789 rows × 3 columns</p>\n",
       "</div>"
      ],
      "text/plain": [
       "                     confirmed  cured  dead\n",
       "datetime_idx                               \n",
       "2020-02-02 10:22:00      14483    379   304\n",
       "2020-02-02 10:28:00      14483    380   304\n",
       "2020-02-02 11:19:00      14489    385   304\n",
       "2020-02-02 11:54:00      14489    397   304\n",
       "2020-02-02 15:01:00      14490    430   304\n",
       "...                        ...    ...   ...\n",
       "2020-03-25 00:24:00      81810  73304  3283\n",
       "2020-03-25 02:02:00      81846  73791  3287\n",
       "2020-03-25 02:42:00      81846  73791  3287\n",
       "2020-03-25 03:50:00      81847  73791  3287\n",
       "2020-03-25 05:27:00      81847  73791  3287\n",
       "\n",
       "[789 rows x 3 columns]"
      ]
     },
     "execution_count": 14,
     "metadata": {},
     "output_type": "execute_result"
    }
   ],
   "source": [
    "df"
   ]
  },
  {
   "cell_type": "code",
   "execution_count": 15,
   "metadata": {
    "scrolled": true
   },
   "outputs": [
    {
     "data": {
      "image/png": "[encoded data removed]",
      "text/plain": [
       "<Figure size 1008x1008 with 3 Axes>"
      ]
     },
     "metadata": {},
     "output_type": "display_data"
    }
   ],
   "source": [
    "if df.shape[0]>1:\n",
    "    # line chart when having at least a few points\n",
    "    sns.set(rc={'figure.figsize':(14,14)})\n",
    "    sns.set(style=\"whitegrid\")\n",
    "\n",
    "    fig, axs = plt.subplots(nrows=3)\n",
    "\n",
    "    sns.lineplot(x=df.index, y = 'confirmed', data=df, ax= axs[0], estimator=None, color='orange')\n",
    "    sns.lineplot(x=df.index, y = 'cured', data=df, ax= axs[1], estimator=None, color='green')\n",
    "    sns.lineplot(x=df.index, y = 'dead', data=df, ax= axs[2], estimator=None, color='darkred')\n",
    "\n",
    "    for ax in axs:\n",
    "        ax.set_xlabel('')\n",
    "        ax.tick_params(axis='x', labelrotation=30)\n",
    "else:\n",
    "\n",
    "    ax = df.plot(kind='bar', stacked=True, figsize=(9,6))\n",
    "    fig = ax.get_figure()\n",
    "    ax.set_xlabel('')\n",
    "    for label in ax.get_xticklabels():\n",
    "        label.set_rotation(0) \n"
   ]
  },
  {
   "cell_type": "code",
   "execution_count": 16,
   "metadata": {},
   "outputs": [],
   "source": [
    "fig.savefig(png_file)"
   ]
  },
  {
   "cell_type": "code",
   "execution_count": null,
   "metadata": {},
   "outputs": [],
   "source": []
  },
  {
   "cell_type": "code",
   "execution_count": null,
   "metadata": {},
   "outputs": [],
   "source": []
  }
 ],
 "metadata": {
  "kernelspec": {
   "display_name": "Python 3",
   "language": "python",
   "name": "python3"
  },
  "language_info": {
   "codemirror_mode": {
    "name": "ipython",
    "version": 3
   },
   "file_extension": ".py",
   "mimetype": "text/x-python",
   "name": "python",
   "nbconvert_exporter": "python",
   "pygments_lexer": "ipython3",
   "version": "3.7.6"
  }
 },
 "nbformat": 4,
 "nbformat_minor": 2
}
